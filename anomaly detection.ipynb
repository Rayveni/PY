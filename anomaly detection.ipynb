{
 "cells": [
  {
   "cell_type": "markdown",
   "metadata": {},
   "source": [
    "# Anomaly detection\n"
   ]
  },
  {
   "cell_type": "code",
   "execution_count": 1,
   "metadata": {
    "collapsed": false,
    "scrolled": true
   },
   "outputs": [],
   "source": [
    "from sqlplusapi import SqlPlus #/вычислить-выбросы\n",
    "import pandas as pd\n",
    "from utilites import read_excel,save_to_excel\n",
    "from os import path,listdir,environ,mkdir\n",
    "from functools import partial\n",
    "import numpy as np\n",
    "import scipy.stats as st\n",
    "from sklearn.cluster import KMeans\n",
    "from sklearn.svm import OneClassSVM\n",
    "%matplotlib inline \n",
    "#from subprocess import call # MSK-M1-N5-2project.write_query()\n",
    "#call('sqlplus -S cash/suffolk@ORAHCNV.NTDOMAIN.PRK @C:\\\\Reports\\\\anomalydetection\\\\day\\\\tempsql.sql >>C:\\\\Reports\\\\anomalydetection\\\\day\\\\1.csv', shell=True)"
   ]
  },
  {
   "cell_type": "code",
   "execution_count": 2,
   "metadata": {
    "collapsed": false
   },
   "outputs": [
    {
     "name": "stderr",
     "output_type": "stream",
     "text": [
      "INFO:root: Project initialisation (2017-02-20 11:25:45; sqlplusapi.py:37)\n"
     ]
    }
   ],
   "source": [
    "environ['NLS_LANG']='RUSSIAN_CIS.CL8MSWIN1251'\n",
    "project_path=r'C:\\Reports\\anomalydetection\\day'\n",
    "project=SqlPlus(project_path,printlog=True) #projectdirectory,delimiter='|',sql_plus_options_new=None,printlog=False"
   ]
  },
  {
   "cell_type": "markdown",
   "metadata": {},
   "source": [
    "первым запросом вытащим чеки с ручным вводом (66)<br> вторым запрос вытащим чеки со скидкой"
   ]
  },
  {
   "cell_type": "code",
   "execution_count": 3,
   "metadata": {
    "collapsed": false
   },
   "outputs": [],
   "source": [
    "#sqlpath=r'C:\\Scripts\\SQL\\anomaly.sql'\n",
    "\n",
    "sqlpath2=r'C:\\Scripts\\SQL\\anomaly_day.sql'\n",
    "query_params={'BegPeriod':\"'13.02.2017'\",'EndPeriod':\"'20.02.2017'\"\n",
    "              }\n",
    "\n",
    "query_params_day={'BegPeriod':\"'19.02.2017'\",'EndPeriod':\"'20.02.2017'\"\n",
    "                  #,'filter':\"'and d.id_plu in (3270434,3270432,26764,1860,3289442,22248,2137723,3405362,3226024,3226021)'\"\n",
    "                  #'filter':''\n",
    "              }\n",
    "#query=project.set_sql_query(query_params,sqlpath)\n",
    "query=project.set_sql_query(query_params_day,sqlpath2)\n",
    "#project.printlines(query_2)#project.write_query(query=query)"
   ]
  },
  {
   "cell_type": "markdown",
   "metadata": {},
   "source": [
    "Получаем Oracle id магазинов (из excel файла выбираем первый столбец и преобразуем в строку)"
   ]
  },
  {
   "cell_type": "code",
   "execution_count": 4,
   "metadata": {
    "collapsed": false
   },
   "outputs": [],
   "source": [
    "depart_codes_path='C:\\Scripts\\Dictionaries\\departmentcodes.xlsx'\n",
    "product_codes_path=r'C:\\Scripts\\Dictionaries\\prod_short.xlsx'\n",
    "read_excel(pd,depart_codes_path)\n",
    "department_codes=list((read_excel(pd,depart_codes_path).ix[:,0]).apply(str))\n",
    "\n",
    "conn_string=lambda department_name: \"%s/%s@%s\"% (\"cash\",\"suffolk\",\"ORA%s.NTDOMAIN.PRK\"%department_name)"
   ]
  },
  {
   "cell_type": "markdown",
   "metadata": {},
   "source": [
    "### Загружаем себестоимость"
   ]
  },
  {
   "cell_type": "code",
   "execution_count": null,
   "metadata": {
    "collapsed": false
   },
   "outputs": [],
   "source": [
    "df_cost=pd.read_csv(r'C:\\Reports\\anomalydetection\\day\\cost.csv',sep=';',encoding='utf-8')\n",
    "df_cost.columns=['ID_PLU','store','cost','qty']\n",
    "df_cost['cost']=df_cost['cost'].apply(lambda x:np.float(x.strip().replace(',','.')))\n",
    "df_cost['qty']=df_cost['qty'].apply(lambda x:np.float(x.strip().replace(',','.')))\n",
    "df_cost['cost']=df_cost['cost']/df_cost['qty']\n",
    "df_cost.drop('qty', axis=1, inplace=True)\n",
    "df_cost.head(3)"
   ]
  },
  {
   "cell_type": "code",
   "execution_count": null,
   "metadata": {
    "collapsed": false
   },
   "outputs": [],
   "source": [
    "df_cost.head(3)"
   ]
  },
  {
   "cell_type": "code",
   "execution_count": null,
   "metadata": {
    "collapsed": false
   },
   "outputs": [],
   "source": [
    "df_cost[df_cost['ID_PLU']==57647]"
   ]
  },
  {
   "cell_type": "markdown",
   "metadata": {},
   "source": [
    "## Запускаем асинхронные потоки для выгрузки данных"
   ]
  },
  {
   "cell_type": "code",
   "execution_count": 5,
   "metadata": {
    "collapsed": false
   },
   "outputs": [
    {
     "data": {
      "text/plain": [
       "'C:\\\\Reports\\\\anomalydetection\\\\day\\\\load'"
      ]
     },
     "execution_count": 5,
     "metadata": {},
     "output_type": "execute_result"
    }
   ],
   "source": [
    "load_path=project.default_loaddirectory\n",
    "load_path"
   ]
  },
  {
   "cell_type": "code",
   "execution_count": 6,
   "metadata": {
    "collapsed": false,
    "scrolled": false
   },
   "outputs": [
    {
     "name": "stderr",
     "output_type": "stream",
     "text": [
      "INFO:root: Created load directory C:\\Reports\\anomalydetection\\day\\load, content removed (2017-02-20 11:25:58; sqlplusapi.py:68)\n",
      "INFO:root: Start ThreadPool: threads:96 async:True (2017-02-20 11:25:58; sqlplusapi.py:95)\n",
      "INFO:root: Finished ThreadPool: threads:96 async:True (2017-02-20 11:30:54; sqlplusapi.py:107)\n"
     ]
    },
    {
     "name": "stdout",
     "output_type": "stream",
     "text": [
      "Wall time: 4min 56s\n"
     ]
    }
   ],
   "source": [
    "%%time\n",
    "project.prepareload(load_path)\n",
    "\n",
    "#оборачиваем функцию выгрузки данных для распараллеливания\n",
    "def worker(load_dir,sql_q,department_oraname):\n",
    "    savepath_w=path.join(load_dir,'%s.csv'%department_oraname)\n",
    "    project.FetchData(conn_string(department_oraname),savepath_w,sql_q)\n",
    "    \n",
    "\n",
    "worker=partial(worker,load_path,query)\n",
    "\n",
    "\n",
    "project.ThreadPool(worker,department_codes)\n",
    "#project.ThreadPool(worker_2,department_codes)"
   ]
  },
  {
   "cell_type": "code",
   "execution_count": 39,
   "metadata": {
    "collapsed": false
   },
   "outputs": [
    {
     "name": "stdout",
     "output_type": "stream",
     "text": [
      "Wall time: 9.13 s\n"
     ]
    }
   ],
   "source": [
    "%%time\n",
    "fetched_data_list=lambda savepath:list(map(lambda x:[path.splitext(x)[0],path.join(savepath,x)],\n",
    "                           [f for f in listdir(savepath) if 'error_' not in f]))\n",
    "\n",
    "df=pd.concat(list(map(project.read_loaded_csv,fetched_data_list(load_path))))"
   ]
  },
  {
   "cell_type": "code",
   "execution_count": 40,
   "metadata": {
    "collapsed": false
   },
   "outputs": [
    {
     "name": "stdout",
     "output_type": "stream",
     "text": [
      "<class 'pandas.core.frame.DataFrame'>\n",
      "Int64Index: 3149791 entries, 0 to 37436\n",
      "Data columns (total 8 columns):\n",
      "   ID_PAYDESK    int64\n",
      "    ID_HEADER    object\n",
      "       ID_PLU    int64\n",
      "     TOTALSUM    object\n",
      "          QTY    object\n",
      "   CORRECTION    object\n",
      "DATE_TIME        object\n",
      "filename         object\n",
      "dtypes: int64(2), object(6)\n",
      "memory usage: 216.3+ MB\n"
     ]
    }
   ],
   "source": [
    "df.info()"
   ]
  },
  {
   "cell_type": "code",
   "execution_count": 41,
   "metadata": {
    "collapsed": false
   },
   "outputs": [
    {
     "name": "stdout",
     "output_type": "stream",
     "text": [
      "Wall time: 17.1 s\n"
     ]
    }
   ],
   "source": [
    "%%time\n",
    "df.columns=list(map(lambda s:s.strip(),df.columns.values))\n",
    "df['QTY']=df['QTY'].apply(lambda x:np.float(x.strip().replace(',','.')))\n",
    "df['TOTALSUM']=df['TOTALSUM'].apply(lambda x:np.float(x.strip().replace(',','.')))\n",
    "#df['PRICE']=df['PRICE'].apply(lambda x:np.float(x.strip().replace(',','.')))\n",
    "df['CORRECTION']=df['CORRECTION'].apply(lambda x:np.float(x.strip().replace(',','.')))\n",
    "#df[\"DATE_TIME\"] = pd.to_datetime(df[\"DATE_TIME\"])\n",
    "#df['plu_sum']=df['PRICE']*df['QTY']\n",
    "df['cor_sum']=df['CORRECTION']*df['QTY']\n",
    "#df.drop_duplicates(inplace=True)"
   ]
  },
  {
   "cell_type": "code",
   "execution_count": 42,
   "metadata": {
    "collapsed": false
   },
   "outputs": [
    {
     "data": {
      "text/html": [
       "<div>\n",
       "<table border=\"1\" class=\"dataframe\">\n",
       "  <thead>\n",
       "    <tr style=\"text-align: right;\">\n",
       "      <th></th>\n",
       "      <th>ID_PAYDESK</th>\n",
       "      <th>ID_HEADER</th>\n",
       "      <th>ID_PLU</th>\n",
       "      <th>TOTALSUM</th>\n",
       "      <th>QTY</th>\n",
       "      <th>CORRECTION</th>\n",
       "      <th>DATE_TIME</th>\n",
       "      <th>filename</th>\n",
       "      <th>cor_sum</th>\n",
       "    </tr>\n",
       "  </thead>\n",
       "  <tbody>\n",
       "    <tr>\n",
       "      <th>0</th>\n",
       "      <td>1</td>\n",
       "      <td>1465416</td>\n",
       "      <td>3211788</td>\n",
       "      <td>95.0</td>\n",
       "      <td>1.0</td>\n",
       "      <td>0.00</td>\n",
       "      <td>19/02/2017 09:17:28</td>\n",
       "      <td>2X</td>\n",
       "      <td>0.00</td>\n",
       "    </tr>\n",
       "    <tr>\n",
       "      <th>1</th>\n",
       "      <td>16</td>\n",
       "      <td>508399</td>\n",
       "      <td>3244868</td>\n",
       "      <td>194.0</td>\n",
       "      <td>1.0</td>\n",
       "      <td>-0.03</td>\n",
       "      <td>19/02/2017 09:23:39</td>\n",
       "      <td>2X</td>\n",
       "      <td>-0.03</td>\n",
       "    </tr>\n",
       "    <tr>\n",
       "      <th>2</th>\n",
       "      <td>16</td>\n",
       "      <td>508400</td>\n",
       "      <td>3441471</td>\n",
       "      <td>12.9</td>\n",
       "      <td>1.0</td>\n",
       "      <td>0.00</td>\n",
       "      <td>19/02/2017 09:26:18</td>\n",
       "      <td>2X</td>\n",
       "      <td>0.00</td>\n",
       "    </tr>\n",
       "  </tbody>\n",
       "</table>\n",
       "</div>"
      ],
      "text/plain": [
       "   ID_PAYDESK ID_HEADER   ID_PLU  TOTALSUM  QTY  CORRECTION  \\\n",
       "0           1   1465416  3211788      95.0  1.0        0.00   \n",
       "1          16    508399  3244868     194.0  1.0       -0.03   \n",
       "2          16    508400  3441471      12.9  1.0        0.00   \n",
       "\n",
       "             DATE_TIME filename  cor_sum  \n",
       "0  19/02/2017 09:17:28       2X     0.00  \n",
       "1  19/02/2017 09:23:39       2X    -0.03  \n",
       "2  19/02/2017 09:26:18       2X     0.00  "
      ]
     },
     "execution_count": 42,
     "metadata": {},
     "output_type": "execute_result"
    }
   ],
   "source": [
    "df.head(3)"
   ]
  },
  {
   "cell_type": "code",
   "execution_count": 43,
   "metadata": {
    "collapsed": false
   },
   "outputs": [
    {
     "data": {
      "text/html": [
       "<div>\n",
       "<table border=\"1\" class=\"dataframe\">\n",
       "  <thead>\n",
       "    <tr style=\"text-align: right;\">\n",
       "      <th></th>\n",
       "      <th>filename</th>\n",
       "      <th>Назв. Магазина</th>\n",
       "      <th>store</th>\n",
       "    </tr>\n",
       "  </thead>\n",
       "  <tbody>\n",
       "    <tr>\n",
       "      <th>0</th>\n",
       "      <td>SM</td>\n",
       "      <td>Парк-Хаус</td>\n",
       "      <td>1001</td>\n",
       "    </tr>\n",
       "    <tr>\n",
       "      <th>1</th>\n",
       "      <td>VG</td>\n",
       "      <td>Волгоград-Сити</td>\n",
       "      <td>1002</td>\n",
       "    </tr>\n",
       "    <tr>\n",
       "      <th>2</th>\n",
       "      <td>HF</td>\n",
       "      <td>Фуражная</td>\n",
       "      <td>1004</td>\n",
       "    </tr>\n",
       "  </tbody>\n",
       "</table>\n",
       "</div>"
      ],
      "text/plain": [
       "  filename  Назв. Магазина  store\n",
       "0       SM       Парк-Хаус   1001\n",
       "1       VG  Волгоград-Сити   1002\n",
       "2       HF        Фуражная   1004"
      ]
     },
     "execution_count": 43,
     "metadata": {},
     "output_type": "execute_result"
    }
   ],
   "source": [
    "hypermarkets=read_excel(pd,depart_codes_path)[['Код Oracle','Назв. Магазина','Завод']]\n",
    "hypermarkets.columns=['filename','Назв. Магазина','store']\n",
    "#df=pd.merge(df, hypermarkets[['Код Oracle','Назв. Магазина','Завод']], left_on='filename', right_on='Код Oracle')\n",
    "hypermarkets.head(3)"
   ]
  },
  {
   "cell_type": "code",
   "execution_count": 44,
   "metadata": {
    "collapsed": false
   },
   "outputs": [
    {
     "data": {
      "text/plain": [
       "array([3277894, 3276880, 2163677,   81514, 3166627, 3463294,    3068,\n",
       "       2072272,     552, 3481619,   80185, 2089823,   17898, 2053835,\n",
       "       3500209], dtype=int64)"
      ]
     },
     "execution_count": 44,
     "metadata": {},
     "output_type": "execute_result"
    }
   ],
   "source": [
    "plu_list=df[df['TOTALSUM']>10000] ['ID_PLU'].unique()\n",
    "plu_list"
   ]
  },
  {
   "cell_type": "markdown",
   "metadata": {},
   "source": [
    "### Алгоритмы Тьюки"
   ]
  },
  {
   "cell_type": "markdown",
   "metadata": {},
   "source": [
    "http://ru.wikihow.com/%D0%B2%D1%8B%D1%87%D0%B8%D1%81%D0%BB%D0%B8%D1%82%D1%8C-%D0%B2%D1%8B%D0%B1%D1%80%D0%BE%D1%81%D1%8B\n",
    "1. считаем интервартильный диапазон (по сути дисперсию, очищенную от выбросов)\n",
    "2. считаем внутренними границами набора данных интерквартильный диапазон *1,5, внешними -//- *3 прибавленный к икв диапазону\n",
    "\n",
    "Таким образом получаем примитивную классификацию.\n",
    "\n",
    "\n"
   ]
  },
  {
   "cell_type": "markdown",
   "metadata": {},
   "source": [
    "## Заметки\n",
    "\n",
    "scipy.stats.f_oneway  -The one-way ANOVA tests the null hypothesis that two or more groups have the same population mean. The test is applied to samples from two or more groups, possibly with differing sizes"
   ]
  },
  {
   "cell_type": "markdown",
   "metadata": {},
   "source": [
    "# Дисперсионный анализ\n",
    "\n",
    "http://easydan.com/arts/2016/anova/ \n",
    "\n",
    "Строго, классический однофакторный дисперсионный анализ применим, когда:\n",
    "В отношении выборочных данных не отвергается гипотеза об их нормальности (для каждой выборки);\n",
    "Выборки имеют равные теоретические дисперсии;"
   ]
  },
  {
   "cell_type": "code",
   "execution_count": 45,
   "metadata": {
    "collapsed": true
   },
   "outputs": [],
   "source": [
    "#критерий нормальности Шапиро Уилка //испключение трактовки p value(чем оно больше тем лучше)\n",
    "#The Shapiro-Wilk test tests the null hypothesis that the data was drawn from a normal distribution.\n",
    "def check_normality(series,alpha):\n",
    "    if st.shapiro(series)[1] <= alpha:return False\n",
    "    return True\n",
    "#check_normality(st.norm.rvs(loc=5, scale=3, size=1000),0.05)\n",
    "#st.mstats.kruskalwallis(st.norm.rvs(loc=5, scale=3, size=100))\n",
    "#np.std([1,3,4,6], ddof=1)"
   ]
  },
  {
   "cell_type": "code",
   "execution_count": 46,
   "metadata": {
    "collapsed": false
   },
   "outputs": [],
   "source": [
    "plu_series=lambda data,plu_id:data[data['ID_PLU']==plu_id][['QTY','TOTALSUM']]\n",
    "\n",
    "def plu_series_info(series_df,plu):\n",
    "    series_ar=series_df[series_df.ix[:,0]>0]\n",
    "    n=series_ar.shape[0]\n",
    "\n",
    "    if n==0:return [plu,0,0,0,0,0,0,0,0,'error','no',0]\n",
    "    if n<10 :return [plu,0,0,0,0,0,0,0,'not-enought data','no',0]\n",
    "    series=series_ar.ix[:,0]\n",
    "    min_plu=np.min(series)\n",
    "    max_plu=np.max(series)\n",
    "    median_plu=np.median(series)\n",
    "    q1_plu=np.percentile(series, 25)\n",
    "    q3_plu=np.percentile(series, 75)\n",
    "    q_interval=q3_plu-q1_plu\n",
    "    # std_plu=np.std(series, ddof=1)\n",
    "    classif='normal'\n",
    "    ip_q3_sum=0\n",
    "    if max_plu>median_plu+3*q_interval:\n",
    "        classif='outline'\n",
    "        ip_q3_sum=np.sum(series_ar[series_ar.ix[:,0]>median_plu+3*q_interval].ix[:,1])\n",
    "         #print(ip_q3_sum)\n",
    "    elif max_plu>median_plu+1.5*q_interval:\n",
    "        classif='smallanomaly'\n",
    "        ip_q3_sum=np.sum(series_ar[series_ar.ix[:,0]>median_plu+2*q_interval].ix[:,1])\n",
    "        \n",
    "    return [plu,np.sum(series),min_plu,max_plu,median_plu,q1_plu,q3_plu,\n",
    "            q_interval,classif,check_normality(series,0.05),ip_q3_sum]"
   ]
  },
  {
   "cell_type": "code",
   "execution_count": 47,
   "metadata": {
    "collapsed": false
   },
   "outputs": [
    {
     "data": {
      "text/html": [
       "<div>\n",
       "<table border=\"1\" class=\"dataframe\">\n",
       "  <thead>\n",
       "    <tr style=\"text-align: right;\">\n",
       "      <th></th>\n",
       "      <th>ID_PAYDESK</th>\n",
       "      <th>ID_HEADER</th>\n",
       "      <th>ID_PLU</th>\n",
       "      <th>TOTALSUM</th>\n",
       "      <th>QTY</th>\n",
       "      <th>CORRECTION</th>\n",
       "      <th>DATE_TIME</th>\n",
       "      <th>filename</th>\n",
       "      <th>cor_sum</th>\n",
       "    </tr>\n",
       "  </thead>\n",
       "  <tbody>\n",
       "    <tr>\n",
       "      <th>0</th>\n",
       "      <td>1</td>\n",
       "      <td>1465416</td>\n",
       "      <td>3211788</td>\n",
       "      <td>95.0</td>\n",
       "      <td>1.0</td>\n",
       "      <td>0.00</td>\n",
       "      <td>19/02/2017 09:17:28</td>\n",
       "      <td>2X</td>\n",
       "      <td>0.00</td>\n",
       "    </tr>\n",
       "    <tr>\n",
       "      <th>1</th>\n",
       "      <td>16</td>\n",
       "      <td>508399</td>\n",
       "      <td>3244868</td>\n",
       "      <td>194.0</td>\n",
       "      <td>1.0</td>\n",
       "      <td>-0.03</td>\n",
       "      <td>19/02/2017 09:23:39</td>\n",
       "      <td>2X</td>\n",
       "      <td>-0.03</td>\n",
       "    </tr>\n",
       "    <tr>\n",
       "      <th>2</th>\n",
       "      <td>16</td>\n",
       "      <td>508400</td>\n",
       "      <td>3441471</td>\n",
       "      <td>12.9</td>\n",
       "      <td>1.0</td>\n",
       "      <td>0.00</td>\n",
       "      <td>19/02/2017 09:26:18</td>\n",
       "      <td>2X</td>\n",
       "      <td>0.00</td>\n",
       "    </tr>\n",
       "  </tbody>\n",
       "</table>\n",
       "</div>"
      ],
      "text/plain": [
       "   ID_PAYDESK ID_HEADER   ID_PLU  TOTALSUM  QTY  CORRECTION  \\\n",
       "0           1   1465416  3211788      95.0  1.0        0.00   \n",
       "1          16    508399  3244868     194.0  1.0       -0.03   \n",
       "2          16    508400  3441471      12.9  1.0        0.00   \n",
       "\n",
       "             DATE_TIME filename  cor_sum  \n",
       "0  19/02/2017 09:17:28       2X     0.00  \n",
       "1  19/02/2017 09:23:39       2X    -0.03  \n",
       "2  19/02/2017 09:26:18       2X     0.00  "
      ]
     },
     "execution_count": 47,
     "metadata": {},
     "output_type": "execute_result"
    }
   ],
   "source": [
    "df.head(3)"
   ]
  },
  {
   "cell_type": "code",
   "execution_count": 48,
   "metadata": {
    "collapsed": false
   },
   "outputs": [
    {
     "name": "stdout",
     "output_type": "stream",
     "text": [
      "Wall time: 246 ms\n"
     ]
    },
    {
     "name": "stderr",
     "output_type": "stream",
     "text": [
      "C:\\Users\\ilya.Volchkov\\AppData\\Local\\Continuum\\Anaconda3\\lib\\site-packages\\scipy\\stats\\morestats.py:1330: UserWarning: p-value may not be accurate for N > 5000.\n",
      "  warnings.warn(\"p-value may not be accurate for N > 5000.\")\n"
     ]
    }
   ],
   "source": [
    "%%time\n",
    "plu_series_info=pd.DataFrame([plu_series_info(plu_series(df,plu),plu) for plu in plu_list])\n",
    "plu_series_info.columns=['plu','total_sum','min_plu','max_plu','median_plu','q1_plu','q3_plu',\n",
    "                         'q_interval','classif','check_norm','q3_up_sum']\n",
    "plu_series_info=plu_series_info.sort_values('q3_up_sum',ascending =False)"
   ]
  },
  {
   "cell_type": "code",
   "execution_count": 49,
   "metadata": {
    "collapsed": false
   },
   "outputs": [
    {
     "data": {
      "text/html": [
       "<div>\n",
       "<table border=\"1\" class=\"dataframe\">\n",
       "  <thead>\n",
       "    <tr style=\"text-align: right;\">\n",
       "      <th></th>\n",
       "      <th>plu</th>\n",
       "      <th>total_sum</th>\n",
       "      <th>min_plu</th>\n",
       "      <th>max_plu</th>\n",
       "      <th>median_plu</th>\n",
       "      <th>q1_plu</th>\n",
       "      <th>q3_plu</th>\n",
       "      <th>q_interval</th>\n",
       "      <th>classif</th>\n",
       "      <th>check_norm</th>\n",
       "      <th>q3_up_sum</th>\n",
       "      <th>name</th>\n",
       "    </tr>\n",
       "  </thead>\n",
       "  <tbody>\n",
       "    <tr>\n",
       "      <th>0</th>\n",
       "      <td>552</td>\n",
       "      <td>7963.0</td>\n",
       "      <td>1.0</td>\n",
       "      <td>100.0</td>\n",
       "      <td>1.0</td>\n",
       "      <td>1.0</td>\n",
       "      <td>1.0</td>\n",
       "      <td>0.0</td>\n",
       "      <td>outline</td>\n",
       "      <td>False</td>\n",
       "      <td>507283.00</td>\n",
       "      <td>NESC.Кофе GOLD раст.ст/б 95г</td>\n",
       "    </tr>\n",
       "    <tr>\n",
       "      <th>1</th>\n",
       "      <td>81514</td>\n",
       "      <td>9926.0</td>\n",
       "      <td>1.0</td>\n",
       "      <td>216.0</td>\n",
       "      <td>1.0</td>\n",
       "      <td>1.0</td>\n",
       "      <td>2.0</td>\n",
       "      <td>1.0</td>\n",
       "      <td>outline</td>\n",
       "      <td>False</td>\n",
       "      <td>288376.76</td>\n",
       "      <td>Вода БОРЖОМИ минерал.ст/б  0.5л</td>\n",
       "    </tr>\n",
       "    <tr>\n",
       "      <th>2</th>\n",
       "      <td>2053835</td>\n",
       "      <td>799.0</td>\n",
       "      <td>1.0</td>\n",
       "      <td>30.0</td>\n",
       "      <td>1.0</td>\n",
       "      <td>1.0</td>\n",
       "      <td>2.0</td>\n",
       "      <td>1.0</td>\n",
       "      <td>outline</td>\n",
       "      <td>False</td>\n",
       "      <td>66293.00</td>\n",
       "      <td>Водка ЦАРСКАЯ ОРИГИНАЛЬНАЯ 40% 0.5л</td>\n",
       "    </tr>\n",
       "  </tbody>\n",
       "</table>\n",
       "</div>"
      ],
      "text/plain": [
       "       plu  total_sum  min_plu  max_plu  median_plu  q1_plu  q3_plu  \\\n",
       "0      552     7963.0      1.0    100.0         1.0     1.0     1.0   \n",
       "1    81514     9926.0      1.0    216.0         1.0     1.0     2.0   \n",
       "2  2053835      799.0      1.0     30.0         1.0     1.0     2.0   \n",
       "\n",
       "   q_interval  classif check_norm  q3_up_sum  \\\n",
       "0         0.0  outline      False  507283.00   \n",
       "1         1.0  outline      False  288376.76   \n",
       "2         1.0  outline      False   66293.00   \n",
       "\n",
       "                                  name  \n",
       "0         NESC.Кофе GOLD раст.ст/б 95г  \n",
       "1      Вода БОРЖОМИ минерал.ст/б  0.5л  \n",
       "2  Водка ЦАРСКАЯ ОРИГИНАЛЬНАЯ 40% 0.5л  "
      ]
     },
     "execution_count": 49,
     "metadata": {},
     "output_type": "execute_result"
    }
   ],
   "source": [
    "prd=read_excel(pd,product_codes_path)\n",
    "prd.dropna(inplace=True)\n",
    "prd['Материал']=prd['Материал'].apply(np.int)\n",
    "plu_series_info=pd.merge(plu_series_info, prd, left_on='plu', right_on='Материал', how='left')\n",
    "plu_series_info.drop('Материал', axis=1, inplace=True)\n",
    "plu_series_info.head(3)"
   ]
  },
  {
   "cell_type": "markdown",
   "metadata": {},
   "source": [
    "## Кластеризация"
   ]
  },
  {
   "cell_type": "code",
   "execution_count": 50,
   "metadata": {
    "collapsed": false
   },
   "outputs": [
    {
     "data": {
      "text/html": [
       "<div>\n",
       "<table border=\"1\" class=\"dataframe\">\n",
       "  <thead>\n",
       "    <tr style=\"text-align: right;\">\n",
       "      <th></th>\n",
       "      <th>plu</th>\n",
       "      <th>total_sum</th>\n",
       "      <th>min_plu</th>\n",
       "      <th>max_plu</th>\n",
       "      <th>median_plu</th>\n",
       "      <th>q1_plu</th>\n",
       "      <th>q3_plu</th>\n",
       "      <th>q_interval</th>\n",
       "      <th>classif</th>\n",
       "      <th>check_norm</th>\n",
       "      <th>q3_up_sum</th>\n",
       "      <th>name</th>\n",
       "    </tr>\n",
       "  </thead>\n",
       "  <tbody>\n",
       "    <tr>\n",
       "      <th>0</th>\n",
       "      <td>552</td>\n",
       "      <td>7963.0</td>\n",
       "      <td>1.0</td>\n",
       "      <td>100.0</td>\n",
       "      <td>1.0</td>\n",
       "      <td>1.0</td>\n",
       "      <td>1.0</td>\n",
       "      <td>0.0</td>\n",
       "      <td>outline</td>\n",
       "      <td>False</td>\n",
       "      <td>507283.00</td>\n",
       "      <td>NESC.Кофе GOLD раст.ст/б 95г</td>\n",
       "    </tr>\n",
       "    <tr>\n",
       "      <th>1</th>\n",
       "      <td>81514</td>\n",
       "      <td>9926.0</td>\n",
       "      <td>1.0</td>\n",
       "      <td>216.0</td>\n",
       "      <td>1.0</td>\n",
       "      <td>1.0</td>\n",
       "      <td>2.0</td>\n",
       "      <td>1.0</td>\n",
       "      <td>outline</td>\n",
       "      <td>False</td>\n",
       "      <td>288376.76</td>\n",
       "      <td>Вода БОРЖОМИ минерал.ст/б  0.5л</td>\n",
       "    </tr>\n",
       "    <tr>\n",
       "      <th>2</th>\n",
       "      <td>2053835</td>\n",
       "      <td>799.0</td>\n",
       "      <td>1.0</td>\n",
       "      <td>30.0</td>\n",
       "      <td>1.0</td>\n",
       "      <td>1.0</td>\n",
       "      <td>2.0</td>\n",
       "      <td>1.0</td>\n",
       "      <td>outline</td>\n",
       "      <td>False</td>\n",
       "      <td>66293.00</td>\n",
       "      <td>Водка ЦАРСКАЯ ОРИГИНАЛЬНАЯ 40% 0.5л</td>\n",
       "    </tr>\n",
       "  </tbody>\n",
       "</table>\n",
       "</div>"
      ],
      "text/plain": [
       "       plu  total_sum  min_plu  max_plu  median_plu  q1_plu  q3_plu  \\\n",
       "0      552     7963.0      1.0    100.0         1.0     1.0     1.0   \n",
       "1    81514     9926.0      1.0    216.0         1.0     1.0     2.0   \n",
       "2  2053835      799.0      1.0     30.0         1.0     1.0     2.0   \n",
       "\n",
       "   q_interval  classif check_norm  q3_up_sum  \\\n",
       "0         0.0  outline      False  507283.00   \n",
       "1         1.0  outline      False  288376.76   \n",
       "2         1.0  outline      False   66293.00   \n",
       "\n",
       "                                  name  \n",
       "0         NESC.Кофе GOLD раст.ст/б 95г  \n",
       "1      Вода БОРЖОМИ минерал.ст/б  0.5л  \n",
       "2  Водка ЦАРСКАЯ ОРИГИНАЛЬНАЯ 40% 0.5л  "
      ]
     },
     "execution_count": 50,
     "metadata": {},
     "output_type": "execute_result"
    }
   ],
   "source": [
    "plu_series_info=plu_series_info[plu_series_info['classif']=='outline']\n",
    "plu_series_info.head(3)"
   ]
  },
  {
   "cell_type": "code",
   "execution_count": null,
   "metadata": {
    "collapsed": false
   },
   "outputs": [],
   "source": [
    "df[df['ID_PLU']==57647]"
   ]
  },
  {
   "cell_type": "code",
   "execution_count": 51,
   "metadata": {
    "collapsed": false
   },
   "outputs": [
    {
     "name": "stdout",
     "output_type": "stream",
     "text": [
      "Wall time: 481 ms\n"
     ]
    }
   ],
   "source": [
    "%%time\n",
    "plu_info_save=lambda plu:df[df['ID_PLU']==plu].sort_values('TOTALSUM',ascending =False)\n",
    "\n",
    "knn_outliner_sum={}\n",
    "class_1_min={}\n",
    "class_2_min={}\n",
    "df_plu_save=[]\n",
    "\n",
    "rto_1={}\n",
    "rto_2={}\n",
    "qty_1={}\n",
    "qty_2={}\n",
    "\n",
    "cor_1={}\n",
    "cor_2={}\n",
    "fm_1={}\n",
    "fm_2={}\n",
    "for plu in plu_series_info['plu'].unique():\n",
    "    df_plu=plu_info_save(plu)\n",
    "    df_plu=pd.merge(df_plu, hypermarkets, on=['filename'],  how='left')\n",
    "    #df_plu=pd.merge(df_plu, df_cost, on=['ID_PLU','store'],  how='left')\n",
    "    #df_plu['FM']=df_plu['TOTALSUM']-df_plu['cost']*df_plu['QTY']\n",
    "    #df_plu.drop('cost', axis=1, inplace=True)\n",
    "    \n",
    "    kmeans = KMeans(n_clusters=3)\n",
    "    X=np.array(df_plu['QTY']).reshape(-1, 1)\n",
    "    kmeans.fit(X)\n",
    "    df_plu['plu']=plu\n",
    "    df_plu['kmeans_cls']=kmeans.labels_\n",
    "    \n",
    "    uniq_labels= [el for el in df_plu['kmeans_cls'].unique()]\n",
    "    uniq_labels_sorted=list(uniq_labels)\n",
    "    uniq_labels_sorted.sort(reverse=True)\n",
    "    labels_dict={uniq_labels[i]:uniq_labels_sorted[i] for i in range(len(uniq_labels))}\n",
    "    df_plu['kmeans_cls']=df_plu['kmeans_cls'].apply(lambda x:labels_dict[x])\n",
    "    \n",
    "    knn_outliner_sum[plu]=np.sum(df_plu[df_plu['kmeans_cls']!=0]['TOTALSUM'])\n",
    "    \n",
    "    cls_min=[np.min(df_plu[df_plu['kmeans_cls']==i]['QTY'])  for i in range(3)]\n",
    "    cls_min.sort()\n",
    "    \n",
    "    class_1_min[plu]=cls_min[0]\n",
    "    class_2_min[plu]=cls_min[1]\n",
    "    \n",
    "    rto_1[plu]=np.sum(df_plu[df_plu['kmeans_cls']==1]['TOTALSUM']) \n",
    "    rto_2[plu]=np.sum(df_plu[df_plu['kmeans_cls']==2]['TOTALSUM']) \n",
    "    qty_1[plu]=np.sum(df_plu[df_plu['kmeans_cls']==1]['QTY']) \n",
    "    qty_2[plu]=np.sum(df_plu[df_plu['kmeans_cls']==2]['QTY'])   \n",
    "    cor_1[plu]=np.sum(df_plu[df_plu['kmeans_cls']==1]['cor_sum']) \n",
    "    cor_2[plu]=np.sum(df_plu[df_plu['kmeans_cls']==2]['cor_sum']) \n",
    "    \n",
    "    #fm_1[plu]=np.sum(df_plu[df_plu['kmeans_cls']==1]['FM']) \n",
    "    #fm_2[plu]=np.sum(df_plu[df_plu['kmeans_cls']==2]['FM'])    \n",
    "    df_plu_save.append([plu,df_plu])"
   ]
  },
  {
   "cell_type": "code",
   "execution_count": 52,
   "metadata": {
    "collapsed": false
   },
   "outputs": [],
   "source": [
    "plu_series_info['Knn_cluster_sum']=plu_series_info['plu'].apply(lambda x:knn_outliner_sum[x])\n",
    "plu_series_info['sum_evaluate']= plu_series_info.loc[:, ['Knn_cluster_sum', 'q3_up_sum']].min(axis=1)\n",
    "plu_series_info['class_1_min']=plu_series_info['plu'].apply(lambda x:class_1_min[x])\n",
    "plu_series_info['class_2_min']=plu_series_info['plu'].apply(lambda x:class_2_min[x])\n",
    "\n",
    "plu_series_info['rto_1']=plu_series_info['plu'].apply(lambda x:rto_1[x])\n",
    "plu_series_info['rto_2']=plu_series_info['plu'].apply(lambda x:rto_2[x])\n",
    "plu_series_info['qty_1']=plu_series_info['plu'].apply(lambda x:qty_1[x])\n",
    "plu_series_info['qty_2']=plu_series_info['plu'].apply(lambda x:qty_2[x])\n",
    "plu_series_info['cor_1']=plu_series_info['plu'].apply(lambda x:cor_1[x])\n",
    "plu_series_info['cor_2']=plu_series_info['plu'].apply(lambda x:cor_2[x])\n",
    "\n",
    "#plu_series_info['fm_1']=plu_series_info['plu'].apply(lambda x:fm_1[x])\n",
    "#plu_series_info['fm_2']=plu_series_info['plu'].apply(lambda x:fm_2[x])"
   ]
  },
  {
   "cell_type": "code",
   "execution_count": 53,
   "metadata": {
    "collapsed": false
   },
   "outputs": [
    {
     "data": {
      "text/html": [
       "<div>\n",
       "<table border=\"1\" class=\"dataframe\">\n",
       "  <thead>\n",
       "    <tr style=\"text-align: right;\">\n",
       "      <th></th>\n",
       "      <th>plu</th>\n",
       "      <th>total_sum</th>\n",
       "      <th>min_plu</th>\n",
       "      <th>max_plu</th>\n",
       "      <th>median_plu</th>\n",
       "      <th>q1_plu</th>\n",
       "      <th>q3_plu</th>\n",
       "      <th>q_interval</th>\n",
       "      <th>classif</th>\n",
       "      <th>check_norm</th>\n",
       "      <th>...</th>\n",
       "      <th>Knn_cluster_sum</th>\n",
       "      <th>sum_evaluate</th>\n",
       "      <th>class_1_min</th>\n",
       "      <th>class_2_min</th>\n",
       "      <th>rto_1</th>\n",
       "      <th>rto_2</th>\n",
       "      <th>qty_1</th>\n",
       "      <th>qty_2</th>\n",
       "      <th>cor_1</th>\n",
       "      <th>cor_2</th>\n",
       "    </tr>\n",
       "  </thead>\n",
       "  <tbody>\n",
       "    <tr>\n",
       "      <th>0</th>\n",
       "      <td>81514</td>\n",
       "      <td>9926.0</td>\n",
       "      <td>1.0</td>\n",
       "      <td>216.0</td>\n",
       "      <td>1.0</td>\n",
       "      <td>1.0</td>\n",
       "      <td>2.0</td>\n",
       "      <td>1.0</td>\n",
       "      <td>outline</td>\n",
       "      <td>False</td>\n",
       "      <td>...</td>\n",
       "      <td>253044.88</td>\n",
       "      <td>253044.88</td>\n",
       "      <td>0.0</td>\n",
       "      <td>8.0</td>\n",
       "      <td>229019.8</td>\n",
       "      <td>24025.08</td>\n",
       "      <td>3755.0</td>\n",
       "      <td>348.0</td>\n",
       "      <td>-70087.20</td>\n",
       "      <td>-419936.16</td>\n",
       "    </tr>\n",
       "    <tr>\n",
       "      <th>1</th>\n",
       "      <td>552</td>\n",
       "      <td>7963.0</td>\n",
       "      <td>1.0</td>\n",
       "      <td>100.0</td>\n",
       "      <td>1.0</td>\n",
       "      <td>1.0</td>\n",
       "      <td>1.0</td>\n",
       "      <td>0.0</td>\n",
       "      <td>outline</td>\n",
       "      <td>False</td>\n",
       "      <td>...</td>\n",
       "      <td>101738.00</td>\n",
       "      <td>101738.00</td>\n",
       "      <td>0.0</td>\n",
       "      <td>6.0</td>\n",
       "      <td>84838.0</td>\n",
       "      <td>16900.00</td>\n",
       "      <td>502.0</td>\n",
       "      <td>100.0</td>\n",
       "      <td>-9.46</td>\n",
       "      <td>-67.00</td>\n",
       "    </tr>\n",
       "    <tr>\n",
       "      <th>2</th>\n",
       "      <td>2053835</td>\n",
       "      <td>799.0</td>\n",
       "      <td>1.0</td>\n",
       "      <td>30.0</td>\n",
       "      <td>1.0</td>\n",
       "      <td>1.0</td>\n",
       "      <td>2.0</td>\n",
       "      <td>1.0</td>\n",
       "      <td>outline</td>\n",
       "      <td>False</td>\n",
       "      <td>...</td>\n",
       "      <td>66293.00</td>\n",
       "      <td>66293.00</td>\n",
       "      <td>0.0</td>\n",
       "      <td>5.0</td>\n",
       "      <td>47987.0</td>\n",
       "      <td>18306.00</td>\n",
       "      <td>133.0</td>\n",
       "      <td>54.0</td>\n",
       "      <td>-22499.94</td>\n",
       "      <td>0.00</td>\n",
       "    </tr>\n",
       "  </tbody>\n",
       "</table>\n",
       "<p>3 rows × 22 columns</p>\n",
       "</div>"
      ],
      "text/plain": [
       "       plu  total_sum  min_plu  max_plu  median_plu  q1_plu  q3_plu  \\\n",
       "0    81514     9926.0      1.0    216.0         1.0     1.0     2.0   \n",
       "1      552     7963.0      1.0    100.0         1.0     1.0     1.0   \n",
       "2  2053835      799.0      1.0     30.0         1.0     1.0     2.0   \n",
       "\n",
       "   q_interval  classif check_norm    ...      Knn_cluster_sum sum_evaluate  \\\n",
       "0         1.0  outline      False    ...            253044.88    253044.88   \n",
       "1         0.0  outline      False    ...            101738.00    101738.00   \n",
       "2         1.0  outline      False    ...             66293.00     66293.00   \n",
       "\n",
       "   class_1_min  class_2_min     rto_1     rto_2   qty_1  qty_2     cor_1  \\\n",
       "0          0.0          8.0  229019.8  24025.08  3755.0  348.0 -70087.20   \n",
       "1          0.0          6.0   84838.0  16900.00   502.0  100.0     -9.46   \n",
       "2          0.0          5.0   47987.0  18306.00   133.0   54.0 -22499.94   \n",
       "\n",
       "       cor_2  \n",
       "0 -419936.16  \n",
       "1     -67.00  \n",
       "2       0.00  \n",
       "\n",
       "[3 rows x 22 columns]"
      ]
     },
     "execution_count": 53,
     "metadata": {},
     "output_type": "execute_result"
    }
   ],
   "source": [
    "plu_series_info=plu_series_info.sort_values('sum_evaluate',ascending =False)\n",
    "plu_series_info.reset_index(inplace=True,drop=True)\n",
    "plu_series_info.head(3)"
   ]
  },
  {
   "cell_type": "code",
   "execution_count": 54,
   "metadata": {
    "collapsed": false
   },
   "outputs": [],
   "source": [
    "concat_save_df=pd.concat([df[1] for df in df_plu_save])\n",
    "concat_save_df=concat_save_df[concat_save_df['kmeans_cls']==1]\n",
    "pt_hm=concat_save_df.pivot_table(values=['TOTALSUM','plu'],#columns=['Год','Квартал'],\n",
    "                    index=['Назв. Магазина'],aggfunc={'TOTALSUM':np.sum,'plu':lambda x: len(x.unique())},fill_value=0 )\n",
    "pt_hm=pt_hm.sort_values('TOTALSUM',ascending =False)\n",
    "pt_hm.columns=['Сумма оптовых артикулов', 'к-во оптовых артикулов']"
   ]
  },
  {
   "cell_type": "code",
   "execution_count": 55,
   "metadata": {
    "collapsed": false
   },
   "outputs": [],
   "source": [
    "df_save=[['main',plu_series_info]]+df_plu_save\n",
    "save_result_path=path.join(project_path,'anomaly11.xlsx')\n",
    "writer = pd.ExcelWriter(save_result_path)\n",
    "for el in df_save:\n",
    "    el[1].to_excel(writer,str(el[0]),index =False)\n",
    "pt_hm.to_excel(writer,'hm_pivot',index =True)\n",
    "writer.save()"
   ]
  },
  {
   "cell_type": "code",
   "execution_count": 56,
   "metadata": {
    "collapsed": false
   },
   "outputs": [],
   "source": [
    "import win32com.client\n",
    "Excel = win32com.client.Dispatch(\"Excel.Application\")\n",
    "#Excel.visible=True\n",
    "wb = Excel.Workbooks.Open(save_result_path)\n",
    "sh=wb.sheets(1)\n",
    "for i,el in enumerate(plu_series_info['plu']):\n",
    "    sh.Hyperlinks.Add (Anchor=sh.Cells(i+2, 1), Address=\"\", SubAddress=\"'{}'!A1\".format(str(el)))\n",
    "\n",
    "n=sh.UsedRange.Rows.count+2\n",
    "sh.cells(n,1).value='Нижняя оценка оптовых закупок по магазинам'\n",
    "sh.cells(n,1).font.size=16\n",
    "sh.cells(n,1).Font.Bold = True\n",
    "\n",
    "ssh=wb.sheets('hm_pivot')\n",
    "ssh.Range(ssh.Cells(1,1),ssh.Cells(pt_hm.shape[0],pt_hm.shape[1]+1)).Copy(sh.cells(n+1,1))\n",
    "\n",
    "for i in range(wb.sheets.Count):\n",
    "    wb.sheets(i+1).Columns.EntireColumn.AutoFit()\n",
    "wb.Save()\n",
    "wb.Close()\n",
    "Excel.Quit()"
   ]
  }
 ],
 "metadata": {
  "anaconda-cloud": {},
  "kernelspec": {
   "display_name": "Python [default]",
   "language": "python",
   "name": "python3"
  },
  "language_info": {
   "codemirror_mode": {
    "name": "ipython",
    "version": 3
   },
   "file_extension": ".py",
   "mimetype": "text/x-python",
   "name": "python",
   "nbconvert_exporter": "python",
   "pygments_lexer": "ipython3",
   "version": "3.5.2"
  }
 },
 "nbformat": 4,
 "nbformat_minor": 2
}
