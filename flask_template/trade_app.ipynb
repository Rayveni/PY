{
 "cells": [
  {
   "cell_type": "code",
   "execution_count": 1,
   "metadata": {},
   "outputs": [],
   "source": [
    "import sys\n",
    "from os import path\n",
    "\n",
    "CURRENT_DIR = r'C:\\Users\\IVOLOCHKOV\\jupyter_projects\\trade\\trade_app'\n",
    "sys.path.insert(0, CURRENT_DIR)\n",
    "\n",
    "%load_ext autoreload\n",
    "%autoreload 2\n",
    "\n",
    "#from src import app"
   ]
  },
  {
   "cell_type": "code",
   "execution_count": null,
   "metadata": {},
   "outputs": [
    {
     "name": "stderr",
     "output_type": "stream",
     "text": [
      "127.0.0.1 - - [2019-05-28 09:39:16] \"GET / HTTP/1.1\" 200 2329 0.006017\n",
      "127.0.0.1 - - [2019-05-28 09:39:18] \"GET /admin HTTP/1.1\" 200 4123 0.006016\n",
      "127.0.0.1 - - [2019-05-28 09:39:22] \"POST /upload_mongo_form HTTP/1.1\" 200 4461 0.003512\n"
     ]
    }
   ],
   "source": [
    "from src import app\n",
    "from gevent import monkey,pywsgi\n",
    "monkey.patch_all()\n",
    "\n",
    "######################################\n",
    "\n",
    "#####################################\n",
    "server = pywsgi.WSGIServer(('127.0.0.1', 5000), app)\n",
    "server.serve_forever()\n",
    "#http://127.0.0.1:5000/"
   ]
  },
  {
   "cell_type": "code",
   "execution_count": null,
   "metadata": {},
   "outputs": [],
   "source": []
  }
 ],
 "metadata": {
  "kernelspec": {
   "display_name": "Python 3",
   "language": "python",
   "name": "python3"
  },
  "language_info": {
   "codemirror_mode": {
    "name": "ipython",
    "version": 3
   },
   "file_extension": ".py",
   "mimetype": "text/x-python",
   "name": "python",
   "nbconvert_exporter": "python",
   "pygments_lexer": "ipython3",
   "version": "3.7.1"
  }
 },
 "nbformat": 4,
 "nbformat_minor": 2
}
