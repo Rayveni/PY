{
 "cells": [
  {
   "cell_type": "code",
   "execution_count": null,
   "id": "f5847e90",
   "metadata": {},
   "outputs": [],
   "source": [
    "import pandas as pd\n",
    "import json\n",
    "from my_jira import my_jira_reports\n",
    "\n",
    "import warnings\n",
    "warnings.filterwarnings('ignore')"
   ]
  },
  {
   "cell_type": "code",
   "execution_count": null,
   "id": "9ceb09c7",
   "metadata": {},
   "outputs": [],
   "source": [
    "with open('data.json', 'r') as read_file:\n",
    "    data = json.load(read_file)\n",
    "jr=my_jira_reports(data['server'],'token',data['token'],verify_cert=False)\n",
    "project,team='AS',data['team']"
   ]
  },
  {
   "cell_type": "code",
   "execution_count": null,
   "id": "3c96f27f",
   "metadata": {},
   "outputs": [],
   "source": [
    "jr.issue_raw_info('DRS20211-1496')"
   ]
  },
  {
   "cell_type": "markdown",
   "id": "295c9997",
   "metadata": {},
   "source": [
    "### Отчёт по незавершенным задачам"
   ]
  },
  {
   "cell_type": "code",
   "execution_count": null,
   "id": "636ab6f9",
   "metadata": {},
   "outputs": [],
   "source": [
    "df=jr.undone_custom_report(project)\n",
    "jr.color_undone_custom_report(df)"
   ]
  },
  {
   "cell_type": "markdown",
   "id": "f58232ac",
   "metadata": {},
   "source": [
    "### Обновляем статусы"
   ]
  },
  {
   "cell_type": "code",
   "execution_count": null,
   "id": "63895dc9",
   "metadata": {},
   "outputs": [],
   "source": [
    "#jr.get_task_transitions('MIGRCEH3-127')\n",
    "#jr.transition_issue('MIGRCEH3-127',121,'Готово')\n",
    "jr.mass_transition(df)"
   ]
  },
  {
   "cell_type": "code",
   "execution_count": null,
   "id": "a8ed944c",
   "metadata": {
    "scrolled": false
   },
   "outputs": [],
   "source": [
    "df=jr.undone_custom_report(project)\n",
    "jr.color_undone_custom_report(df)"
   ]
  },
  {
   "cell_type": "markdown",
   "id": "e239c346",
   "metadata": {},
   "source": [
    "### Инфо по задаче"
   ]
  },
  {
   "cell_type": "code",
   "execution_count": null,
   "id": "198dc8d0",
   "metadata": {},
   "outputs": [],
   "source": [
    "full_info=jr.get_issue('MIGRCEH1-642')\n",
    "jr.extract_issue_info(full_info)"
   ]
  },
  {
   "cell_type": "code",
   "execution_count": null,
   "id": "454396e4",
   "metadata": {},
   "outputs": [],
   "source": [
    "full_info['fields']['issuelinks']"
   ]
  },
  {
   "cell_type": "markdown",
   "id": "4f6645a2",
   "metadata": {},
   "source": [
    "### Команда"
   ]
  },
  {
   "cell_type": "code",
   "execution_count": null,
   "id": "8ca9be85",
   "metadata": {},
   "outputs": [],
   "source": [
    "jr.show_team(data['team'])"
   ]
  },
  {
   "cell_type": "markdown",
   "id": "823802b0",
   "metadata": {},
   "source": [
    "### Worklog"
   ]
  },
  {
   "cell_type": "code",
   "execution_count": null,
   "id": "40473ec9",
   "metadata": {},
   "outputs": [],
   "source": [
    "%%time\n",
    "start_date='2021-10-01'\n",
    "wl=jr.worklog_rep(data['team'],start_date=start_date)\n",
    "wr=wl[wl.log_date>=start_date]"
   ]
  },
  {
   "cell_type": "code",
   "execution_count": null,
   "id": "1d5810a4",
   "metadata": {},
   "outputs": [],
   "source": [
    "wr.pivot_table(index=['key','summary'], columns='author', values='hours',aggfunc=sum,margins=True).fillna(0)"
   ]
  },
  {
   "cell_type": "markdown",
   "id": "32458c0f",
   "metadata": {},
   "source": [
    "### Создание задач"
   ]
  },
  {
   "cell_type": "code",
   "execution_count": null,
   "id": "6baff69c",
   "metadata": {},
   "outputs": [],
   "source": [
    "_path=r'___________.xlsx'\n",
    "input_data=pd.read_excel(_path,parse_dates=False)\n",
    "input_data.assignee.unique()\n",
    "team_dict={'\n",
    "          }\n",
    "input_data['assignee_name']=input_data['assignee'].apply(lambda x:team_dict[x])\n",
    "input_data"
   ]
  },
  {
   "cell_type": "code",
   "execution_count": null,
   "id": "d945b95c",
   "metadata": {},
   "outputs": [],
   "source": [
    "def vtb_issue(project:str,row:dict,sprint=None):\n",
    "    additional_keys={'customfield_16206': [{'key':'ST-191257'}],\n",
    "                 'customfield_16201': [{'key':'SYS-358683'}],\n",
    "                 'customfield_15715': [{'key':'AG-1453383'}],\n",
    "                     'customfield_11164':str(row['start_date'])[:10],\n",
    "                     'customfield_11163':str(row['end_date'])[:10],\n",
    "                     'duedate':str(row['end_date'])[:10],\n",
    "                 'priority':{'name': 'Medium'},\n",
    "                 \"timetracking\": {\"originalEstimate\": row['estimate'],\n",
    "                                  \"remainingEstimate\": row['estimate'],\n",
    "                                 },\n",
    "                 \"assignee\":{'name': row['assignee_name']}\n",
    "                }\n",
    "    issue=jr.create_issue(project=project,\n",
    "                  issue_type='Задача',\n",
    "                  task_summary=row['task_summary'],\n",
    "                  task_description='',\n",
    "                  additional_keys=additional_keys)\n",
    "    epic=row['epic']\n",
    "    #return issue,epic\n",
    "    key=issue.json()['key']\n",
    "    if sprint is not None:\n",
    "        jr.issue_to_sprint(sprint, [key])\n",
    "    \n",
    "    if row['epic'] is not pd.np.nan:\n",
    "        jr.issue_to_epic(row['epic'],[key])\n",
    "        \n",
    "    return (i,key,row['assignee'])\n",
    "    "
   ]
  },
  {
   "cell_type": "code",
   "execution_count": null,
   "id": "e26988cc",
   "metadata": {},
   "outputs": [],
   "source": [
    "jr.issue_to_epic('ANALYTREP-1328',['MIGRCEH3-148'])"
   ]
  },
  {
   "cell_type": "code",
   "execution_count": null,
   "id": "7ce7f6c9",
   "metadata": {},
   "outputs": [],
   "source": [
    "jr.issue_to_epic('ANALYTREP-1328',['MIGRCEH3-148'])"
   ]
  },
  {
   "cell_type": "code",
   "execution_count": null,
   "id": "eaa212a1",
   "metadata": {},
   "outputs": [],
   "source": [
    "additional_keys={'customfield_16206': [{'key':'ST-191257'}],\n",
    "                 'customfield_16201': [{'key':'SYS-358683'}],\n",
    "                 'customfield_15715': [{'key':'AG-1453383'}],\n",
    "                 'priority':{'name': 'Medium'},\n",
    "                 \"timetracking\": {\"originalEstimate\": \"1w 3d\",\n",
    "                                  \"remainingEstimate\": \"1w 3d\",\n",
    "                                 },\n",
    "                 \"assignee\":{'name': '____________'}\n",
    "                }"
   ]
  },
  {
   "cell_type": "code",
   "execution_count": null,
   "id": "12bcbb05",
   "metadata": {},
   "outputs": [],
   "source": [
    "t=jr.create_issue(project='______',\n",
    "                  issue_type='Задача',\n",
    "                  task_summary='Корневая задача branch_x_abs_hist',\n",
    "                  task_description='',\n",
    "                  additional_keys=additional_keys)"
   ]
  }
 ],
 "metadata": {
  "kernelspec": {
   "display_name": "Python 3 (ipykernel)",
   "language": "python",
   "name": "python3"
  },
  "language_info": {
   "codemirror_mode": {
    "name": "ipython",
    "version": 3
   },
   "file_extension": ".py",
   "mimetype": "text/x-python",
   "name": "python",
   "nbconvert_exporter": "python",
   "pygments_lexer": "ipython3",
   "version": "3.11.3"
  }
 },
 "nbformat": 4,
 "nbformat_minor": 5
}
