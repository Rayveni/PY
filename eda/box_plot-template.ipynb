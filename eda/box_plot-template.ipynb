{
 "cells": [
  {
   "cell_type": "code",
   "execution_count": null,
   "id": "5a5e38ad",
   "metadata": {},
   "outputs": [],
   "source": [
    "import pandas as pd\n",
    "import seaborn as sns"
   ]
  },
  {
   "cell_type": "code",
   "execution_count": null,
   "id": "04eeddb5",
   "metadata": {},
   "outputs": [],
   "source": [
    "file_path=r'<file_path>'\n",
    "df=pd.read_excel(file_path)\n",
    "df.head(3)"
   ]
  },
  {
   "cell_type": "code",
   "execution_count": null,
   "id": "bee7a736",
   "metadata": {},
   "outputs": [],
   "source": [
    "def _transform(value:str)->str:\n",
    "    replace=len('')\n",
    "    return value[replace:]\n",
    "\n",
    "df['script_short']=df['script'].apply(_transform)   \n",
    "df['stage']=df['script_short'].apply(lambda s:s.split('/')[0])\n",
    "df['delta']=df.apply(lambda x:(x['end']-x['start']).total_seconds()/60, axis=1)\n",
    "df.head(3)"
   ]
  },
  {
   "cell_type": "code",
   "execution_count": null,
   "id": "326e7e12",
   "metadata": {},
   "outputs": [],
   "source": [
    "df.stage.unique()"
   ]
  },
  {
   "cell_type": "code",
   "execution_count": null,
   "id": "3076f8f3",
   "metadata": {},
   "outputs": [],
   "source": [
    "sns.boxplot(data=df[df.stage=='odpp'], x=\"delta\", y=\"script_short\");"
   ]
  }
 ],
 "metadata": {
  "kernelspec": {
   "display_name": "Python 3 (ipykernel)",
   "language": "python",
   "name": "python3"
  },
  "language_info": {
   "codemirror_mode": {
    "name": "ipython",
    "version": 3
   },
   "file_extension": ".py",
   "mimetype": "text/x-python",
   "name": "python",
   "nbconvert_exporter": "python",
   "pygments_lexer": "ipython3",
   "version": "3.10.9"
  }
 },
 "nbformat": 4,
 "nbformat_minor": 5
}
