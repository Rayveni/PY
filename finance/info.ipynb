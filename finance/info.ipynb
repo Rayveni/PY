{
 "cells": [
  {
   "cell_type": "markdown",
   "metadata": {},
   "source": [
    "### Биржи\n",
    "1. **NASDAQ** –крупнейшая биржа, на которой размещаются акции преимущественно компаний, которые принадлежат техническому сектору (Facebook, Apple, Tesla Motors и т.д.)\n",
    "2. **NYSE** -популярнейшая и мощнейшая фондовая биржа Америки, где аккумулируется самое большое количество акций компаний с всемирно известными именами (Coca-Cola, Twitter, Boeing и т.д.)\n",
    "3. **TSX**-*Toronto Stock Exchange* - крупная мировая биржа, была объединена с Канадской фондовой и горнопромышленной биржей\n",
    "4 .\n",
    "\n",
    "Для выхода на иностранные биржи требуется сертификат инвестора или 6 млн рублей(регулируется ЦБ)\n"
   ]
  },
  {
   "cell_type": "markdown",
   "metadata": {
    "collapsed": true
   },
   "source": [
    "### Индексы\n",
    "**капитализация** - оценка компаниии, рыночная стоимость акции * к-во\n",
    "** биржевый индекс** -индикатор состояния рынка ценных бумаг, рассчитанный на основе основных ликидных обыкновенных акций/облигаций\n",
    "методы расчетаL\n",
    "1. среднеарифметический простой\n",
    "2.  среднегеометрический простой\n",
    "3. средневзвешенный арифметический по капиализации \n",
    "4. средневзвешенный геометрически по капитализации\n",
    "\n",
    "\n",
    "#### Американские  индексы:\n",
    "* Dow Jones\n",
    "* S&P 500 -индекс широкого рынка(в основном для оценки амер рынка) есть S&P 100,etc\n",
    "* NASDAQ\n",
    "\n",
    "####  Японский индекс\n",
    "* Nikkei 255\n",
    "\n",
    "#### Основные европейский индексы\n",
    "* dax 30 Германия -коррелирует с РТС\n",
    "* CAC 40 Франция\n",
    "* FTSE 100 Великобритания\n",
    "\n",
    "#### Morgan Stanley Capital international\n",
    "* MSCI EM и MSCI Russia -MSCI развивающиеся рынки и Россия <br>\n",
    "Развивающиеся рынки торгуются с развитыми в противофазе\n",
    "#### Индексф России\n",
    "* индекс ММВБ , индекс РТС -рубли/доллары - основные индексы\n",
    "* голубые фишки - аналог Dow Jones\n",
    "* отраслевые индексы\n",
    "* индекс широкого рынка\n",
    "\n",
    "### Общая классификация индексов\n",
    "* географические\n",
    "* отраслевые\n",
    "* валютные \n",
    "* индекс волатильности- индекс страха"
   ]
  },
  {
   "cell_type": "markdown",
   "metadata": {
    "collapsed": true
   },
   "source": [
    "### Индекс нефти и газа\n",
    "https://www.finanz.ru/indeksi/RTSog-Index\n",
    "\n",
    "* Код индекса\tRTSog\n",
    "* Код Bloomberg\tRTSOG$\n",
    "* Код Reuters\t.RTSOG\n",
    "* Код ISIN\t RU000A0JPED9\n",
    "\n",
    "### Элекстроэнегретики\n",
    "https://www.finanz.ru/indeksi/RTS-Electric-Utilities-Index\n",
    "\n",
    "* Код индекса\tRTSeu\n",
    "* Код Bloomberg\tRTSEU$\n",
    "* Код Reuters\t.RTSEU\n",
    "\n",
    "### Телеком\n",
    "\n",
    "https://www.finanz.ru/indeksi/RTS-Telecom-Index\n",
    "* Код индекса\tRTStl\n",
    "* Код Bloomberg\tRTSTL$\n",
    "* Код Reuters\t.RTSTL\n",
    "\n",
    "### Металлы\n",
    "\n",
    "https://www.finanz.ru/indeksi/RTS-Metals-Mining-Index\n",
    "\n",
    "* Код индекса\tRTSmm\n",
    "* Код Bloomberg\tRTSMM$\n",
    "* Код Reuters\t.RTSMM\n",
    "\n",
    "### Банки и финансы\n",
    "https://www.finanz.ru/indeksi/RTS-Financial-Index\n",
    "* Код индекса\tRTSfn\n",
    "* Код Bloomberg\tRTSFN$\n",
    "* Код Reuters\t.RTSFN\n",
    "\n",
    "### Потреб товары и торговли\n",
    "\n",
    "* Код индекса\tRTScr\n",
    "* Код Bloomberg\tRTSCR$\n",
    "* Код Reuters\t.RTSCR\n",
    "\n",
    "\n",
    "### Химия\n",
    "https://www.finanz.ru/indeksi/arhiv-torgov/RTS-Chemicals-Index\n",
    "* Код индекса\tRTSch\n",
    "* Код Bloomberg\tRTSCH\n",
    "* Код Reuters\t.RTSch\n",
    "\n",
    "Список \n",
    "http://iss.moex.com/iss/reference/"
   ]
  },
  {
   "cell_type": "code",
   "execution_count": null,
   "metadata": {},
   "outputs": [],
   "source": [
    "https://vse-dengy.ru/upravlenie-finansami/aktsii/quik-nastroyka-i-pokupka-obligatsiy.html\n",
    "https://bcs-express.ru/novosti-i-analitika/ofz-chem-oni-otlichaiutsia-i-kakie-pokupat    "
   ]
  },
  {
   "cell_type": "code",
   "execution_count": null,
   "metadata": {},
   "outputs": [],
   "source": [
    "from selenium import webdriver\n",
    "driver = webdriver.PhantomJS(r\"C:/phantomjs.exe\")\n",
    "driver.set_window_size(1120, 550)\n",
    "driver.get(r'https://www.moex.com/ru/index/IMOEX/constituents/')\n",
    "data = driver.page_source\n",
    "driver.quit()"
   ]
  },
  {
   "cell_type": "code",
   "execution_count": null,
   "metadata": {},
   "outputs": [],
   "source": [
    "data"
   ]
  },
  {
   "cell_type": "code",
   "execution_count": null,
   "metadata": {},
   "outputs": [],
   "source": [
    "from selenium import webdriver\n",
    "driver = webdriver.PhantomJS(r\"C:/phantomjs.exe\")\n",
    "driver.set_window_size(1120, 550)\n",
    "driver.get(link)\n",
    "data = driver.page_source\n",
    "driver.quit()"
   ]
  },
  {
   "cell_type": "code",
   "execution_count": null,
   "metadata": {},
   "outputs": [],
   "source": [
    "import requests"
   ]
  },
  {
   "cell_type": "code",
   "execution_count": null,
   "metadata": {},
   "outputs": [],
   "source": [
    "link=r\"https://www.moex.com/ru/index/RTSog/archive/#/from=2016-11-05&till=2018-12-05&sort=TRADEDATE&order=asc\""
   ]
  },
  {
   "cell_type": "code",
   "execution_count": null,
   "metadata": {},
   "outputs": [],
   "source": [
    "r=requests.get(link)"
   ]
  },
  {
   "cell_type": "code",
   "execution_count": null,
   "metadata": {},
   "outputs": [],
   "source": [
    "from selenium import webdriver\n",
    "from selenium.webdriver.common.by import By\n",
    "from selenium.webdriver.support.select import Select\n",
    "from selenium.webdriver.support.ui import WebDriverWait\n",
    "from selenium.webdriver.support import expected_conditions as EC"
   ]
  },
  {
   "cell_type": "code",
   "execution_count": null,
   "metadata": {},
   "outputs": [],
   "source": [
    "\n",
    "\n",
    "driver = webdriver.PhantomJS(r\"C:/phantomjs.exe\")\n",
    "driver.get(r'https://www.finanz.ru/indeksi/arhiv-torgov/RTS-Chemicals-Index/5.11.2016_5.12.2018')\n",
    "\n"
   ]
  },
  {
   "cell_type": "code",
   "execution_count": null,
   "metadata": {},
   "outputs": [],
   "source": [
    "# waiting for the page to load - TODO: change\n",
    "wait = WebDriverWait(driver, 10)\n",
    "wait.until(EC.visibility_of_element_located((By.ID, \"content\")))\n",
    "\n"
   ]
  },
  {
   "cell_type": "code",
   "execution_count": null,
   "metadata": {},
   "outputs": [],
   "source": [
    "data = driver.page_source\n",
    "driver.close()\n",
    "\n",
    "soup = BeautifulSoup(data, \"html.parser\")"
   ]
  },
  {
   "cell_type": "code",
   "execution_count": 2,
   "metadata": {},
   "outputs": [],
   "source": [
    "import pytesseract\n",
    "from PIL import Image\n",
    "import numpy as np"
   ]
  },
  {
   "cell_type": "code",
   "execution_count": 3,
   "metadata": {},
   "outputs": [
    {
     "data": {
      "image/png": "[encoded data removed]",
      "text/plain": [
       "<PIL.GifImagePlugin.GifImageFile image mode=P size=1035x307 at 0x1BF8AFADC50>"
      ]
     },
     "execution_count": 3,
     "metadata": {},
     "output_type": "execute_result"
    }
   ],
   "source": [
    "#img=Image.open('E:\\\\test.gif')\n",
    "img=Image.open('D:\\\\test.gif')\n",
    "img"
   ]
  },
  {
   "cell_type": "code",
   "execution_count": null,
   "metadata": {},
   "outputs": [],
   "source": [
    "img2=Image.open('E:\\\\test.png')\n",
    "pytesseract.image_to_string(img2,lang='rus')"
   ]
  },
  {
   "cell_type": "code",
   "execution_count": null,
   "metadata": {},
   "outputs": [],
   "source": [
    "pytesseract.image_to_string(img)"
   ]
  },
  {
   "cell_type": "code",
   "execution_count": null,
   "metadata": {},
   "outputs": [],
   "source": [
    "print(pytesseract.image_to_string())"
   ]
  },
  {
   "cell_type": "code",
   "execution_count": null,
   "metadata": {},
   "outputs": [],
   "source": [
    "img[0]"
   ]
  },
  {
   "cell_type": "code",
   "execution_count": null,
   "metadata": {},
   "outputs": [],
   "source": [
    "img.format, img.size, img.mode"
   ]
  },
  {
   "cell_type": "code",
   "execution_count": null,
   "metadata": {},
   "outputs": [],
   "source": [
    "rgb_im=img.convert('RGB')\n",
    "rgb_im.getpixel((1, 1))"
   ]
  },
  {
   "cell_type": "code",
   "execution_count": null,
   "metadata": {},
   "outputs": [],
   "source": [
    "rgb_im.getpixel((3, 4))"
   ]
  },
  {
   "cell_type": "code",
   "execution_count": null,
   "metadata": {},
   "outputs": [],
   "source": [
    "np.array(rgb_im).shape"
   ]
  },
  {
   "cell_type": "code",
   "execution_count": null,
   "metadata": {},
   "outputs": [],
   "source": [
    "len(np.unique(np.array(img).ravel()))"
   ]
  },
  {
   "cell_type": "code",
   "execution_count": 9,
   "metadata": {},
   "outputs": [],
   "source": [
    "img_cropped=img.crop((50,10,140,40))\n",
    "img_cropped=img_cropped.convert('RGB')"
   ]
  },
  {
   "cell_type": "code",
   "execution_count": 1,
   "metadata": {},
   "outputs": [],
   "source": [
    "\n",
    "\n",
    "import sys\n",
    "import datetime\n",
    "from os import path\n",
    "\n",
    "sys.path.insert(0, r'C:\\Program Files (x86)\\Tesseract-OCR')"
   ]
  },
  {
   "cell_type": "code",
   "execution_count": 6,
   "metadata": {},
   "outputs": [],
   "source": [
    "pytesseract.pytesseract.tesseract_cmd =r'C:\\Program Files (x86)\\Tesseract-OCR\\tesseract.exe'"
   ]
  },
  {
   "cell_type": "code",
   "execution_count": 10,
   "metadata": {},
   "outputs": [
    {
     "data": {
      "text/plain": [
       "''"
      ]
     },
     "execution_count": 10,
     "metadata": {},
     "output_type": "execute_result"
    }
   ],
   "source": [
    "\n",
    "pytesseract.image_to_string(img_cropped)"
   ]
  },
  {
   "cell_type": "code",
   "execution_count": null,
   "metadata": {},
   "outputs": [],
   "source": [
    "\n",
    "len(np.unique(np.array(rgb_im).reshape(-1,3),axis=0))"
   ]
  },
  {
   "cell_type": "code",
   "execution_count": null,
   "metadata": {},
   "outputs": [],
   "source": [
    "np.unique(np.array(img_cropped))"
   ]
  },
  {
   "cell_type": "code",
   "execution_count": null,
   "metadata": {},
   "outputs": [],
   "source": [
    "?pytesseract.image_to_string"
   ]
  },
  {
   "cell_type": "code",
   "execution_count": null,
   "metadata": {},
   "outputs": [],
   "source": [
    "pytesseract.image_to_string(img_cropped)"
   ]
  },
  {
   "cell_type": "code",
   "execution_count": null,
   "metadata": {},
   "outputs": [],
   "source": [
    "Image.fromarray(np.array(img))"
   ]
  },
  {
   "cell_type": "code",
   "execution_count": null,
   "metadata": {},
   "outputs": [],
   "source": []
  }
 ],
 "metadata": {
  "kernelspec": {
   "display_name": "Python 3",
   "language": "python",
   "name": "python3"
  },
  "language_info": {
   "codemirror_mode": {
    "name": "ipython",
    "version": 3
   },
   "file_extension": ".py",
   "mimetype": "text/x-python",
   "name": "python",
   "nbconvert_exporter": "python",
   "pygments_lexer": "ipython3",
   "version": "3.7.1"
  }
 },
 "nbformat": 4,
 "nbformat_minor": 2
}
