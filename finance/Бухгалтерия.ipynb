{
 "cells": [
  {
   "cell_type": "code",
   "execution_count": 1,
   "metadata": {},
   "outputs": [
    {
     "name": "stdout",
     "output_type": "stream",
     "text": [
      "driver loaded\n"
     ]
    }
   ],
   "source": [
    "import sys\n",
    "#CURRENT_DIR = r'C:\\Users\\Kart\\jupyter_projects\\finance\\MyAccounting'\n",
    "CURRENT_DIR = r'C:\\Users\\IVOLOCHKOV\\jupyter_projects\\finance\\MyAccounting'\n",
    "sys.path.insert(0, CURRENT_DIR)\n",
    "\n",
    "from MyAccounting import MyAccounting\n",
    "settings_path=r'C:\\Users\\IVOLOCHKOV\\jupyter_projects\\finance'\n",
    "acc= MyAccounting(settings_path)"
   ]
  },
  {
   "cell_type": "code",
   "execution_count": null,
   "metadata": {},
   "outputs": [],
   "source": [
    "acc.drop_db()\n",
    "acc.add_account('58','Финансовые вложения','Счет 58 «Финансовые вложения» предназначен для обобщения информации о наличии и движении инвестиций организации в государственные ценные бумаги, акции, облигации и иные ценные бумаги других организаций, уставные (складочные) капиталы других организаций, а также предоставленные другим организациям займы.')\n",
    "acc.add_account('58.1','паи и акции','На субсчете 58-1 \"Паи и акции\" учитываются наличие и движение инвестиций в акции акционерных обществ, уставные (складочные) капиталы других организаций и т.п.','58')\n",
    "acc.add_account('58.2','долговые ценные бумаги','На субсчете 58-2 \"Долговые ценные бумаги\" учитываются наличие и движение инвестиций в государственные и частные долговые ценные бумаги (облигации и др.).','58')\n",
    "acc.add_account('76','расчеты с разными дебиторами и кредиторами','Счет 76 \"Расчеты с разными дебиторами и кредиторами\" предназначен для обобщения информации о расчетах по операциям с дебиторами и кредиторами, не упомянутыми в пояснениях к счетам 60 - 75: по имущественному и личному страхованию; по претензиям; по суммам, удержанным из оплаты труда работников организации в пользу других организаций и отдельных лиц на основании исполнительных документов или постановлений судов, и др.')\n",
    "acc.add_account('91','прочие доходы и расходы','Счет 91 \"Прочие доходы и расходы\" предназначен для обобщения информации прочих доходов и расходов (операционных, внереализационных) отчетного периода, кроме чрезвычайных доходов и расходов.')\n",
    "acc.add_account('91.1','прочие доходы','На субсчете 91-1 \"Прочие доходы\" учитываются поступления активов, признаваемые прочими доходами (за исключением чрезвычайных).','91')\n",
    "acc.add_account('91.2','прочие расходы','На субсчете 91-2 \"Прочие расходы\" учитываются прочие расходы (за исключением чрезвычайных).','91')\n",
    "acc.add_account('91.9','сальдо прочих доходов и расходов','Субсчет 91-9 \"Сальдо прочих доходов и расходов\" предназначен для выявления сальдо прочих доходов и расходов за отчетный месяц.','91')\n",
    "\n",
    "\n",
    "acc.add_account('99','прибыли и убытки','Счет 99 \"Прибыли и убытки\" предназначен для обобщения информации о формировании конечного финансового результата деятельности организации в отчетном году.Конечный финансовый результат (чистая прибыль или чистый убыток) слагается из финансового результата от обычных видов деятельности, а также от прочих доходов и расходов, включая чрезвычайные. По дебету счета 99 \"Прибыли и убытки\" отражаются убытки (потери, расходы), а по кредиту - прибыли (доходы) организации. Сопоставление дебетового и кредитового оборота за отчетный период показывает конечный финансовый результат отчетного периода')\n",
    "acc.add_account('51','расчетные счета','Счет 51 \"Расчетные счета\" предназначен для обобщения информации о наличии и движении денежных средств в валюте Российской Федерации на расчетных счетах организации, открытых в кредитных организациях.По дебету счета 51 \"Расчетные счета\" отражается поступление денежных средств на расчетные счета организации. По кредиту счета 51 \"Расчетные счета\" отражается списание денежных средств с расчетных счетов организации. Суммы, ошибочно отнесенные в кредит или дебет расчетного счета организации и обнаруженные при проверке выписок кредитной организации, отражаются на счете 76 \"Расчеты с разными дебиторами и кредиторами\" (субсчет \"Расчеты по претензиям\").')\n",
    "acc.add_account('72','средства переданные и полученные','средства переданные и полученные')\n",
    "acc.add_account('72.1','вложение личных средств ИП','вложение личных средств ИП','72')\n",
    "acc.add_account('72.2','вывод в личные средства ИП','вывод в личные средства','72')\n",
    "acc.add_account('52','валютные счета','Счет 52 \"Валютные счета\" предназначен для обобщения информации о наличии и движении денежных средств в иностранных валютах на валютных счетах организации, открытых в кредитных организациях на территории Российской Федерации и за ее пределами.')\n",
    "acc.add_account('57','переводы в пути','Счет 57 \"Переводы в пути\" предназначен для обобщения информации о движении денежных средств (переводов) в валюте Российской Федерации и иностранных валютах в пути, т.е. денежных сумм (преимущественно выручка от продажи товаров организаций, осуществляющих торговую деятельность), внесенных в кассы кредитных организаций, сберегательные кассы или кассы почтовых отделений для зачисления на расчетный или иной счет организации, но еще не зачисленных по назначению.')\n"
   ]
  },
  {
   "cell_type": "code",
   "execution_count": null,
   "metadata": {},
   "outputs": [],
   "source": [
    "acc.driver.get_data('accounts_info')"
   ]
  },
  {
   "cell_type": "code",
   "execution_count": null,
   "metadata": {},
   "outputs": [],
   "source": [
    "acc.driver.get_element('accounts_info','account_number','58')"
   ]
  },
  {
   "cell_type": "code",
   "execution_count": null,
   "metadata": {},
   "outputs": [],
   "source": [
    "acc.driver.update_element('accounts_info','account_number','58',{'account_descr_short':'ww','account_descr_long':'ww3'})"
   ]
  },
  {
   "cell_type": "code",
   "execution_count": null,
   "metadata": {},
   "outputs": [],
   "source": [
    "acc.driver.delete_element('accounts_info','account_number','58')"
   ]
  },
  {
   "cell_type": "code",
   "execution_count": null,
   "metadata": {},
   "outputs": [],
   "source": [
    "acc.driver.drop_db()"
   ]
  },
  {
   "cell_type": "code",
   "execution_count": null,
   "metadata": {},
   "outputs": [],
   "source": [
    "acc.driver.accounts_info.find_one()"
   ]
  },
  {
   "cell_type": "markdown",
   "metadata": {
    "collapsed": true
   },
   "source": [
    "## Валюта"
   ]
  },
  {
   "cell_type": "code",
   "execution_count": null,
   "metadata": {},
   "outputs": [],
   "source": [
    "acc.add_currency('RUR','₽','Российский рубль')\n",
    "acc.add_currency('USD','$','доллар США') "
   ]
  },
  {
   "cell_type": "code",
   "execution_count": null,
   "metadata": {},
   "outputs": [],
   "source": [
    "acc.driver.get_data('currency')"
   ]
  },
  {
   "cell_type": "code",
   "execution_count": null,
   "metadata": {},
   "outputs": [],
   "source": [
    "acc.currency_hist"
   ]
  },
  {
   "cell_type": "code",
   "execution_count": null,
   "metadata": {},
   "outputs": [],
   "source": [
    "import datetime\n",
    "a=acc.currency_hist('USD',datetime.datetime(2019,1,1))"
   ]
  },
  {
   "cell_type": "code",
   "execution_count": null,
   "metadata": {},
   "outputs": [],
   "source": [
    "acc.driver.get_data('exchange_rate')"
   ]
  },
  {
   "cell_type": "code",
   "execution_count": null,
   "metadata": {},
   "outputs": [],
   "source": [
    "datetime.datetime.strptime('10.01.2019',\"%d.%m.%Y\")"
   ]
  },
  {
   "cell_type": "code",
   "execution_count": null,
   "metadata": {},
   "outputs": [],
   "source": [
    "acc.driver.get_element('currency','code','USD')['currency_id']"
   ]
  },
  {
   "cell_type": "code",
   "execution_count": null,
   "metadata": {},
   "outputs": [],
   "source": [
    "acc.transaction(1,2,'2111-01-01','rur',True,111,22,'description')"
   ]
  },
  {
   "cell_type": "code",
   "execution_count": 3,
   "metadata": {},
   "outputs": [
    {
     "data": {
      "text/html": [
       "<div>\n",
       "<style scoped>\n",
       "    .dataframe tbody tr th:only-of-type {\n",
       "        vertical-align: middle;\n",
       "    }\n",
       "\n",
       "    .dataframe tbody tr th {\n",
       "        vertical-align: top;\n",
       "    }\n",
       "\n",
       "    .dataframe thead th {\n",
       "        text-align: right;\n",
       "    }\n",
       "</style>\n",
       "<table border=\"1\" class=\"dataframe\">\n",
       "  <thead>\n",
       "    <tr style=\"text-align: right;\">\n",
       "      <th></th>\n",
       "      <th>creation_date</th>\n",
       "      <th>currency</th>\n",
       "      <th>debet_from</th>\n",
       "      <th>description</th>\n",
       "      <th>document_id</th>\n",
       "      <th>id_account_from</th>\n",
       "      <th>id_account_to</th>\n",
       "      <th>trans_date</th>\n",
       "      <th>trans_id</th>\n",
       "      <th>value</th>\n",
       "    </tr>\n",
       "  </thead>\n",
       "  <tbody>\n",
       "    <tr>\n",
       "      <th>0</th>\n",
       "      <td>2019-02-05 15:46:11.176</td>\n",
       "      <td>rur</td>\n",
       "      <td>True</td>\n",
       "      <td>description</td>\n",
       "      <td>22</td>\n",
       "      <td>1</td>\n",
       "      <td>2</td>\n",
       "      <td>2111-01-01</td>\n",
       "      <td>1</td>\n",
       "      <td>111</td>\n",
       "    </tr>\n",
       "  </tbody>\n",
       "</table>\n",
       "</div>"
      ],
      "text/plain": [
       "            creation_date currency  debet_from  description  document_id  \\\n",
       "0 2019-02-05 15:46:11.176      rur        True  description           22   \n",
       "\n",
       "   id_account_from  id_account_to  trans_date  trans_id  value  \n",
       "0                1              2  2111-01-01         1    111  "
      ]
     },
     "execution_count": 3,
     "metadata": {},
     "output_type": "execute_result"
    }
   ],
   "source": [
    "acc.driver.get_data('transactions')"
   ]
  },
  {
   "cell_type": "code",
   "execution_count": null,
   "metadata": {},
   "outputs": [],
   "source": []
  },
  {
   "cell_type": "code",
   "execution_count": null,
   "metadata": {},
   "outputs": [],
   "source": [
    "settings={'driver':'mongo',\n",
    "          'db_name':'exchange_operations',\n",
    "          'schema_name':'exchange_operations',\n",
    "          'accounts_info':'accounts_descr',\n",
    "          'accounts':'accounts',\n",
    "          'documents':'documents',\n",
    "          'host':None,'port':None,\n",
    "          'transactions':'transactions',\n",
    "          'variables':'variables'}\n",
    "\n",
    "#acc.add_config (**settings)"
   ]
  },
  {
   "cell_type": "code",
   "execution_count": null,
   "metadata": {},
   "outputs": [],
   "source": [
    "cl=MongoClient()\n",
    "db=cl['finance']"
   ]
  },
  {
   "cell_type": "code",
   "execution_count": null,
   "metadata": {},
   "outputs": [],
   "source": [
    "cb.cb_russia_currency_hist('USD',11)"
   ]
  },
  {
   "cell_type": "code",
   "execution_count": null,
   "metadata": {},
   "outputs": [],
   "source": [
    "d.drop_db()"
   ]
  },
  {
   "cell_type": "code",
   "execution_count": null,
   "metadata": {},
   "outputs": [],
   "source": [
    "class document():\n",
    "    __slots__ ='document_descr','date'\n",
    "    def __init__(self,document_descr :int,date):\n",
    "        #self.document_id=document_id\n",
    "        self.document_descr=document_descr\n",
    "        self.date=date "
   ]
  },
  {
   "cell_type": "code",
   "execution_count": null,
   "metadata": {},
   "outputs": [],
   "source": [
    "doc=document('test doc','2017-01-01')"
   ]
  },
  {
   "cell_type": "code",
   "execution_count": null,
   "metadata": {},
   "outputs": [],
   "source": [
    "d.add_row('documents',doc)"
   ]
  },
  {
   "cell_type": "code",
   "execution_count": null,
   "metadata": {},
   "outputs": [],
   "source": [
    "cl=MongoClient()\n",
    "test_db=cl['exchange_operations']"
   ]
  },
  {
   "cell_type": "code",
   "execution_count": null,
   "metadata": {},
   "outputs": [],
   "source": [
    "import pprint\n",
    "col=test_db['documents']\n",
    "for post in col.find():\n",
    "    pprint.pprint(post)"
   ]
  },
  {
   "cell_type": "code",
   "execution_count": null,
   "metadata": {},
   "outputs": [],
   "source": []
  },
  {
   "cell_type": "code",
   "execution_count": null,
   "metadata": {},
   "outputs": [],
   "source": [
    "d.variables.update_one({'_id': k}, {'$inc': {'var': 3}})"
   ]
  },
  {
   "cell_type": "code",
   "execution_count": null,
   "metadata": {},
   "outputs": [],
   "source": [
    "dict_trn={'document_id':0,'account_id':0,'document_id':0,'trans_id':0}\n",
    "d.variables.insert_one({'check3':11,'value':dict_trn}).inserted_id"
   ]
  }
 ],
 "metadata": {
  "kernelspec": {
   "display_name": "Python 3",
   "language": "python",
   "name": "python3"
  },
  "language_info": {
   "codemirror_mode": {
    "name": "ipython",
    "version": 3
   },
   "file_extension": ".py",
   "mimetype": "text/x-python",
   "name": "python",
   "nbconvert_exporter": "python",
   "pygments_lexer": "ipython3",
   "version": "3.7.1"
  }
 },
 "nbformat": 4,
 "nbformat_minor": 2
}
