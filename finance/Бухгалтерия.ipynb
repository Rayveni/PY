{
 "cells": [
  {
   "cell_type": "code",
   "execution_count": null,
   "metadata": {},
   "outputs": [],
   "source": [
    "import sys\n",
    "import datetime\n",
    "from os import path\n",
    "home=False\n",
    "if home:\n",
    "    CURRENT_DIR = r'C:\\Users\\Kart\\jupyter_projects\\finance\\MyAccounting'\n",
    "    settings_path=r'C:\\Users\\Kart\\jupyter_projects\\finance'\n",
    "else:\n",
    "    CURRENT_DIR = r'C:\\Users\\IVOLOCHKOV\\jupyter_projects\\finance\\MyAccounting'\n",
    "    settings_path=r'C:\\Users\\IVOLOCHKOV\\jupyter_projects\\finance'\n",
    "sys.path.insert(0, CURRENT_DIR)\n",
    "\n",
    "from MyAccounting import MyAccounting\n",
    "acc= MyAccounting(settings_path)"
   ]
  },
  {
   "cell_type": "code",
   "execution_count": null,
   "metadata": {},
   "outputs": [],
   "source": [
    "from MyAccounting.scripts import  run_scripts\n",
    "run_scripts(acc)\n",
    "file_path=path.join(settings_path,r'exports\\AccountStatement_2018-01-01-2019-02-18.csv')\n",
    "acc.process_alfa(file_path)"
   ]
  },
  {
   "cell_type": "code",
   "execution_count": null,
   "metadata": {},
   "outputs": [],
   "source": [
    "#acc.driver.get_data('bank_accounts')\n",
    "#acc.driver.get_data('accounts_info')\n",
    "#acc.driver.get_element('accounts_info','account_number','58')\n",
    "#acc.driver.update_element('accounts_info','account_number','58',{'account_descr_short':'ww','account_descr_long':'ww3'})\n",
    "#acc.driver.delete_element('accounts_info','account_number','58')\n",
    "#acc.driver.drop_db()\n",
    "#acc.driver.accounts_info.find_one()"
   ]
  },
  {
   "cell_type": "code",
   "execution_count": null,
   "metadata": {},
   "outputs": [],
   "source": [
    "#acc.add_deposit(datetime.datetime(2015,1,1),'Альфа-Банк(зарплатный)','Альфа-Банк(накопилка)',22)\n",
    "#acc.invest_money(144100,datetime.datetime(2018,12,1),'Альфа-Банк(зарплатный)',document='Вложение личных средств для конвертации')\n",
    "#acc.buy_currency('USD',1000,67500,'Альфа-Банк(зарплатный)','Альфа-Банк(депозит доллар)',datetime.datetime(2018,12,3),'Альфа-Банк')"
   ]
  },
  {
   "cell_type": "code",
   "execution_count": null,
   "metadata": {},
   "outputs": [],
   "source": [
    "a=acc.accounts_pretty()\n",
    "#a[(a.report_type=='M')&(a.account=='58.3')&(a.analytics2=='Альфа-Банк(накопилка)')]\n",
    "a[(a.report_type=='M')&(a.account=='58.3')&(a.analytics2!='Альфа-Банк(накопилка)')].sort_values(by=['transaction_date'])"
   ]
  },
  {
   "cell_type": "code",
   "execution_count": null,
   "metadata": {},
   "outputs": [],
   "source": [
    "acc.transactions_info_pretty()"
   ]
  },
  {
   "cell_type": "markdown",
   "metadata": {
    "collapsed": true
   },
   "source": [
    "## Валюта"
   ]
  },
  {
   "cell_type": "code",
   "execution_count": null,
   "metadata": {},
   "outputs": [],
   "source": [
    "acc.driver.get_data('currency')"
   ]
  },
  {
   "cell_type": "code",
   "execution_count": null,
   "metadata": {},
   "outputs": [],
   "source": [
    "import datetime\n",
    "a=acc.currency_hist('USD',datetime.datetime(2019,1,1))\n",
    "acc.driver.get_data('exchange_rate')"
   ]
  },
  {
   "cell_type": "code",
   "execution_count": null,
   "metadata": {},
   "outputs": [],
   "source": [
    "acc.driver.get_data('exchange_rate')"
   ]
  },
  {
   "cell_type": "markdown",
   "metadata": {},
   "source": [
    "## measures & products"
   ]
  },
  {
   "cell_type": "code",
   "execution_count": null,
   "metadata": {},
   "outputs": [],
   "source": [
    "acc.driver.get_data('measures')"
   ]
  },
  {
   "cell_type": "code",
   "execution_count": null,
   "metadata": {},
   "outputs": [],
   "source": [
    "acc.add_product('gzp.','шт.','ddd')\n",
    "acc.add_product('gzp2.','л','dd3333d')\n",
    "acc.driver.get_data('products')"
   ]
  },
  {
   "cell_type": "markdown",
   "metadata": {},
   "source": [
    "## transactions"
   ]
  },
  {
   "cell_type": "code",
   "execution_count": null,
   "metadata": {},
   "outputs": [],
   "source": [
    "acc.add_transaction(1,2,'2111-01-01','rur',True,111,22,'description',1,1)"
   ]
  },
  {
   "cell_type": "code",
   "execution_count": null,
   "metadata": {},
   "outputs": [],
   "source": [
    "acc.driver.get_data('transactions')"
   ]
  },
  {
   "cell_type": "markdown",
   "metadata": {},
   "source": [
    "## customers"
   ]
  },
  {
   "cell_type": "code",
   "execution_count": null,
   "metadata": {},
   "outputs": [],
   "source": [
    "acc.driver.get_data('customers')"
   ]
  },
  {
   "cell_type": "code",
   "execution_count": null,
   "metadata": {},
   "outputs": [],
   "source": [
    "acc.driver.get_data('bank_accounts')"
   ]
  },
  {
   "cell_type": "code",
   "execution_count": null,
   "metadata": {
    "scrolled": true
   },
   "outputs": [],
   "source": [
    "acc.used_tables()"
   ]
  },
  {
   "cell_type": "code",
   "execution_count": null,
   "metadata": {},
   "outputs": [],
   "source": [
    "cb.cb_russia_currency_hist('USD',11)"
   ]
  },
  {
   "cell_type": "code",
   "execution_count": null,
   "metadata": {},
   "outputs": [],
   "source": [
    "d.drop_db()"
   ]
  },
  {
   "cell_type": "code",
   "execution_count": null,
   "metadata": {},
   "outputs": [],
   "source": [
    "acc.currency_hist('USD',datetime.datetime(2019,1,1))"
   ]
  },
  {
   "cell_type": "markdown",
   "metadata": {
    "collapsed": true
   },
   "source": [
    "# добавить запись по счету"
   ]
  },
  {
   "cell_type": "code",
   "execution_count": null,
   "metadata": {},
   "outputs": [],
   "source": [
    "import datetime\n",
    "acc.add_transaction(1,2,datetime.datetime(2030,2,10),1,True,5000,3,'desc',amount =50,is_currency= True,measure_id=2)"
   ]
  },
  {
   "cell_type": "code",
   "execution_count": null,
   "metadata": {},
   "outputs": [],
   "source": [
    "acc.driver.get_data('accounts_info')"
   ]
  },
  {
   "cell_type": "markdown",
   "metadata": {},
   "source": [
    "# проводка покупка валюты\n"
   ]
  },
  {
   "cell_type": "code",
   "execution_count": null,
   "metadata": {},
   "outputs": [],
   "source": [
    "acc.driver.get_data('bank_accounts')"
   ]
  },
  {
   "cell_type": "markdown",
   "metadata": {},
   "source": [
    "# Операции"
   ]
  },
  {
   "cell_type": "code",
   "execution_count": null,
   "metadata": {},
   "outputs": [],
   "source": [
    "import datetime\n",
    "acc.buy_currency('USD',1000,70000,'Альпари ЛС','Альфа-Банк(доллар)',datetime.datetime(2019,1,15),'Альпари')"
   ]
  },
  {
   "cell_type": "code",
   "execution_count": null,
   "metadata": {},
   "outputs": [],
   "source": [
    "acc.invest_money(1000,datetime.datetime(2019,2,15),'Открытие брокер(ЛС)')"
   ]
  },
  {
   "cell_type": "code",
   "execution_count": null,
   "metadata": {},
   "outputs": [],
   "source": [
    "import datetime\n",
    "acc.add_deposit(datetime.datetime(2018,9,12),'Альпари ЛС','Альфа-Банк(доллар)',1000)"
   ]
  },
  {
   "cell_type": "code",
   "execution_count": null,
   "metadata": {},
   "outputs": [],
   "source": [
    "acc.deposit_percents(1000,datetime.datetime(2018,9,12),'Альпари ЛС')"
   ]
  }
 ],
 "metadata": {
  "kernelspec": {
   "display_name": "Python 3",
   "language": "python",
   "name": "python3"
  },
  "language_info": {
   "codemirror_mode": {
    "name": "ipython",
    "version": 3
   },
   "file_extension": ".py",
   "mimetype": "text/x-python",
   "name": "python",
   "nbconvert_exporter": "python",
   "pygments_lexer": "ipython3",
   "version": "3.7.1"
  }
 },
 "nbformat": 4,
 "nbformat_minor": 2
}
