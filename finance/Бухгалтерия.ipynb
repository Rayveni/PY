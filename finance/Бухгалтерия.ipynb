{
 "cells": [
  {
   "cell_type": "code",
   "execution_count": 1,
   "metadata": {},
   "outputs": [
    {
     "name": "stdout",
     "output_type": "stream",
     "text": [
      "driver loaded\n"
     ]
    }
   ],
   "source": [
    "import sys\n",
    "CURRENT_DIR = r'C:\\Users\\Kart\\jupyter_projects\\finance\\MyAccounting'\n",
    "sys.path.insert(0, CURRENT_DIR)\n",
    "\n",
    "from MyAccounting import MyAccounting\n",
    "settings_path=r'C:\\Users\\Kart\\jupyter_projects\\finance'\n",
    "acc= MyAccounting(settings_path)"
   ]
  },
  {
   "cell_type": "code",
   "execution_count": 2,
   "metadata": {},
   "outputs": [
    {
     "name": "stdout",
     "output_type": "stream",
     "text": [
      "success\n"
     ]
    }
   ],
   "source": [
    "acc.driver.drop_db()\n",
    "acc.add_account('58',\n",
    "                'Финансовые вложения',\n",
    "                'Счет 58 «Финансовые вложения» предназначен для обобщения информации о наличии и движении инвестиций организации в государственные ценные бумаги, акции, облигации и иные ценные бумаги других организаций, уставные (складочные) капиталы других организаций, а также предоставленные другим организациям займы.',\n",
    "                 )"
   ]
  },
  {
   "cell_type": "code",
   "execution_count": 3,
   "metadata": {},
   "outputs": [
    {
     "data": {
      "text/html": [
       "<div>\n",
       "<style>\n",
       "    .dataframe thead tr:only-child th {\n",
       "        text-align: right;\n",
       "    }\n",
       "\n",
       "    .dataframe thead th {\n",
       "        text-align: left;\n",
       "    }\n",
       "\n",
       "    .dataframe tbody tr th {\n",
       "        vertical-align: top;\n",
       "    }\n",
       "</style>\n",
       "<table border=\"1\" class=\"dataframe\">\n",
       "  <thead>\n",
       "    <tr style=\"text-align: right;\">\n",
       "      <th></th>\n",
       "      <th>account_descr_long</th>\n",
       "      <th>account_descr_short</th>\n",
       "      <th>account_id</th>\n",
       "      <th>account_number</th>\n",
       "      <th>account_parent</th>\n",
       "      <th>creation_date</th>\n",
       "    </tr>\n",
       "  </thead>\n",
       "  <tbody>\n",
       "    <tr>\n",
       "      <th>0</th>\n",
       "      <td>Счет 58 «Финансовые вложения» предназначен для...</td>\n",
       "      <td>Финансовые вложения</td>\n",
       "      <td>1</td>\n",
       "      <td>58</td>\n",
       "      <td>None</td>\n",
       "      <td>2019-02-05 07:11:05.678</td>\n",
       "    </tr>\n",
       "  </tbody>\n",
       "</table>\n",
       "</div>"
      ],
      "text/plain": [
       "                                  account_descr_long  account_descr_short  \\\n",
       "0  Счет 58 «Финансовые вложения» предназначен для...  Финансовые вложения   \n",
       "\n",
       "   account_id account_number account_parent           creation_date  \n",
       "0           1             58           None 2019-02-05 07:11:05.678  "
      ]
     },
     "execution_count": 3,
     "metadata": {},
     "output_type": "execute_result"
    }
   ],
   "source": [
    "acc.driver.get_data('accounts_info')"
   ]
  },
  {
   "cell_type": "code",
   "execution_count": null,
   "metadata": {
    "collapsed": true
   },
   "outputs": [],
   "source": [
    "acc.driver.get_element('accounts_info','account_number','589')['account_id']"
   ]
  },
  {
   "cell_type": "code",
   "execution_count": null,
   "metadata": {
    "collapsed": true
   },
   "outputs": [],
   "source": [
    "    def add_account(self,account_number :str,account_descr_short :str,account_descr_long :str,account_parrent:str =None):\n",
    "        account_parrent_id=None\n",
    "        if account_parent:\n",
    "            parent=self.driver.get_element(self,'accounts_info','account_number',account_parrent)\n",
    "            if parent is None:\n",
    "                print('No parent account found')\n",
    "                break\n",
    "            account_parrent_id=parent['account_id']\n",
    "        acc=accounts_info(account_number,account_descr_short,account_descr_long,account_parrent_id)\n",
    "        res=self.driver.add_row('accounts_info',acc)\n",
    "        if res[0]:\n",
    "            print('success')\n",
    "        else:\n",
    "            print('Error: '+res[1])"
   ]
  },
  {
   "cell_type": "code",
   "execution_count": null,
   "metadata": {
    "collapsed": true
   },
   "outputs": [],
   "source": [
    "acc.driver.update_element('accounts_info','account_number','58',{'account_descr_short':'ww','account_descr_long':'ww3'})"
   ]
  },
  {
   "cell_type": "code",
   "execution_count": null,
   "metadata": {
    "collapsed": true
   },
   "outputs": [],
   "source": [
    "acc.driver.delete_element('accounts_info','account_number','58')"
   ]
  },
  {
   "cell_type": "code",
   "execution_count": null,
   "metadata": {
    "collapsed": true
   },
   "outputs": [],
   "source": [
    "acc.driver.drop_db()"
   ]
  },
  {
   "cell_type": "code",
   "execution_count": null,
   "metadata": {
    "collapsed": true
   },
   "outputs": [],
   "source": []
  },
  {
   "cell_type": "code",
   "execution_count": null,
   "metadata": {
    "collapsed": true
   },
   "outputs": [],
   "source": [
    "acc.driver.get_data('documents')"
   ]
  },
  {
   "cell_type": "code",
   "execution_count": null,
   "metadata": {
    "collapsed": true
   },
   "outputs": [],
   "source": [
    "doc=document('test doc','2017-01-01')"
   ]
  },
  {
   "cell_type": "code",
   "execution_count": null,
   "metadata": {
    "collapsed": true
   },
   "outputs": [],
   "source": [
    "acc.driver.add_row('documents',doc)"
   ]
  },
  {
   "cell_type": "code",
   "execution_count": null,
   "metadata": {
    "collapsed": true
   },
   "outputs": [],
   "source": []
  },
  {
   "cell_type": "code",
   "execution_count": null,
   "metadata": {
    "collapsed": true
   },
   "outputs": [],
   "source": [
    "settings={'driver':'mongo',\n",
    "          'db_name':'exchange_operations',\n",
    "          'schema_name':'exchange_operations',\n",
    "          'accounts_info':'accounts_descr',\n",
    "          'accounts':'accounts',\n",
    "          'documents':'documents',\n",
    "          'host':None,'port':None,\n",
    "          'transactions':'transactions',\n",
    "          'variables':'variables'}\n",
    "\n",
    "#acc.add_config (**settings)"
   ]
  },
  {
   "cell_type": "code",
   "execution_count": null,
   "metadata": {
    "collapsed": true
   },
   "outputs": [],
   "source": [
    "cl=MongoClient()\n",
    "db=cl['finance']"
   ]
  },
  {
   "cell_type": "code",
   "execution_count": null,
   "metadata": {
    "collapsed": true
   },
   "outputs": [],
   "source": []
  },
  {
   "cell_type": "code",
   "execution_count": null,
   "metadata": {
    "collapsed": true
   },
   "outputs": [],
   "source": []
  },
  {
   "cell_type": "code",
   "execution_count": null,
   "metadata": {
    "collapsed": true
   },
   "outputs": [],
   "source": [
    "d.drop_db()"
   ]
  },
  {
   "cell_type": "code",
   "execution_count": null,
   "metadata": {
    "collapsed": true
   },
   "outputs": [],
   "source": [
    "class document():\n",
    "    __slots__ ='document_descr','date'\n",
    "    def __init__(self,document_descr :int,date):\n",
    "        #self.document_id=document_id\n",
    "        self.document_descr=document_descr\n",
    "        self.date=date "
   ]
  },
  {
   "cell_type": "code",
   "execution_count": null,
   "metadata": {
    "collapsed": true
   },
   "outputs": [],
   "source": [
    "doc=document('test doc','2017-01-01')"
   ]
  },
  {
   "cell_type": "code",
   "execution_count": null,
   "metadata": {
    "collapsed": true
   },
   "outputs": [],
   "source": [
    "d.add_row('documents',doc)"
   ]
  },
  {
   "cell_type": "code",
   "execution_count": null,
   "metadata": {
    "collapsed": true
   },
   "outputs": [],
   "source": [
    "cl=MongoClient()\n",
    "test_db=cl['exchange_operations']"
   ]
  },
  {
   "cell_type": "code",
   "execution_count": null,
   "metadata": {
    "collapsed": true
   },
   "outputs": [],
   "source": [
    "import pandas as pd\n",
    "\n",
    "pd.DataFrame(d.get_data('documents'))"
   ]
  },
  {
   "cell_type": "code",
   "execution_count": null,
   "metadata": {
    "collapsed": true
   },
   "outputs": [],
   "source": [
    "import pprint\n",
    "col=test_db['documents']\n",
    "for post in col.find():\n",
    "    pprint.pprint(post)"
   ]
  },
  {
   "cell_type": "code",
   "execution_count": null,
   "metadata": {
    "collapsed": true
   },
   "outputs": [],
   "source": []
  },
  {
   "cell_type": "code",
   "execution_count": null,
   "metadata": {
    "collapsed": true
   },
   "outputs": [],
   "source": [
    "d.variables.update_one({'_id': k}, {'$inc': {'var': 3}})"
   ]
  },
  {
   "cell_type": "code",
   "execution_count": null,
   "metadata": {
    "collapsed": true
   },
   "outputs": [],
   "source": [
    "dict_trn={'document_id':0,'account_id':0,'document_id':0,'trans_id':0}\n",
    "d.variables.insert_one({'check3':11,'value':dict_trn}).inserted_id"
   ]
  },
  {
   "cell_type": "code",
   "execution_count": null,
   "metadata": {
    "collapsed": true
   },
   "outputs": [],
   "source": [
    "from pymongo import MongoClient,DESCENDING,ASCENDING\n",
    "acc_engine=MyAccounting()\n",
    "acc_engine.db_client = MongoClient()   "
   ]
  },
  {
   "cell_type": "code",
   "execution_count": null,
   "metadata": {
    "collapsed": true
   },
   "outputs": [],
   "source": [
    "import datetime\n",
    "\n",
    "datetime.datetime.now(),datetime.datetime.now().fromtimestamp(ts).strftime('%Y-%m-%d %H:%M:%S')"
   ]
  },
  {
   "cell_type": "code",
   "execution_count": null,
   "metadata": {
    "collapsed": true
   },
   "outputs": [],
   "source": [
    "from os import path,makedirs\n",
    "import json\n",
    "from MyAccounting.attributes import config,account,document,transaction,accounts_info\n",
    "\n",
    "class MyAccounting():\n",
    "    __slots__ ='config_path','config_empty','config','config_filename','driver'\n",
    "    \n",
    "    def __init__(self, config_path:str ):\n",
    "        self.config_filename='MyAccounting_settings.json'\n",
    "        self.config_path= config_path     \n",
    "        file_path,path_exists=self.__check_file_existance(config_path)      \n",
    "        if path_exists:\n",
    "            self.config_empty=False  \n",
    "            self.config_filename=file_path\n",
    "            self.__load_config()\n",
    "            self.__load_driver()\n",
    "        else:\n",
    "            self.config_empty=True\n",
    "            print('Config file requed:use add_config function')\n",
    "            \n",
    "    def __check_file_existance(self,config_path: str)-> (str,bool):\n",
    "        file_path=path.join(config_path,self.config_filename)\n",
    "        return file_path,path.exists(file_path)\n",
    " \n",
    "    def __load_config(self):\n",
    "        try:\n",
    "            with open(self.config_filename) as f:\n",
    "                data = json.load(f)\n",
    "            self.config=data\n",
    "        except:\n",
    "            print('Error reading config file')\n",
    "            \n",
    "    def __load_driver(self):\n",
    "        if self.config['driver']=='mongo':\n",
    "            from MyAccounting.drivers import MongoDriver\n",
    "            self.driver=MongoDriver(self.config)\n",
    "            print (\"driver loaded\")\n",
    "        else:\n",
    "            print('Unknown driver')\n",
    "            \n",
    "\n",
    "    def add_config(self,**kwargs):\n",
    "\n",
    "        if self.config_empty:\n",
    "            if not path.exists(self.config_path):\n",
    "                makedirs(self.config_path)\n",
    "            filename=path.join(self.config_path,self.config_filename)   \n",
    "            self.config_filename=filename\n",
    "            \n",
    "            conf=config(**kwargs)\n",
    "\n",
    "            with open(filename,'w') as f:\n",
    "                json.dump(conf.data, f)\n",
    "            self.config_empty=False\n",
    "            self.__load_config()\n",
    "\n",
    "    def add_account(self,account_number :str,account_descr_short :str,account_descr_long :str,account_parrent:int =None):\n",
    "        accounts_info(account_number,account_descr_short,account_descr_long,account_parrent)"
   ]
  },
  {
   "cell_type": "code",
   "execution_count": null,
   "metadata": {
    "collapsed": true
   },
   "outputs": [],
   "source": [
    "    def add_account(self,account_number :str,account_descr_short :str,account_descr_long :str,account_parrent:int =None):\n",
    "        acc=accounts_info(account_number,account_descr_short,account_descr_long,account_parrent)\n",
    "        self.driver.add_row('accounts_info',acc)"
   ]
  },
  {
   "cell_type": "code",
   "execution_count": null,
   "metadata": {
    "collapsed": true
   },
   "outputs": [],
   "source": [
    "try:\n",
    "    a=1/0\n",
    "except AssertionError as error:\n",
    "    print(error)\n"
   ]
  },
  {
   "cell_type": "code",
   "execution_count": null,
   "metadata": {
    "collapsed": true
   },
   "outputs": [],
   "source": []
  },
  {
   "cell_type": "code",
   "execution_count": null,
   "metadata": {
    "collapsed": true
   },
   "outputs": [],
   "source": [
    "    def update_element(self,table,search_column,search_value,dict_with_new_values):\n",
    "        collection=getattr(self,table)\n",
    "        collection.update_one({search_column:search_value},{'$set':dict_with_new_values})  \n",
    "  \n",
    "    \n",
    "    \n",
    "    update_one({'_id':self.id_dict[0]},{'$set':{'value.'+id_attr:next_attr_value}})  "
   ]
  },
  {
   "cell_type": "code",
   "execution_count": null,
   "metadata": {
    "collapsed": true
   },
   "outputs": [],
   "source": []
  }
 ],
 "metadata": {
  "kernelspec": {
   "display_name": "Python 3",
   "language": "python",
   "name": "python3"
  },
  "language_info": {
   "codemirror_mode": {
    "name": "ipython",
    "version": 3
   },
   "file_extension": ".py",
   "mimetype": "text/x-python",
   "name": "python",
   "nbconvert_exporter": "python",
   "pygments_lexer": "ipython3",
   "version": "3.6.7"
  }
 },
 "nbformat": 4,
 "nbformat_minor": 2
}
