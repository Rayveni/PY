{
 "cells": [
  {
   "cell_type": "code",
   "execution_count": 1,
   "metadata": {},
   "outputs": [
    {
     "name": "stdout",
     "output_type": "stream",
     "text": [
      "driver loaded\n"
     ]
    }
   ],
   "source": [
    "import sys\n",
    "CURRENT_DIR = r'C:\\Users\\Kart\\jupyter_projects\\finance\\MyAccounting'\n",
    "sys.path.insert(0, CURRENT_DIR)\n",
    "\n",
    "from MyAccounting import MyAccounting\n",
    "settings_path=r'C:\\Users\\Kart\\jupyter_projects\\finance'\n",
    "acc= MyAccounting(settings_path)"
   ]
  },
  {
   "cell_type": "code",
   "execution_count": 2,
   "metadata": {},
   "outputs": [
    {
     "name": "stdout",
     "output_type": "stream",
     "text": [
      "Error: E11000 duplicate key error collection: exchange_operations.accounts_descr index: account_number_1 dup key: { : \"58\" }\n"
     ]
    }
   ],
   "source": [
    "acc.add_account('58','Финансовые вложения','Счет 58 «Финансовые вложения» предназначен для обобщения информации о наличии и движении инвестиций организации в государственные ценные бумаги, акции, облигации и иные ценные бумаги других организаций, уставные (складочные) капиталы других организаций, а также предоставленные другим организациям займы.')"
   ]
  },
  {
   "cell_type": "code",
   "execution_count": 3,
   "metadata": {},
   "outputs": [
    {
     "data": {
      "text/html": [
       "<div>\n",
       "<style>\n",
       "    .dataframe thead tr:only-child th {\n",
       "        text-align: right;\n",
       "    }\n",
       "\n",
       "    .dataframe thead th {\n",
       "        text-align: left;\n",
       "    }\n",
       "\n",
       "    .dataframe tbody tr th {\n",
       "        vertical-align: top;\n",
       "    }\n",
       "</style>\n",
       "<table border=\"1\" class=\"dataframe\">\n",
       "  <thead>\n",
       "    <tr style=\"text-align: right;\">\n",
       "      <th></th>\n",
       "      <th>account_descr_long</th>\n",
       "      <th>account_descr_short</th>\n",
       "      <th>account_id</th>\n",
       "      <th>account_number</th>\n",
       "      <th>account_parrent</th>\n",
       "      <th>creation_date</th>\n",
       "    </tr>\n",
       "  </thead>\n",
       "  <tbody>\n",
       "    <tr>\n",
       "      <th>0</th>\n",
       "      <td>Счет 58 «Финансовые вложения» предназначен для...</td>\n",
       "      <td>Финансовые вложения</td>\n",
       "      <td>1</td>\n",
       "      <td>58</td>\n",
       "      <td>None</td>\n",
       "      <td>2019-02-03 10:11:03.298</td>\n",
       "    </tr>\n",
       "  </tbody>\n",
       "</table>\n",
       "</div>"
      ],
      "text/plain": [
       "                                  account_descr_long  account_descr_short  \\\n",
       "0  Счет 58 «Финансовые вложения» предназначен для...  Финансовые вложения   \n",
       "\n",
       "   account_id account_number account_parrent           creation_date  \n",
       "0           1             58            None 2019-02-03 10:11:03.298  "
      ]
     },
     "execution_count": 3,
     "metadata": {},
     "output_type": "execute_result"
    }
   ],
   "source": [
    "acc.driver.get_data('accounts_info')"
   ]
  },
  {
   "cell_type": "code",
   "execution_count": null,
   "metadata": {
    "collapsed": true
   },
   "outputs": [],
   "source": []
  },
  {
   "cell_type": "code",
   "execution_count": null,
   "metadata": {
    "collapsed": true
   },
   "outputs": [],
   "source": [
    "acc.driver.drop_db()"
   ]
  },
  {
   "cell_type": "code",
   "execution_count": null,
   "metadata": {
    "collapsed": true
   },
   "outputs": [],
   "source": []
  },
  {
   "cell_type": "code",
   "execution_count": null,
   "metadata": {},
   "outputs": [],
   "source": [
    "acc.driver.get_data('documents')"
   ]
  },
  {
   "cell_type": "code",
   "execution_count": null,
   "metadata": {
    "collapsed": true
   },
   "outputs": [],
   "source": [
    "doc=document('test doc','2017-01-01')"
   ]
  },
  {
   "cell_type": "code",
   "execution_count": null,
   "metadata": {
    "collapsed": true
   },
   "outputs": [],
   "source": [
    "acc.driver.add_row('documents',doc)"
   ]
  },
  {
   "cell_type": "code",
   "execution_count": null,
   "metadata": {
    "collapsed": true
   },
   "outputs": [],
   "source": []
  },
  {
   "cell_type": "code",
   "execution_count": null,
   "metadata": {
    "collapsed": true
   },
   "outputs": [],
   "source": [
    "settings={'driver':'mongo',\n",
    "          'db_name':'exchange_operations',\n",
    "          'schema_name':'exchange_operations',\n",
    "          'accounts_info':'accounts_descr',\n",
    "          'accounts':'accounts',\n",
    "          'documents':'documents',\n",
    "          'host':None,'port':None,\n",
    "          'transactions':'transactions',\n",
    "          'variables':'variables'}\n",
    "\n",
    "#acc.add_config (**settings)"
   ]
  },
  {
   "cell_type": "code",
   "execution_count": null,
   "metadata": {
    "collapsed": true
   },
   "outputs": [],
   "source": [
    "cl=MongoClient()\n",
    "db=cl['finance']"
   ]
  },
  {
   "cell_type": "code",
   "execution_count": null,
   "metadata": {
    "collapsed": true
   },
   "outputs": [],
   "source": []
  },
  {
   "cell_type": "code",
   "execution_count": null,
   "metadata": {},
   "outputs": [],
   "source": []
  },
  {
   "cell_type": "code",
   "execution_count": null,
   "metadata": {},
   "outputs": [],
   "source": [
    "d.drop_db()"
   ]
  },
  {
   "cell_type": "code",
   "execution_count": null,
   "metadata": {},
   "outputs": [],
   "source": [
    "class document():\n",
    "    __slots__ ='document_descr','date'\n",
    "    def __init__(self,document_descr :int,date):\n",
    "        #self.document_id=document_id\n",
    "        self.document_descr=document_descr\n",
    "        self.date=date "
   ]
  },
  {
   "cell_type": "code",
   "execution_count": null,
   "metadata": {},
   "outputs": [],
   "source": [
    "doc=document('test doc','2017-01-01')"
   ]
  },
  {
   "cell_type": "code",
   "execution_count": null,
   "metadata": {},
   "outputs": [],
   "source": [
    "d.add_row('documents',doc)"
   ]
  },
  {
   "cell_type": "code",
   "execution_count": null,
   "metadata": {},
   "outputs": [],
   "source": [
    "cl=MongoClient()\n",
    "test_db=cl['exchange_operations']"
   ]
  },
  {
   "cell_type": "code",
   "execution_count": null,
   "metadata": {},
   "outputs": [],
   "source": [
    "import pandas as pd\n",
    "\n",
    "pd.DataFrame(d.get_data('documents'))"
   ]
  },
  {
   "cell_type": "code",
   "execution_count": null,
   "metadata": {},
   "outputs": [],
   "source": [
    "import pprint\n",
    "col=test_db['documents']\n",
    "for post in col.find():\n",
    "    pprint.pprint(post)"
   ]
  },
  {
   "cell_type": "code",
   "execution_count": null,
   "metadata": {},
   "outputs": [],
   "source": []
  },
  {
   "cell_type": "code",
   "execution_count": null,
   "metadata": {},
   "outputs": [],
   "source": [
    "d.variables.update_one({'_id': k}, {'$inc': {'var': 3}})"
   ]
  },
  {
   "cell_type": "code",
   "execution_count": null,
   "metadata": {
    "collapsed": true
   },
   "outputs": [],
   "source": [
    "dict_trn={'document_id':0,'account_id':0,'document_id':0,'trans_id':0}\n",
    "d.variables.insert_one({'check3':11,'value':dict_trn}).inserted_id"
   ]
  },
  {
   "cell_type": "code",
   "execution_count": null,
   "metadata": {
    "collapsed": true
   },
   "outputs": [],
   "source": [
    "from pymongo import MongoClient,DESCENDING,ASCENDING\n",
    "acc_engine=MyAccounting()\n",
    "acc_engine.db_client = MongoClient()   "
   ]
  },
  {
   "cell_type": "code",
   "execution_count": null,
   "metadata": {
    "collapsed": true
   },
   "outputs": [],
   "source": [
    "import datetime\n",
    "\n",
    "datetime.datetime.now(),datetime.datetime.now().fromtimestamp(ts).strftime('%Y-%m-%d %H:%M:%S')"
   ]
  },
  {
   "cell_type": "code",
   "execution_count": null,
   "metadata": {
    "collapsed": true
   },
   "outputs": [],
   "source": [
    "from os import path,makedirs\n",
    "import json\n",
    "from MyAccounting.attributes import config,account,document,transaction,accounts_info\n",
    "\n",
    "class MyAccounting():\n",
    "    __slots__ ='config_path','config_empty','config','config_filename','driver'\n",
    "    \n",
    "    def __init__(self, config_path:str ):\n",
    "        self.config_filename='MyAccounting_settings.json'\n",
    "        self.config_path= config_path     \n",
    "        file_path,path_exists=self.__check_file_existance(config_path)      \n",
    "        if path_exists:\n",
    "            self.config_empty=False  \n",
    "            self.config_filename=file_path\n",
    "            self.__load_config()\n",
    "            self.__load_driver()\n",
    "        else:\n",
    "            self.config_empty=True\n",
    "            print('Config file requed:use add_config function')\n",
    "            \n",
    "    def __check_file_existance(self,config_path: str)-> (str,bool):\n",
    "        file_path=path.join(config_path,self.config_filename)\n",
    "        return file_path,path.exists(file_path)\n",
    " \n",
    "    def __load_config(self):\n",
    "        try:\n",
    "            with open(self.config_filename) as f:\n",
    "                data = json.load(f)\n",
    "            self.config=data\n",
    "        except:\n",
    "            print('Error reading config file')\n",
    "            \n",
    "    def __load_driver(self):\n",
    "        if self.config['driver']=='mongo':\n",
    "            from MyAccounting.drivers import MongoDriver\n",
    "            self.driver=MongoDriver(self.config)\n",
    "            print (\"driver loaded\")\n",
    "        else:\n",
    "            print('Unknown driver')\n",
    "            \n",
    "\n",
    "    def add_config(self,**kwargs):\n",
    "\n",
    "        if self.config_empty:\n",
    "            if not path.exists(self.config_path):\n",
    "                makedirs(self.config_path)\n",
    "            filename=path.join(self.config_path,self.config_filename)   \n",
    "            self.config_filename=filename\n",
    "            \n",
    "            conf=config(**kwargs)\n",
    "\n",
    "            with open(filename,'w') as f:\n",
    "                json.dump(conf.data, f)\n",
    "            self.config_empty=False\n",
    "            self.__load_config()\n",
    "\n",
    "    def add_account(self,account_number :str,account_descr_short :str,account_descr_long :str,account_parrent:int =None):\n",
    "        accounts_info(account_number,account_descr_short,account_descr_long,account_parrent)"
   ]
  },
  {
   "cell_type": "code",
   "execution_count": null,
   "metadata": {
    "collapsed": true
   },
   "outputs": [],
   "source": [
    "    def add_account(self,account_number :str,account_descr_short :str,account_descr_long :str,account_parrent:int =None):\n",
    "        acc=accounts_info(account_number,account_descr_short,account_descr_long,account_parrent)\n",
    "        self.driver.add_row('accounts_info',acc)"
   ]
  },
  {
   "cell_type": "code",
   "execution_count": null,
   "metadata": {},
   "outputs": [],
   "source": [
    "try:\n",
    "    a=1/0\n",
    "except AssertionError as error:\n",
    "    print(error)\n"
   ]
  },
  {
   "cell_type": "code",
   "execution_count": null,
   "metadata": {},
   "outputs": [],
   "source": []
  },
  {
   "cell_type": "code",
   "execution_count": null,
   "metadata": {
    "collapsed": true
   },
   "outputs": [],
   "source": [
    "    def add_row(self,operation_type,obj,creation_date=None)->str:\n",
    "        res={key:getattr(obj, key) for key in obj.__slots__}\n",
    "        attr=self.mapping[operation_type][0]\n",
    "        return_message=(True,'Ok')\n",
    "\n",
    "        if attr is not None:\n",
    "            res[attr]=self.__increment_id(attr)\n",
    "            \n",
    "        if creation_date is None:\n",
    "            res['creation_date']=datetime.datetime.now()\n",
    "        else:\n",
    "            res['creation_date']=creation_date\n",
    "        try:\n",
    "            getattr(self,operation_type).insert_one(res)\n",
    "        except Exception as e: \n",
    "            return_message=(False,e)\n",
    "        return return_message"
   ]
  },
  {
   "cell_type": "code",
   "execution_count": null,
   "metadata": {
    "collapsed": true
   },
   "outputs": [],
   "source": []
  }
 ],
 "metadata": {
  "kernelspec": {
   "display_name": "Python 3",
   "language": "python",
   "name": "python3"
  },
  "language_info": {
   "codemirror_mode": {
    "name": "ipython",
    "version": 3
   },
   "file_extension": ".py",
   "mimetype": "text/x-python",
   "name": "python",
   "nbconvert_exporter": "python",
   "pygments_lexer": "ipython3",
   "version": "3.6.7"
  }
 },
 "nbformat": 4,
 "nbformat_minor": 2
}
