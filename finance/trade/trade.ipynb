{
 "cells": [
  {
   "cell_type": "code",
   "execution_count": null,
   "metadata": {},
   "outputs": [],
   "source": [
    "import sys\n",
    "from os import path\n",
    "home=False\n",
    "if home:\n",
    "    CURRENT_DIR = r'C:\\Users\\Kart\\jupyter_projects\\trade\\trade'\n",
    "    settings_path=r'C:\\Users\\Kart\\jupyter_projects\\trade'\n",
    "else:\n",
    "    CURRENT_DIR = r'C:\\Users\\IVOLOCHKOV\\jupyter_projects\\trade\\trade'\n",
    "    settings_path=r'C:\\Users\\IVOLOCHKOV\\jupyter_projects\\trade'\n",
    "sys.path.insert(0, CURRENT_DIR)\n",
    "\n",
    "from trade import engine\n",
    "%load_ext autoreload\n",
    "%autoreload 2"
   ]
  },
  {
   "cell_type": "code",
   "execution_count": null,
   "metadata": {},
   "outputs": [],
   "source": [
    "import pandas as pd\n",
    "pd.set_option('display.max_columns', 500)\n",
    "\n",
    "eng=engine(settings_path)"
   ]
  },
  {
   "cell_type": "markdown",
   "metadata": {},
   "source": [
    "### Облигации Smartlab"
   ]
  },
  {
   "cell_type": "code",
   "execution_count": null,
   "metadata": {},
   "outputs": [],
   "source": [
    "bonds=eng.smartlab_bonds(date_to='2020-01-01',date_from='2019-09-01',no_oferta=True,sort_values=True)\n",
    "bonds_rur=bonds['RUR']\n",
    "list(bonds_rur.bond_category.unique())"
   ]
  },
  {
   "cell_type": "code",
   "execution_count": null,
   "metadata": {},
   "outputs": [],
   "source": [
    "bonds_rur[bonds_rur.bond_category=='Корпоративные']"
   ]
  },
  {
   "cell_type": "code",
   "execution_count": null,
   "metadata": {},
   "outputs": [],
   "source": [
    "bonds_rur[bonds_rur.bond_category=='Муниципальные']"
   ]
  },
  {
   "cell_type": "code",
   "execution_count": null,
   "metadata": {},
   "outputs": [],
   "source": [
    "bonds_rur[bonds_rur.bond_category=='ОФЗ']"
   ]
  },
  {
   "cell_type": "code",
   "execution_count": null,
   "metadata": {},
   "outputs": [],
   "source": [
    "bonds['USD']"
   ]
  },
  {
   "cell_type": "markdown",
   "metadata": {},
   "source": [
    "## обработка облигаций"
   ]
  },
  {
   "cell_type": "code",
   "execution_count": null,
   "metadata": {},
   "outputs": [],
   "source": [
    "file_path=r'C:\\Users\\IVOLOCHKOV\\jupyter_projects\\bonds.xlsx'\n",
    "eng.bond_analysis_from_quik(file_path,date_from='2019-06-01',date_to='2020-06-01').head(3)"
   ]
  },
  {
   "cell_type": "markdown",
   "metadata": {},
   "source": [
    "# Открытие отчеты"
   ]
  },
  {
   "cell_type": "code",
   "execution_count": null,
   "metadata": {},
   "outputs": [],
   "source": [
    "file_path=r'C:\\Users\\IVOLOCHKOV\\jupyter_projects\\trade\\trade\\Broker_Report_173364_EBS_03.12.2018-23.03.2019.xlsx'\n",
    "ob=eng.openbroker(file_path)"
   ]
  },
  {
   "cell_type": "code",
   "execution_count": null,
   "metadata": {},
   "outputs": [],
   "source": [
    "ob.security_dict()"
   ]
  },
  {
   "cell_type": "code",
   "execution_count": null,
   "metadata": {},
   "outputs": [],
   "source": [
    "ob.current_assets()"
   ]
  },
  {
   "cell_type": "code",
   "execution_count": null,
   "metadata": {},
   "outputs": [],
   "source": [
    "ob.deals()"
   ]
  },
  {
   "cell_type": "code",
   "execution_count": null,
   "metadata": {},
   "outputs": [],
   "source": [
    "ob=openbroker(file_path)"
   ]
  },
  {
   "cell_type": "code",
   "execution_count": null,
   "metadata": {},
   "outputs": [],
   "source": [
    "ob.deals()"
   ]
  }
 ],
 "metadata": {
  "kernelspec": {
   "display_name": "Python 3",
   "language": "python",
   "name": "python3"
  },
  "language_info": {
   "codemirror_mode": {
    "name": "ipython",
    "version": 3
   },
   "file_extension": ".py",
   "mimetype": "text/x-python",
   "name": "python",
   "nbconvert_exporter": "python",
   "pygments_lexer": "ipython3",
   "version": "3.7.1"
  }
 },
 "nbformat": 4,
 "nbformat_minor": 2
}
