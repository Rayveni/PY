{
 "cells": [
  {
   "cell_type": "code",
   "execution_count": 1,
   "metadata": {
    "collapsed": false
   },
   "outputs": [
    {
     "name": "stdout",
     "output_type": "stream",
     "text": [
      "Populating the interactive namespace from numpy and matplotlib\n"
     ]
    }
   ],
   "source": [
    "%pylab inline\n",
    "import pandas as pd\n",
    "import os\n",
    "import numpy as np\n",
    "from sklearn.preprocessing import LabelEncoder\n",
    "from recomendation import SvdDecomposition"
   ]
  },
  {
   "cell_type": "markdown",
   "metadata": {},
   "source": [
    "### Оригинальный код\n",
    "https://github.com/alabid/PySVD/blob/master/regularizedSVD.py"
   ]
  },
  {
   "cell_type": "markdown",
   "metadata": {
    "collapsed": false
   },
   "source": [
    "### Подготовливаем обучающую и контрольную выборки"
   ]
  },
  {
   "cell_type": "code",
   "execution_count": 2,
   "metadata": {
    "collapsed": false
   },
   "outputs": [
    {
     "data": {
      "text/html": [
       "<div>\n",
       "<table border=\"1\" class=\"dataframe\">\n",
       "  <thead>\n",
       "    <tr style=\"text-align: right;\">\n",
       "      <th></th>\n",
       "      <th>userid</th>\n",
       "      <th>itemid</th>\n",
       "      <th>score</th>\n",
       "    </tr>\n",
       "  </thead>\n",
       "  <tbody>\n",
       "    <tr>\n",
       "      <th>0</th>\n",
       "      <td>1</td>\n",
       "      <td>1</td>\n",
       "      <td>5</td>\n",
       "    </tr>\n",
       "    <tr>\n",
       "      <th>1</th>\n",
       "      <td>1</td>\n",
       "      <td>2</td>\n",
       "      <td>3</td>\n",
       "    </tr>\n",
       "    <tr>\n",
       "      <th>2</th>\n",
       "      <td>1</td>\n",
       "      <td>3</td>\n",
       "      <td>4</td>\n",
       "    </tr>\n",
       "    <tr>\n",
       "      <th>3</th>\n",
       "      <td>1</td>\n",
       "      <td>4</td>\n",
       "      <td>3</td>\n",
       "    </tr>\n",
       "    <tr>\n",
       "      <th>4</th>\n",
       "      <td>1</td>\n",
       "      <td>5</td>\n",
       "      <td>3</td>\n",
       "    </tr>\n",
       "  </tbody>\n",
       "</table>\n",
       "</div>"
      ],
      "text/plain": [
       "   userid  itemid  score\n",
       "0       1       1      5\n",
       "1       1       2      3\n",
       "2       1       3      4\n",
       "3       1       4      3\n",
       "4       1       5      3"
      ]
     },
     "execution_count": 2,
     "metadata": {},
     "output_type": "execute_result"
    }
   ],
   "source": [
    "def read_data(path):\n",
    "    df=pd.read_csv(path,sep='\\t',header=None)\n",
    "    df.columns=[['userid', 'itemid', 'score','hash']]\n",
    "    df=df.ix[:,:3].sort_values(by=['userid', 'itemid'])\n",
    "    return df\n",
    "data=read_data(\"ua.base\")\n",
    "test_data=read_data(\"ua.test\")\n",
    "data.head()"
   ]
  },
  {
   "cell_type": "markdown",
   "metadata": {},
   "source": [
    "### Функции кодировки/декодирования данных\n",
    "Алгоритму необходимо подавать закодированные данные <br> Например: пользователи [Петя, Вася, Маша] должны быть преобразованы в [0,1,2]\n"
   ]
  },
  {
   "cell_type": "code",
   "execution_count": 3,
   "metadata": {
    "collapsed": false
   },
   "outputs": [],
   "source": [
    "def fit_encoder(arr):\n",
    "    encoder=LabelEncoder()\n",
    "    encoder.fit(arr)\n",
    "    return len(arr),encoder\n",
    "\n",
    "def encode_data(data,user_encoder,item_encoder,encode_users=False,encode_items=False,sort_vals=False,return_decoder=False):\n",
    "    if encode_users:\n",
    "        data['userid']=user_encoder.transform(data['userid'])\n",
    "        users_decoder=lambda arr:users_encoder.inverse_transform(arr)\n",
    "    else:users_decoder=None\n",
    "\n",
    "    if encode_items:\n",
    "        data['itemid']=item_encoder.transform(data['itemid'])\n",
    "        items_decoder=lambda arr:items_encoder.inverse_transform(arr)     \n",
    "    else:items_decoder=None\n",
    "        \n",
    "    if sort_vals:data=data.sort_values(by=['userid','itemid'])\n",
    "    if return_decoder:\n",
    "        return data,users_decoder,items_decoder\n",
    "    else:\n",
    "        return data"
   ]
  },
  {
   "cell_type": "code",
   "execution_count": 4,
   "metadata": {
    "collapsed": false
   },
   "outputs": [
    {
     "data": {
      "text/plain": [
       "(943, 1682)"
      ]
     },
     "execution_count": 4,
     "metadata": {},
     "output_type": "execute_result"
    }
   ],
   "source": [
    "# получаем число уникальных пользователей и кодировщик пользователей\n",
    "n_users,user_encoder=fit_encoder(pd.concat([data,test_data],axis=0).userid.unique())\n",
    "# получаем число уникальных товаров(предеметов) и кодировщик предметов\n",
    "n_items,item_encoder=fit_encoder(pd.concat([data,test_data],axis=0).itemid.unique())\n",
    "n_users,n_items"
   ]
  },
  {
   "cell_type": "code",
   "execution_count": 5,
   "metadata": {
    "collapsed": false
   },
   "outputs": [],
   "source": [
    "#кодируем исходные данные и получаем декодеры\n",
    "data,users_decoder,items_decoder=encode_data(data,user_encoder,item_encoder,True,True,sort_vals=True,return_decoder=True)\n",
    "test_data=encode_data(test_data,user_encoder,item_encoder,True,True,sort_vals=True)"
   ]
  },
  {
   "cell_type": "markdown",
   "metadata": {},
   "source": [
    "### Классическое разложение\n",
    "Исходную матрицу оценок приблизаем **U*V**,где **U**- матрица пользователей размера **n_user x rank**,\n",
    "матрица **V** -матрица товаров размера **n_items x rank**\n",
    "\n",
    "\n",
    "* **rank** -ранг , **если early_stop**=True,то заканчиваем изменение весов матриц(если изменение весов следующего  раногового столбца матриц U и V не приводит к уменьшению ошибки на первой итерации)\n",
    "* **regularizer** коэффициент регуляризации, подбирать можно по кросс валидации\n",
    "* **lrate** -learning rate, подбирать можно по кросс валидации\n",
    "* **alpha** - коэффициент адаптации learning rate ,если градиентный шаг уменьшил ошибку, lrate=lrate(1+alpha) и наоборот\n",
    "* **n_iterations** -число итераций\n",
    "* **warm_start** если True, исользует **U и V** из предыдущего запуска алгоритма\n",
    "* **print_steps** вывод информации по итерационным шагам"
   ]
  },
  {
   "cell_type": "code",
   "execution_count": 6,
   "metadata": {
    "collapsed": false
   },
   "outputs": [
    {
     "name": "stdout",
     "output_type": "stream",
     "text": [
      "k= 0\n",
      "iteration= 0 ; train_err= 1.04323113766\n",
      "iteration= 1 ; train_err= 1.02208285839\n",
      "iteration= 2 ; train_err= 1.01511446436\n",
      "iteration= 3 ; train_err= 1.01006386475\n",
      "iteration= 4 ; train_err= 1.00592979066\n",
      "iteration= 5 ; train_err= 1.0025854088\n",
      "iteration= 6 ; train_err= 0.999882355871\n",
      "iteration= 7 ; train_err= 0.997678336933\n",
      "iteration= 8 ; train_err= 0.995859741165\n",
      "iteration= 9 ; train_err= 0.994335586914\n",
      "iteration= 10 ; train_err= 0.993027667767\n",
      "iteration= 11 ; train_err= 0.991882793168\n",
      "iteration= 12 ; train_err= 0.990867745715\n",
      "iteration= 13 ; train_err= 0.989959852889\n",
      "k= 1\n",
      "iteration= 0 ; train_err= 0.950498113814\n",
      "iteration= 1 ; train_err= 0.924214483163\n",
      "iteration= 2 ; train_err= 0.917417212936\n",
      "iteration= 3 ; train_err= 0.914507868321\n",
      "iteration= 4 ; train_err= 0.912722414854\n",
      "iteration= 5 ; train_err= 0.911451805807\n",
      "iteration= 6 ; train_err= 0.910489775636\n",
      "k= 2\n",
      "iteration= 0 ; train_err= 0.902114380489\n",
      "iteration= 1 ; train_err= 0.897077672174\n",
      "iteration= 2 ; train_err= 0.894231505673\n",
      "iteration= 3 ; train_err= 0.89235934497\n",
      "iteration= 4 ; train_err= 0.891072572185\n",
      "iteration= 5 ; train_err= 0.890119663189\n",
      "k= 3\n",
      "iteration= 0 ; train_err= 0.887045871477\n",
      "iteration= 1 ; train_err= 0.885115342187\n",
      "iteration= 2 ; train_err= 0.883598705709\n",
      "iteration= 3 ; train_err= 0.882329251544\n",
      "iteration= 4 ; train_err= 0.881207528194\n",
      "iteration= 5 ; train_err= 0.880176022717\n",
      "iteration= 6 ; train_err= 0.879194996315\n",
      "k= 4\n",
      "iteration= 0 ; train_err= 0.875585864474\n",
      "iteration= 1 ; train_err= 0.872177961308\n",
      "iteration= 2 ; train_err= 0.869831047725\n",
      "iteration= 3 ; train_err= 0.867836701726\n",
      "iteration= 4 ; train_err= 0.86598433713\n",
      "iteration= 5 ; train_err= 0.864243653015\n",
      "iteration= 6 ; train_err= 0.862653554008\n",
      "iteration= 7 ; train_err= 0.861238265374\n",
      "iteration= 8 ; train_err= 0.859998185761\n",
      "iteration= 9 ; train_err= 0.858920547255\n",
      "iteration= 10 ; train_err= 0.857983846308\n",
      "k= 5\n",
      "iteration= 0 ; train_err= 0.851800834507\n",
      "iteration= 1 ; train_err= 0.847571106138\n",
      "iteration= 2 ; train_err= 0.845939339955\n",
      "iteration= 3 ; train_err= 0.844899519848\n",
      "iteration= 4 ; train_err= 0.84411622211\n",
      "k= 6\n",
      "iteration= 0 ; train_err= 0.841798031233\n",
      "iteration= 1 ; train_err= 0.840707521173\n",
      "iteration= 2 ; train_err= 0.839861953403\n",
      "k= 7\n",
      "iteration= 0 ; train_err= 0.839092258218\n",
      "iteration= 1 ; train_err= 0.838662253483\n",
      "k= 8\n",
      "iteration= 0 ; train_err= 0.838552365894\n",
      "k= 9\n",
      "iteration= 0 ; train_err= 0.838509160194\n",
      "k= 10\n",
      "iteration= 0 ; train_err= 0.838474733618\n",
      "k= 11\n",
      "iteration= 0 ; train_err= 0.838439025513\n",
      "k= 12\n",
      "iteration= 0 ; train_err= 0.83840361231\n",
      "k= 13\n",
      "iteration= 0 ; train_err= 0.838369071763\n",
      "k= 14\n",
      "iteration= 0 ; train_err= 0.838335776038\n",
      "k= 15\n",
      "iteration= 0 ; train_err= 0.838303822195\n",
      "k= 16\n",
      "iteration= 0 ; train_err= 0.838273169601\n",
      "k= 17\n",
      "iteration= 0 ; train_err= 0.838243763935\n",
      "k= 18\n",
      "iteration= 0 ; train_err= 0.838215486746\n",
      "k= 19\n",
      "iteration= 0 ; train_err= 0.838188287665\n",
      "k= 20\n",
      "iteration= 0 ; train_err= 0.83816210509\n",
      "k= 21\n",
      "iteration= 0 ; train_err= 0.838136873994\n",
      "k= 22\n",
      "iteration= 0 ; train_err= 0.838112580506\n",
      "k= 23\n",
      "iteration= 0 ; train_err= 0.838089112999\n",
      "iteration= 1 ; train_err= 0.837941670442\n",
      "k= 24\n",
      "iteration= 0 ; train_err= 0.838012447669\n",
      "k= 25\n",
      "iteration= 0 ; train_err= 0.838009255741\n",
      "k= 26\n",
      "iteration= 0 ; train_err= 0.837995233768\n",
      "k= 27\n",
      "iteration= 0 ; train_err= 0.837978407549\n",
      "k= 28\n",
      "iteration= 0 ; train_err= 0.837960892605\n",
      "k= 29\n",
      "iteration= 0 ; train_err= 0.837943363998\n",
      "max_rank= 30\n",
      "Wall time: 1min 5s\n"
     ]
    }
   ],
   "source": [
    "%%time\n",
    "svd=SvdDecomposition(data,n_users,n_items)\n",
    "svd.train_ratings(rank=30,lrate=0.035,alpha=0.05,regularizer=0.01,\n",
    "                      stop_criteria = 0.001,n_iterations = 30,trunc_score_rule='default',\n",
    "                     early_stop=False,minibatch_size=0.1,warm_start=False,print_steps=True)"
   ]
  },
  {
   "cell_type": "code",
   "execution_count": 7,
   "metadata": {
    "collapsed": false
   },
   "outputs": [
    {
     "name": "stdout",
     "output_type": "stream",
     "text": [
      "rmsetrain:  0.83516039288\n",
      "rmsetest:  0.94573726649\n",
      "Wall time: 6.16 s\n"
     ]
    }
   ],
   "source": [
    "%%time\n",
    "print (\"rmsetrain: \", svd.calc_rmse(data))\n",
    "print (\"rmsetest: \", svd.calc_rmse(test_data))"
   ]
  },
  {
   "cell_type": "markdown",
   "metadata": {},
   "source": [
    "### Стохастический градиентный спуск (Mini batch)\n",
    "не очень уверен в реализации \n",
    "* **minibatch_size** если <1 , берет соотвутсвующую долю из обучающей выборки, если >=1 , то беретсся соответсвующее число элементов из обучающей выборки"
   ]
  },
  {
   "cell_type": "code",
   "execution_count": 8,
   "metadata": {
    "collapsed": false
   },
   "outputs": [
    {
     "name": "stdout",
     "output_type": "stream",
     "text": [
      "minibatch_size= 1000\n",
      "max_rank= 28\n",
      "Wall time: 26.5 s\n"
     ]
    }
   ],
   "source": [
    "%%time\n",
    "mini=SvdDecomposition(data,n_users,n_items)\n",
    "mini.train_ratings(rank=30,lrate=0.035,regularizer=0.01,\n",
    "                      stop_criteria = 0.001,n_iterations = 30,trunc_score_rule='default',\n",
    "                     early_stop=False,minibatch_size=1000,warm_start=False,algorithm='minibatch')"
   ]
  },
  {
   "cell_type": "code",
   "execution_count": 9,
   "metadata": {
    "collapsed": false
   },
   "outputs": [
    {
     "name": "stdout",
     "output_type": "stream",
     "text": [
      "rmsetrain:  0.933585410913\n",
      "rmsetest:  0.975090292096\n",
      "Wall time: 6.15 s\n"
     ]
    }
   ],
   "source": [
    "%%time\n",
    "print (\"rmsetrain: \", mini.calc_rmse(data))\n",
    "print (\"rmsetest: \", mini.calc_rmse(test_data))"
   ]
  }
 ],
 "metadata": {
  "anaconda-cloud": {},
  "kernelspec": {
   "display_name": "Python [default]",
   "language": "python",
   "name": "python3"
  },
  "language_info": {
   "codemirror_mode": {
    "name": "ipython",
    "version": 3
   },
   "file_extension": ".py",
   "mimetype": "text/x-python",
   "name": "python",
   "nbconvert_exporter": "python",
   "pygments_lexer": "ipython3",
   "version": "3.5.2"
  }
 },
 "nbformat": 4,
 "nbformat_minor": 2
}
