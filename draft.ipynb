{
 "cells": [
  {
   "cell_type": "markdown",
   "metadata": {},
   "source": [
    "\n",
    " \n",
    " Важной характеристикой матрицы, а также линейного преобразования, заданного этой матрицей, является\n",
    "спектр — набор собственных векторов и соответствующих собственных значений.\n",
    "Собственным вектором линейного преобразования $A$ называется такой ненулевой вектор  $x\\in V$ , что для\n",
    "некоторого $\\lambda\\in R$ выполняется $A x\\in \\lambda x$"
   ]
  },
  {
   "cell_type": "markdown",
   "metadata": {},
   "source": [
    "#### Методы оптимизации\n",
    "* **Метод имитации отжига** <br>\n",
    "функция anneal (англ. отжиг) в модуле optimize\n",
    "библиотеки SciPy.\n",
    "* **Метод Нелдера-Мида**, он же симплекс метод\n",
    "<br>Метод Нелдера-Мида является методом\n",
    "оптимизации по умолчанию в функции SciPy.optimize.minimize"
   ]
  },
  {
   "cell_type": "markdown",
   "metadata": {
    "collapsed": true
   },
   "source": [
    "Градиентный спуск , выбираем шаг = $\\epsilon /k$ (евристика)\n",
    "Стохастический градиентный спуск - на каждом шаге вычислияем антиградиент не по всей выборке , а по случайному подмножеству.<br>\n",
    "Сокращенное наименование:**SGD**<br>\n",
    "преимущества: \n",
    "* быстрее выполняется шаг\n",
    "* не требует хранения всей выборки в памяти\n",
    "* онлайн обучение"
   ]
  },
  {
   "cell_type": "markdown",
   "metadata": {
    "collapsed": true
   },
   "source": [
    "### Линейная регрессия\n",
    "\n",
    "$$ Q (w,x)=\\frac{1}{l}\\sum_{l=1}^{l} (\\langle w{,}x \\rangle-y_i)^2 \\to min_w     $$,где Q- функционал ошибки(качеста) модели\n",
    "\n",
    "функционал качества классификации (-1,1)\n",
    "* логистисическая\n",
    "* пороговая\n",
    "* экспоненциальная\n",
    "* кусочно линейная\n",
    "\n",
    "##### Регуляризация\n",
    "нужна для:\n",
    "* борьба со сложностью модели\n",
    "* борьба с линейностью признаков\n",
    "Симптомом переобучения являются большие веса при коээфициентах\n",
    "Для этого добавляем регуляризатор.\n",
    "$$ ||w||_2 =\\sum_{j=1}^{d} w_{j}^2 $$\n",
    "$Q(w,X)+ \\lambda ||w||^2 \\to min _w  $\n",
    "* чем больше $\\lambda$, тем ниже сложность модели\n",
    "* чем меньше $\\lambda$, тем выше риск переобучения\n",
    "* выбор $\\lambda$ по кросс валидации\n",
    "\n",
    "$$ ||w||_2 =\\sum_{j=1}^{d} w_{j}^2  -L_2 регуляризатор$$  **ridge**\n",
    "$$ ||w||_1 =\\sum_{j=1}^{d} |w_{j}| -L_1 регуляризатор $$  **lasso**\n",
    "\n",
    "$L_1$-регуляризатор:\n",
    "* Негладкий\n",
    "* Некоторые веса оказываются нулевыми\n",
    "* Позволяет отбирать признаки"
   ]
  },
  {
   "cell_type": "markdown",
   "metadata": {},
   "source": [
    "### Оценка качества алгоритмов\n",
    "* отложенная выборка\n",
    "* кросс валидация\n",
    "<br>\n",
    "**Перемешивайте выборку!**(только если не строим модели, зависящие от предыдущего периода)<br>\n",
    "При сравнении многих моделей выбираем контрольную выборку(для проверки на адекватность)"
   ]
  },
  {
   "cell_type": "markdown",
   "metadata": {
    "collapsed": true
   },
   "source": [
    "### Метрики качества в задачах регрессии\n",
    "* MSE - среднеквадратичная ошибка\n",
    "<br> подстраивается под выбросы(что плохо)\n",
    "* MAE -считается модуль отклонения, а не квадрат <br>штраф за выборсы ниже\n",
    "* коэффициент детерминации $$ R^2(a,X)=1-\\frac{\\sum_{i=1}^{l} (a(x_i)-y_i)^2}{\\sum_{i=1}^{l} (y_i-\\bar{y})^2}  $$\n",
    "$$ \\bar{y}=\\frac{1}{l}\\sum_{i=1}^{l} y_i $$\n",
    "Показывает долю дисперсии, объясненной общей моделью\n",
    "* $0 \\leq R^2 \\leq 1$ для разумных моделей\n",
    "* $ R^2 =1$ идеальная модель\n",
    "* $ R^2 =0$ модель на уровне константной\n",
    "* $ R^2 < 0$ модель хуже константной"
   ]
  },
  {
   "cell_type": "markdown",
   "metadata": {
    "collapsed": true
   },
   "source": [
    "## Метрики качества в задачах классификации\n",
    "* **доля правильных ответов(accuracy)**:<br> $$accuracy(a,X)=\\frac{1}{l}\\sum_{i=1}^{l} [a(x_i)=y_i]$$<br>проблема- несбаллансированные выборки<br> Для этого введем $q_0$ -доля объектов самого крупного класса выборки<br>\n",
    "и для разумных алгоритмов $accuracy \\in [q_0,1]$\n",
    "##### Матрица ошибок\n"
   ]
  },
  {
   "cell_type": "markdown",
   "metadata": {
    "collapsed": true
   },
   "source": [
    "|   |  y=1 | y=-1  |  \n",
    "|---|---|---|---|---|\n",
    "| a(x)=1  | True Positive(TP)  | False Positive(FP)  |  \n",
    "|a(x)=-1   | False Negative (FN)  | True Negative (TN)  |\n",
    "\n"
   ]
  },
  {
   "cell_type": "markdown",
   "metadata": {
    "collapsed": true
   },
   "source": [
    "* **точность** (насколько верно алгоритм относит объекты к первому классу) $$precision(a,X)=\\frac{TP}{TP+FP}$$\n",
    "* **Полнота** $$recall(a,X)=\\frac{TP}{TP+FN}$$\n",
    "* **F мера - объедиение точности и полноты** $$F=\\frac{2*precison*recall}{precison+recall}$$ <br>**расширенная версия F меры**\n",
    "$$F_\\beta=(1+\\beta^2)*\\frac{precision+recall}{\\beta^2*precision+recall}$$ <br> если $\\beta=0.5 $ получим важнее полнота,если $\\beta=2 $ то важнее точность"
   ]
  },
  {
   "cell_type": "markdown",
   "metadata": {},
   "source": [
    "### Качество оценок классификатора\n",
    "\n",
    "* **PR -кривая **<br>Ось X - полнота<br>Ось Y - точность<br>точки-классификаторы при определённых порогах\n",
    "\n",
    "<br> Левая точка (0,0) <br> Правая точка (1,r),где **r** -доля положительных объектов <br>Для идеального классификатора проходит через (1,1)<br> **AUC-PRC** -площадь под PR-кривой\n",
    "* **POC -кривая **<br>Ось X - FalsePositiveRate$$FPR=\\frac{FP}{FP+TN}$$<br>Ось Y - TruePositiveRate $$TPR=\\frac{TP}{TP+FN}$$<br>\n",
    "**AUC-ROC** -площадь под ROC-кривой\n",
    "Площадь под ROC кривой **не зависит** от баланса классов <br>**AUC-PRG** -выразительнее в случае дисбаланса классов"
   ]
  },
  {
   "cell_type": "markdown",
   "metadata": {
    "collapsed": true
   },
   "source": [
    "### Cross Validation"
   ]
  },
  {
   "cell_type": "code",
   "execution_count": 51,
   "metadata": {
    "collapsed": false
   },
   "outputs": [],
   "source": [
    "from sklearn import model_selection, datasets,linear_model, metrics#,cross_validation\n",
    "import numpy as np\n",
    "import pandas as pd"
   ]
  },
  {
   "cell_type": "markdown",
   "metadata": {},
   "source": [
    "### Разовое разбиение данных на обучение и тест с помощью train_test_split"
   ]
  },
  {
   "cell_type": "code",
   "execution_count": 15,
   "metadata": {
    "collapsed": false
   },
   "outputs": [],
   "source": [
    "iris=datasets.load_iris()\n",
    "train_data, test_data, train_labels, test_labels = model_selection.train_test_split(iris.data, iris.target, \n",
    "                                                                                     test_size = 0.3)"
   ]
  },
  {
   "cell_type": "markdown",
   "metadata": {},
   "source": [
    "#### KFold\n",
    "возвращает индексы, а не данные"
   ]
  },
  {
   "cell_type": "code",
   "execution_count": 35,
   "metadata": {
    "collapsed": false
   },
   "outputs": [
    {
     "data": {
      "text/html": [
       "<div>\n",
       "<table border=\"1\" class=\"dataframe\">\n",
       "  <thead>\n",
       "    <tr style=\"text-align: right;\">\n",
       "      <th></th>\n",
       "      <th>X</th>\n",
       "      <th>y</th>\n",
       "    </tr>\n",
       "  </thead>\n",
       "  <tbody>\n",
       "    <tr>\n",
       "      <th>0</th>\n",
       "      <td>0</td>\n",
       "      <td>0</td>\n",
       "    </tr>\n",
       "    <tr>\n",
       "      <th>1</th>\n",
       "      <td>1</td>\n",
       "      <td>0</td>\n",
       "    </tr>\n",
       "    <tr>\n",
       "      <th>2</th>\n",
       "      <td>2</td>\n",
       "      <td>0</td>\n",
       "    </tr>\n",
       "    <tr>\n",
       "      <th>3</th>\n",
       "      <td>3</td>\n",
       "      <td>0</td>\n",
       "    </tr>\n",
       "    <tr>\n",
       "      <th>4</th>\n",
       "      <td>4</td>\n",
       "      <td>0</td>\n",
       "    </tr>\n",
       "    <tr>\n",
       "      <th>5</th>\n",
       "      <td>5</td>\n",
       "      <td>1</td>\n",
       "    </tr>\n",
       "    <tr>\n",
       "      <th>6</th>\n",
       "      <td>6</td>\n",
       "      <td>1</td>\n",
       "    </tr>\n",
       "    <tr>\n",
       "      <th>7</th>\n",
       "      <td>7</td>\n",
       "      <td>1</td>\n",
       "    </tr>\n",
       "    <tr>\n",
       "      <th>8</th>\n",
       "      <td>8</td>\n",
       "      <td>1</td>\n",
       "    </tr>\n",
       "    <tr>\n",
       "      <th>9</th>\n",
       "      <td>9</td>\n",
       "      <td>1</td>\n",
       "    </tr>\n",
       "  </tbody>\n",
       "</table>\n",
       "</div>"
      ],
      "text/plain": [
       "   X  y\n",
       "0  0  0\n",
       "1  1  0\n",
       "2  2  0\n",
       "3  3  0\n",
       "4  4  0\n",
       "5  5  1\n",
       "6  6  1\n",
       "7  7  1\n",
       "8  8  1\n",
       "9  9  1"
      ]
     },
     "execution_count": 35,
     "metadata": {},
     "output_type": "execute_result"
    }
   ],
   "source": [
    "X=np.array(range(10))\n",
    "target = np.array([0] * 5 + [1] * 5)\n",
    "pd.DataFrame(list(zip(X,target)),columns=['X','y'])"
   ]
  },
  {
   "cell_type": "code",
   "execution_count": 28,
   "metadata": {
    "collapsed": false
   },
   "outputs": [
    {
     "name": "stdout",
     "output_type": "stream",
     "text": [
      "[0 1 3 4 5 6 7 8] [2 9]\n",
      "[0 1 2 3 5 7 8 9] [4 6]\n",
      "[1 2 4 5 6 7 8 9] [0 3]\n",
      "[0 2 3 4 5 6 8 9] [1 7]\n",
      "[0 1 2 3 4 6 7 9] [5 8]\n"
     ]
    }
   ],
   "source": [
    "\n",
    "for train_indices, test_indices in model_selection.KFold( n_splits = 5, shuffle = True, random_state = 1).split(X):\n",
    "    print( train_indices, test_indices)"
   ]
  },
  {
   "cell_type": "markdown",
   "metadata": {},
   "source": [
    "#### StratifiedKFold"
   ]
  },
  {
   "cell_type": "code",
   "execution_count": 36,
   "metadata": {
    "collapsed": false
   },
   "outputs": [
    {
     "name": "stdout",
     "output_type": "stream",
     "text": [
      "[0 1 3 4 6 7 8 9] [2 5]\n",
      "[1 2 3 4 5 6 8 9] [0 7]\n",
      "[0 2 3 4 5 7 8 9] [1 6]\n",
      "[0 1 2 4 5 6 7 8] [3 9]\n",
      "[0 1 2 3 5 6 7 9] [4 8]\n"
     ]
    }
   ],
   "source": [
    "# target- метки классов\n",
    "target = np.array([0] * 5 + [1] * 5)\n",
    "for train_indices, test_indices in model_selection.StratifiedKFold(n_splits=5, shuffle = True, random_state = 0).split(X,target):\n",
    "    print (train_indices, test_indices)"
   ]
  },
  {
   "cell_type": "markdown",
   "metadata": {},
   "source": [
    "#### ShuffleSplit"
   ]
  },
  {
   "cell_type": "code",
   "execution_count": 37,
   "metadata": {
    "collapsed": false
   },
   "outputs": [
    {
     "name": "stdout",
     "output_type": "stream",
     "text": [
      "[2 3 4 9 7 1 8 0] [6 5]\n",
      "[3 5 4 2 0 8 9 1] [6 7]\n",
      "[9 4 3 1 5 7 2 0] [6 8]\n",
      "[9 0 1 5 2 4 6 3] [7 8]\n",
      "[4 3 2 9 7 6 1 5] [8 0]\n",
      "[1 2 9 3 6 0 5 4] [7 8]\n",
      "[6 1 2 4 5 8 7 9] [3 0]\n",
      "[4 9 0 3 1 6 7 8] [5 2]\n",
      "[0 3 6 9 4 1 5 2] [8 7]\n",
      "[7 0 8 9 5 4 2 3] [1 6]\n"
     ]
    }
   ],
   "source": [
    "for train_indices, test_indices in model_selection.ShuffleSplit( n_splits = 10, test_size = 0.2).split(X):\n",
    "    print (train_indices, test_indices)"
   ]
  },
  {
   "cell_type": "markdown",
   "metadata": {},
   "source": [
    "#### StratifiedShuffleSplit"
   ]
  },
  {
   "cell_type": "code",
   "execution_count": 38,
   "metadata": {
    "collapsed": false
   },
   "outputs": [
    {
     "name": "stdout",
     "output_type": "stream",
     "text": [
      "[7 8 2 4 6 1 3 5] [9 0]\n",
      "[3 5 6 1 8 4 2 7] [9 0]\n",
      "[4 3 9 6 7 0 2 8] [1 5]\n",
      "[3 2 7 4 6 0 9 8] [1 5]\n"
     ]
    }
   ],
   "source": [
    "for train_indices, test_indices in model_selection.StratifiedShuffleSplit(n_splits = 4, test_size = 0.2).split(X,target):\n",
    "    print (train_indices, test_indices)"
   ]
  },
  {
   "cell_type": "markdown",
   "metadata": {},
   "source": [
    "#### Leave-One-Out"
   ]
  },
  {
   "cell_type": "code",
   "execution_count": 42,
   "metadata": {
    "collapsed": false
   },
   "outputs": [
    {
     "name": "stdout",
     "output_type": "stream",
     "text": [
      "[1 2 3 4 5 6 7 8 9] [0]\n",
      "[0 2 3 4 5 6 7 8 9] [1]\n",
      "[0 1 3 4 5 6 7 8 9] [2]\n",
      "[0 1 2 4 5 6 7 8 9] [3]\n",
      "[0 1 2 3 5 6 7 8 9] [4]\n",
      "[0 1 2 3 4 6 7 8 9] [5]\n",
      "[0 1 2 3 4 5 7 8 9] [6]\n",
      "[0 1 2 3 4 5 6 8 9] [7]\n",
      "[0 1 2 3 4 5 6 7 9] [8]\n",
      "[0 1 2 3 4 5 6 7 8] [9]\n"
     ]
    }
   ],
   "source": [
    "for train_indices, test_index in model_selection.LeaveOneOut().split(X):\n",
    "    print (train_indices, test_index)"
   ]
  },
  {
   "cell_type": "code",
   "execution_count": 117,
   "metadata": {
    "collapsed": false
   },
   "outputs": [],
   "source": [
    "blobs = datasets.make_blobs(centers = 2, cluster_std = 5.5, random_state=1)\n",
    "train_data, test_data, train_labels, test_labels = model_selection.train_test_split(blobs[0], blobs[1], \n",
    "                                                                                    test_size = 0.3,\n",
    "                                                                                    random_state = 1)"
   ]
  },
  {
   "cell_type": "markdown",
   "metadata": {},
   "source": [
    "# Задачи классификации"
   ]
  },
  {
   "cell_type": "markdown",
   "metadata": {},
   "source": [
    "#### RidgeClassifier"
   ]
  },
  {
   "cell_type": "code",
   "execution_count": 118,
   "metadata": {
    "collapsed": false
   },
   "outputs": [],
   "source": [
    "#создание объекта - классификатора\n",
    "ridge_classifier = linear_model.RidgeClassifier(random_state = 1)\n",
    "#обучение классификатора\n",
    "ridge_classifier.fit(train_data, train_labels)\n",
    "#применение обученного классификатора\n",
    "ridge_predictions = ridge_classifier.predict(test_data)"
   ]
  },
  {
   "cell_type": "code",
   "execution_count": 119,
   "metadata": {
    "collapsed": false
   },
   "outputs": [
    {
     "data": {
      "text/plain": [
       "0.8666666666666667"
      ]
     },
     "execution_count": 119,
     "metadata": {},
     "output_type": "execute_result"
    }
   ],
   "source": [
    "#оценка качества классификации\n",
    "metrics.accuracy_score(test_labels, ridge_predictions)"
   ]
  },
  {
   "cell_type": "code",
   "execution_count": 60,
   "metadata": {
    "collapsed": false
   },
   "outputs": [
    {
     "name": "stdout",
     "output_type": "stream",
     "text": [
      "[[-0.0854443  -0.07273219]]\n",
      "[-0.31250723]\n"
     ]
    }
   ],
   "source": [
    "print(ridge_classifier.coef_)\n",
    "print(ridge_classifier.intercept_ )"
   ]
  },
  {
   "cell_type": "code",
   "execution_count": 59,
   "metadata": {
    "collapsed": false
   },
   "outputs": [
    {
     "data": {
      "text/plain": [
       "array([-0.31250723])"
      ]
     },
     "execution_count": 59,
     "metadata": {},
     "output_type": "execute_result"
    }
   ],
   "source": [
    "ridge_classifier.intercept_ "
   ]
  },
  {
   "cell_type": "markdown",
   "metadata": {},
   "source": [
    "#### LogisticRegression"
   ]
  },
  {
   "cell_type": "code",
   "execution_count": 64,
   "metadata": {
    "collapsed": true
   },
   "outputs": [],
   "source": [
    "log_regressor = linear_model.LogisticRegression(random_state = 1)\n",
    "log_regressor.fit(train_data, train_labels)\n",
    "lr_predictions = log_regressor.predict(test_data)\n",
    "# выводим вероятности принадлежности к классам\n",
    "lr_proba_predictions = log_regressor.predict_proba(test_data)"
   ]
  },
  {
   "cell_type": "code",
   "execution_count": 65,
   "metadata": {
    "collapsed": false
   },
   "outputs": [
    {
     "name": "stdout",
     "output_type": "stream",
     "text": [
      "0.8\n",
      "0.866666666667\n"
     ]
    }
   ],
   "source": [
    "print (metrics.accuracy_score(test_labels, lr_predictions))\n",
    "print (metrics.accuracy_score(test_labels, ridge_predictions))"
   ]
  },
  {
   "cell_type": "markdown",
   "metadata": {},
   "source": [
    "### Оценка качества по cross-validation\n",
    "#### cross_val_score"
   ]
  },
  {
   "cell_type": "code",
   "execution_count": 67,
   "metadata": {
    "collapsed": false
   },
   "outputs": [
    {
     "name": "stdout",
     "output_type": "stream",
     "text": [
      "[ 0.8  0.9  0.9  0.9  1.   1.   0.7  0.9  0.9  0.8]\n",
      "[ 0.7  0.9  0.9  0.9  1.   1.   0.7  0.9  0.9  0.8]\n"
     ]
    }
   ],
   "source": [
    "#For integer/None inputs, if the estimator is a classifier and y is either binary or multiclass, StratifiedKFold is used. In all other cases, KFold is used.\n",
    "ridge_scoring = model_selection.cross_val_score(ridge_classifier, blobs[0], blobs[1], scoring = 'accuracy', cv = 10)\n",
    "print(ridge_scoring)\n",
    "lr_scoring = cross_validation.cross_val_score(log_regressor, blobs[0], blobs[1], scoring = 'accuracy', cv = 10)\n",
    "print(lr_scoring)"
   ]
  },
  {
   "cell_type": "code",
   "execution_count": 69,
   "metadata": {
    "collapsed": false
   },
   "outputs": [
    {
     "name": "stdout",
     "output_type": "stream",
     "text": [
      "Ridge mean:0.8800000000000001, max:1.0, min:0.7, std:0.08717797887081348\n",
      "Log mean:0.8700000000000001, max:1.0, min:0.7, std:0.10049875621120892\n"
     ]
    }
   ],
   "source": [
    "print ('Ridge mean:{}, max:{}, min:{}, std:{}'.format(ridge_scoring.mean(), ridge_scoring.max(), \n",
    "                                                     ridge_scoring.min(), ridge_scoring.std()))\n",
    "print ('Log mean:{}, max:{}, min:{}, std:{}'.format(lr_scoring.mean(), lr_scoring.max(), \n",
    "                                                   lr_scoring.min(), lr_scoring.std()))"
   ]
  },
  {
   "cell_type": "markdown",
   "metadata": {},
   "source": [
    "#### cross_val_score с заданными scorer и cv_strategy"
   ]
  },
  {
   "cell_type": "code",
   "execution_count": 87,
   "metadata": {
    "collapsed": false
   },
   "outputs": [
    {
     "name": "stdout",
     "output_type": "stream",
     "text": [
      "Ridge mean:0.87, max:1.0, min:0.0, std:0.33630343441600474\n",
      "Log mean:0.87, max:1.0, min:0.0, std:0.33630343441600474\n"
     ]
    }
   ],
   "source": [
    "scorer = metrics.make_scorer(metrics.accuracy_score)\n",
    "cv_strategy = model_selection.StratifiedShuffleSplit(n_splits = 4, test_size = 0.2)\n",
    "cv_strategy = model_selection.LeaveOneOut()\n",
    "ridge_scoring =model_selection.cross_val_score(ridge_classifier, blobs[0], blobs[1], scoring = scorer, cv = cv_strategy)\n",
    "lr_scoring = model_selection.cross_val_score(log_regressor, blobs[0], blobs[1], scoring = scorer, cv = cv_strategy)\n",
    "print ('Ridge mean:{}, max:{}, min:{}, std:{}'.format(ridge_scoring.mean(), ridge_scoring.max(), \n",
    "                                                     ridge_scoring.min(), ridge_scoring.std()))\n",
    "print ('Log mean:{}, max:{}, min:{}, std:{}'.format(lr_scoring.mean(), lr_scoring.max(), \n",
    "                                                   lr_scoring.min(), lr_scoring.std()))"
   ]
  },
  {
   "cell_type": "markdown",
   "metadata": {},
   "source": [
    "## Метрики качества в задачах классификации"
   ]
  },
  {
   "cell_type": "markdown",
   "metadata": {},
   "source": [
    "#### accuracy"
   ]
  },
  {
   "cell_type": "code",
   "execution_count": 120,
   "metadata": {
    "collapsed": false
   },
   "outputs": [
    {
     "data": {
      "text/plain": [
       "0.8666666666666667"
      ]
     },
     "execution_count": 120,
     "metadata": {},
     "output_type": "execute_result"
    }
   ],
   "source": [
    "metrics.accuracy_score(test_labels, ridge_predictions)"
   ]
  },
  {
   "cell_type": "markdown",
   "metadata": {},
   "source": [
    "####  confusion matrix"
   ]
  },
  {
   "cell_type": "code",
   "execution_count": 122,
   "metadata": {
    "collapsed": false
   },
   "outputs": [
    {
     "data": {
      "text/plain": [
       "array([[14,  4],\n",
       "       [ 0, 12]])"
      ]
     },
     "execution_count": 122,
     "metadata": {},
     "output_type": "execute_result"
    }
   ],
   "source": [
    "metrics.confusion_matrix(test_labels, ridge_predictions)"
   ]
  },
  {
   "cell_type": "markdown",
   "metadata": {},
   "source": [
    "#### precision "
   ]
  },
  {
   "cell_type": "code",
   "execution_count": 129,
   "metadata": {
    "collapsed": false
   },
   "outputs": [
    {
     "data": {
      "text/plain": [
       "(0.75, 1.0)"
      ]
     },
     "execution_count": 129,
     "metadata": {},
     "output_type": "execute_result"
    }
   ],
   "source": [
    "metrics.precision_score(test_labels, ridge_predictions, pos_label = 1),metrics.precision_score(test_labels, ridge_predictions, pos_label = 0)"
   ]
  },
  {
   "cell_type": "markdown",
   "metadata": {},
   "source": [
    "#### recall"
   ]
  },
  {
   "cell_type": "code",
   "execution_count": 130,
   "metadata": {
    "collapsed": false
   },
   "outputs": [
    {
     "data": {
      "text/plain": [
       "(1.0, 0.77777777777777779)"
      ]
     },
     "execution_count": 130,
     "metadata": {},
     "output_type": "execute_result"
    }
   ],
   "source": [
    "metrics.recall_score(test_labels, ridge_predictions, pos_label = 1),metrics.recall_score(test_labels, ridge_predictions, pos_label = 0)"
   ]
  },
  {
   "cell_type": "markdown",
   "metadata": {},
   "source": [
    "#### f1"
   ]
  },
  {
   "cell_type": "code",
   "execution_count": 131,
   "metadata": {
    "collapsed": false
   },
   "outputs": [
    {
     "data": {
      "text/plain": [
       "(0.87500000000000011, 0.8571428571428571)"
      ]
     },
     "execution_count": 131,
     "metadata": {},
     "output_type": "execute_result"
    }
   ],
   "source": [
    "metrics.f1_score(test_labels, ridge_predictions, pos_label = 0),metrics.f1_score(test_labels, ridge_predictions, pos_label = 1)"
   ]
  },
  {
   "cell_type": "markdown",
   "metadata": {},
   "source": [
    "#### classification report"
   ]
  },
  {
   "cell_type": "code",
   "execution_count": 133,
   "metadata": {
    "collapsed": false
   },
   "outputs": [
    {
     "name": "stdout",
     "output_type": "stream",
     "text": [
      "             precision    recall  f1-score   support\n",
      "\n",
      "          0       1.00      0.78      0.88        18\n",
      "          1       0.75      1.00      0.86        12\n",
      "\n",
      "avg / total       0.90      0.87      0.87        30\n",
      "\n"
     ]
    }
   ],
   "source": [
    "print( metrics.classification_report(test_labels, ridge_predictions))"
   ]
  },
  {
   "cell_type": "markdown",
   "metadata": {},
   "source": [
    "#### ROC curve"
   ]
  },
  {
   "cell_type": "code",
   "execution_count": 135,
   "metadata": {
    "collapsed": false
   },
   "outputs": [
    {
     "data": {
      "text/plain": [
       "<matplotlib.legend.Legend at 0x140c104ef98>"
      ]
     },
     "execution_count": 135,
     "metadata": {},
     "output_type": "execute_result"
    },
    {
     "data": {
      "image/png": "[encoded data removed]",
      "text/plain": [
       "<matplotlib.figure.Figure at 0x140bf92fbe0>"
      ]
     },
     "metadata": {},
     "output_type": "display_data"
    }
   ],
   "source": [
    "fpr, tpr, _ = metrics.roc_curve(test_labels, lr_proba_predictions[:,1])\n",
    "pylab.plot(fpr, tpr, label = 'linear model')\n",
    "pylab.plot([0, 1], [0, 1], '--', color = 'grey', label = 'random')\n",
    "pylab.xlim([-0.05, 1.05])\n",
    "pylab.ylim([-0.05, 1.05])\n",
    "pylab.xlabel('False Positive Rate')\n",
    "pylab.ylabel('True Positive Rate')\n",
    "pylab.title('ROC curve')\n",
    "pylab.legend(loc = \"lower right\")"
   ]
  },
  {
   "cell_type": "markdown",
   "metadata": {},
   "source": [
    "#### ROC AUC"
   ]
  },
  {
   "cell_type": "code",
   "execution_count": 136,
   "metadata": {
    "collapsed": false
   },
   "outputs": [
    {
     "name": "stdout",
     "output_type": "stream",
     "text": [
      "0.888888888889\n",
      "0.958333333333\n"
     ]
    }
   ],
   "source": [
    "print(metrics.roc_auc_score(test_labels, ridge_predictions))\n",
    "print(metrics.roc_auc_score(test_labels, lr_proba_predictions[:,1]))"
   ]
  },
  {
   "cell_type": "markdown",
   "metadata": {},
   "source": [
    "#### PR AUC"
   ]
  },
  {
   "cell_type": "code",
   "execution_count": 137,
   "metadata": {
    "collapsed": false
   },
   "outputs": [
    {
     "data": {
      "text/plain": [
       "0.875"
      ]
     },
     "execution_count": 137,
     "metadata": {},
     "output_type": "execute_result"
    }
   ],
   "source": [
    "metrics.average_precision_score(test_labels, ridge_predictions)"
   ]
  },
  {
   "cell_type": "markdown",
   "metadata": {},
   "source": [
    "#### log_loss\n",
    "чем меньше метрика, тем лучше"
   ]
  },
  {
   "cell_type": "code",
   "execution_count": 138,
   "metadata": {
    "collapsed": false
   },
   "outputs": [
    {
     "data": {
      "text/plain": [
       "0.35185364928848134"
      ]
     },
     "execution_count": 138,
     "metadata": {},
     "output_type": "execute_result"
    }
   ],
   "source": [
    "metrics.log_loss(test_labels, lr_proba_predictions[:,1])"
   ]
  },
  {
   "cell_type": "markdown",
   "metadata": {},
   "source": [
    "# Задачи регрессии"
   ]
  },
  {
   "cell_type": "code",
   "execution_count": 89,
   "metadata": {
    "collapsed": false
   },
   "outputs": [
    {
     "name": "stdout",
     "output_type": "stream",
     "text": [
      "Populating the interactive namespace from numpy and matplotlib\n"
     ]
    }
   ],
   "source": [
    "from matplotlib.colors import ListedColormap\n",
    "from sklearn import linear_model\n",
    "%pylab inline"
   ]
  },
  {
   "cell_type": "markdown",
   "metadata": {},
   "source": [
    "#### Генерация данных"
   ]
  },
  {
   "cell_type": "code",
   "execution_count": 91,
   "metadata": {
    "collapsed": false
   },
   "outputs": [
    {
     "data": {
      "text/plain": [
       "<matplotlib.collections.PathCollection at 0x140c0e155c0>"
      ]
     },
     "execution_count": 91,
     "metadata": {},
     "output_type": "execute_result"
    },
    {
     "data": {
      "image/png": "[encoded data removed]",
      "text/plain": [
       "<matplotlib.figure.Figure at 0x140c0c224e0>"
      ]
     },
     "metadata": {},
     "output_type": "display_data"
    }
   ],
   "source": [
    "data, target, coef = datasets.make_regression(n_features = 2, n_informative = 1, n_targets = 1, \n",
    "                                              noise = 5., coef = True, random_state = 2)\n",
    "pylab.scatter(list(map(lambda x:x[0], data)), target, color = 'r')\n",
    "pylab.scatter(list(map(lambda x:x[1], data)), target, color = 'b')"
   ]
  },
  {
   "cell_type": "code",
   "execution_count": 92,
   "metadata": {
    "collapsed": true
   },
   "outputs": [],
   "source": [
    "train_data, test_data, train_labels, test_labels = model_selection.train_test_split(data, target,  \n",
    "                                                                                     test_size = 0.3)"
   ]
  },
  {
   "cell_type": "markdown",
   "metadata": {},
   "source": [
    "#### LinearRegression"
   ]
  },
  {
   "cell_type": "code",
   "execution_count": 106,
   "metadata": {
    "collapsed": false
   },
   "outputs": [
    {
     "name": "stdout",
     "output_type": "stream",
     "text": [
      "[  51.87072011   12.47089016   45.05465366  -21.47606913   78.24817537\n",
      "   64.19559505  -17.27897399  -10.06708677  -22.33224966   39.70663436\n",
      "   27.83791274   10.33267887   44.41658249  -37.31870104  -80.80239408\n",
      "  -16.85466265  -35.32062686  -52.37232463 -105.77758163   49.41686419\n",
      "   44.66274342  160.09441244   13.02656201  -16.79027112  101.14760598\n",
      "   25.24428409  -40.84204295  -26.87743177  -21.48288019  -10.29545833]\n",
      "[  51.17558294   19.25461127   41.33163293  -18.04167812   64.80103454\n",
      "   68.59084688  -13.57252948   -9.94951967  -28.9200411    36.86950436\n",
      "   22.39816651    8.5206187    43.17304133  -34.91822967  -77.6322503\n",
      "  -16.36721068  -41.67846515  -40.54356654 -101.01325118   54.49990235\n",
      "   49.70940828  154.40589974   18.07990755  -14.91350598   94.97973962\n",
      "   14.12530586  -46.23823266  -28.01747988  -24.50433799  -11.29452347]\n",
      "4.46079563358\n"
     ]
    }
   ],
   "source": [
    "linear_regressor = linear_model.LinearRegression()\n",
    "linear_regressor.fit(train_data, train_labels)\n",
    "predictions = linear_regressor.predict(test_data)\n",
    "print (test_labels)\n",
    "print (predictions)\n",
    "print(metrics.mean_absolute_error(test_labels, predictions))"
   ]
  },
  {
   "cell_type": "code",
   "execution_count": 107,
   "metadata": {
    "collapsed": false
   },
   "outputs": [
    {
     "name": "stdout",
     "output_type": "stream",
     "text": [
      "mean: -4.070071498779697, std: 1.0737104492890193\n"
     ]
    }
   ],
   "source": [
    "linear_scoring = model_selection.cross_val_score(linear_regressor, data, target, scoring = 'neg_mean_absolute_error', \n",
    "                                                  cv = 10)\n",
    "print ('mean: {}, std: {}'.format(linear_scoring.mean(), linear_scoring.std()))"
   ]
  },
  {
   "cell_type": "code",
   "execution_count": 108,
   "metadata": {
    "collapsed": false
   },
   "outputs": [
    {
     "name": "stdout",
     "output_type": "stream",
     "text": [
      "mean: 4.070071498779697, std: 1.0737104492890193\n"
     ]
    }
   ],
   "source": [
    "scorer = metrics.make_scorer(metrics.mean_absolute_error, greater_is_better = True)\n",
    "linear_scoring = cross_validation.cross_val_score(linear_regressor, data, target, scoring=scorer, \n",
    "                                                  cv = 10)\n",
    "print ('mean: {}, std: {}'.format(linear_scoring.mean(), linear_scoring.std()))"
   ]
  },
  {
   "cell_type": "code",
   "execution_count": 111,
   "metadata": {
    "collapsed": false
   },
   "outputs": [
    {
     "name": "stdout",
     "output_type": "stream",
     "text": [
      "[ 37.69832982   0.29750861]\n",
      "-0.729240473407\n",
      "y = 37.70*x1 + 0.30*x2\n"
     ]
    }
   ],
   "source": [
    "print(linear_regressor.coef_)\n",
    "print(linear_regressor.intercept_)\n",
    "print (\"y = {:.2f}*x1 + {:.2f}*x2\".format(linear_regressor.coef_[0], linear_regressor.coef_[1]))"
   ]
  },
  {
   "cell_type": "markdown",
   "metadata": {},
   "source": [
    "#### Lasso"
   ]
  },
  {
   "cell_type": "code",
   "execution_count": 113,
   "metadata": {
    "collapsed": false
   },
   "outputs": [
    {
     "name": "stdout",
     "output_type": "stream",
     "text": [
      "mean: 4.154478246666397, std: 1.0170354384993354\n",
      "y = 36.65*x1 + 0.00*x2\n"
     ]
    }
   ],
   "source": [
    "lasso_regressor = linear_model.Lasso(random_state = 3)\n",
    "lasso_regressor.fit(train_data, train_labels)\n",
    "lasso_predictions = lasso_regressor.predict(test_data)\n",
    "lasso_scoring = model_selection.cross_val_score(lasso_regressor, data, target, scoring = scorer, cv = 10)\n",
    "print ('mean: {}, std: {}'.format(lasso_scoring.mean(), lasso_scoring.std()))\n",
    "print (\"y = {:.2f}*x1 + {:.2f}*x2\".format(lasso_regressor.coef_[0], lasso_regressor.coef_[1]))"
   ]
  },
  {
   "cell_type": "markdown",
   "metadata": {},
   "source": [
    "#### mean absolute error"
   ]
  },
  {
   "cell_type": "code",
   "execution_count": 140,
   "metadata": {
    "collapsed": false
   },
   "outputs": [
    {
     "data": {
      "text/plain": [
       "40.531653379453374"
      ]
     },
     "execution_count": 140,
     "metadata": {},
     "output_type": "execute_result"
    }
   ],
   "source": [
    "metrics.mean_absolute_error(test_labels, lasso_predictions)"
   ]
  },
  {
   "cell_type": "markdown",
   "metadata": {},
   "source": [
    "#### mean squared error"
   ]
  },
  {
   "cell_type": "code",
   "execution_count": 142,
   "metadata": {
    "collapsed": false
   },
   "outputs": [
    {
     "data": {
      "text/plain": [
       "2602.6983633283935"
      ]
     },
     "execution_count": 142,
     "metadata": {},
     "output_type": "execute_result"
    }
   ],
   "source": [
    "metrics.mean_squared_error(test_labels, lasso_predictions)"
   ]
  },
  {
   "cell_type": "markdown",
   "metadata": {},
   "source": [
    "#### root mean squared error"
   ]
  },
  {
   "cell_type": "code",
   "execution_count": 143,
   "metadata": {
    "collapsed": false
   },
   "outputs": [
    {
     "data": {
      "text/plain": [
       "51.0166479036833"
      ]
     },
     "execution_count": 143,
     "metadata": {},
     "output_type": "execute_result"
    }
   ],
   "source": [
    "sqrt(metrics.mean_squared_error(test_labels, lasso_predictions))"
   ]
  },
  {
   "cell_type": "markdown",
   "metadata": {},
   "source": [
    "#### r2 score"
   ]
  },
  {
   "cell_type": "code",
   "execution_count": 144,
   "metadata": {
    "collapsed": false
   },
   "outputs": [
    {
     "data": {
      "text/plain": [
       "-10843.576513868302"
      ]
     },
     "execution_count": 144,
     "metadata": {},
     "output_type": "execute_result"
    }
   ],
   "source": [
    "metrics.r2_score(test_labels, lasso_predictions)"
   ]
  },
  {
   "cell_type": "markdown",
   "metadata": {
    "collapsed": true
   },
   "source": [
    "### Линейные модели рекомендации\n",
    "* масштабирование признаков <br>\n",
    "вычисляем среднее значение и стандартное отклонение <br>\n",
    "$$\\mu_j=\\frac{1}{l}\\sum_{i=1}^{l} x_i^j $$ $$\\sigma_j=\\sqrt{\\sum_{i=1}^{l}( x_i^j-\\mu_j)^2}$$\n",
    "**Стандартизация(нормализация)**$$x_i^j:=\\frac{ x_i^j-\\mu_j}{\\sigma_j}$$ **масштабирование на отрезок [0,1]**$$m_j=min(x_1^j,...,x_l^j)$$$$M_j=max(x_1^j,...,x_l^j)$$$$x_i^j:=\\frac{ x_i^j-m_j}{M_j-m_j}$$"
   ]
  },
  {
   "cell_type": "markdown",
   "metadata": {},
   "source": [
    "### Использование спрямляющих пространств\n",
    "к примеру: если модель плохо описывает данные , можно попробовать добавть полиномы высого порядка(при степени равной 2 -добавляем новые признаки , равные квадратам исходных+ попарные произведения <br>**логарифмирование**$$x_i \\to ln(x_i+1)$$$$x_i \\to ln(|x_i|+1)$$\n",
    "\n",
    "### Категориальные признаки\n",
    "используем бинарное кодирование(если признак принимает n значений, добавляем n признаков и кодируем каждое значение вектором из 0 и 1\n",
    "### Несбаллансированные выборки\n",
    "*undersampling( выкидываем часть объектов)\n",
    "*oversampling( дополням часть объектов)\n",
    "\n",
    "*стратификация"
   ]
  },
  {
   "cell_type": "code",
   "execution_count": 28,
   "metadata": {
    "collapsed": false
   },
   "outputs": [],
   "source": [
    "from sklearn import  datasets, grid_search, linear_model, metrics,model_selection\n",
    "import numpy as np\n",
    "import pandas as pd\n",
    "from sklearn import cross_validation"
   ]
  },
  {
   "cell_type": "code",
   "execution_count": 8,
   "metadata": {
    "collapsed": true
   },
   "outputs": [],
   "source": [
    "iris = datasets.load_iris()\n",
    "train_data, test_data, train_labels, test_labels = model_selection.train_test_split(iris.data, iris.target, \n",
    "                                                                                     test_size = 0.3,random_state = 0)\n",
    "#создаем модель\n",
    "classifier = linear_model.SGDClassifier(random_state = 0)"
   ]
  },
  {
   "cell_type": "markdown",
   "metadata": {},
   "source": [
    "### Генерация сетки"
   ]
  },
  {
   "cell_type": "code",
   "execution_count": 9,
   "metadata": {
    "collapsed": false
   },
   "outputs": [
    {
     "data": {
      "text/plain": [
       "dict_keys(['alpha', 'average', 'class_weight', 'epsilon', 'eta0', 'fit_intercept', 'l1_ratio', 'learning_rate', 'loss', 'n_iter', 'n_jobs', 'penalty', 'power_t', 'random_state', 'shuffle', 'verbose', 'warm_start'])"
      ]
     },
     "execution_count": 9,
     "metadata": {},
     "output_type": "execute_result"
    }
   ],
   "source": [
    "classifier.get_params().keys()"
   ]
  },
  {
   "cell_type": "code",
   "execution_count": 20,
   "metadata": {
    "collapsed": false
   },
   "outputs": [],
   "source": [
    "#задаем параметры для перебора\n",
    "parameters_grid = {\n",
    "    'loss' : ['hinge', 'log', 'squared_hinge', 'squared_loss'],\n",
    "    'penalty' : ['l1', 'l2'],\n",
    "    'n_iter' : list(range(5,10)),\n",
    "    'alpha' : np.linspace(0.0001, 0.001, num = 5),\n",
    "}\n",
    "#cv =model_selection.StratifiedShuffleSplit(n_splits =10, test_size = 0.2).split(train_data, train_labels)\n",
    "cv = cross_validation.StratifiedShuffleSplit(train_labels, n_iter = 10, test_size = 0.2, random_state = 0)"
   ]
  },
  {
   "cell_type": "markdown",
   "metadata": {},
   "source": [
    "### Подбор параметров и оценка качества\n",
    "#### Grid search"
   ]
  },
  {
   "cell_type": "code",
   "execution_count": 24,
   "metadata": {
    "collapsed": false
   },
   "outputs": [],
   "source": [
    "grid_cv = grid_search.GridSearchCV(classifier, parameters_grid, scoring = 'accuracy', cv = cv)"
   ]
  },
  {
   "cell_type": "code",
   "execution_count": 25,
   "metadata": {
    "collapsed": false
   },
   "outputs": [
    {
     "name": "stdout",
     "output_type": "stream",
     "text": [
      "Wall time: 16.5 s\n"
     ]
    },
    {
     "data": {
      "text/plain": [
       "GridSearchCV(cv=StratifiedShuffleSplit(labels=[1 2 ..., 2 0], n_iter=10, test_size=0.2, random_state=0),\n",
       "       error_score='raise',\n",
       "       estimator=SGDClassifier(alpha=0.0001, average=False, class_weight=None, epsilon=0.1,\n",
       "       eta0=0.0, fit_intercept=True, l1_ratio=0.15,\n",
       "       learning_rate='optimal', loss='hinge', n_iter=5, n_jobs=1,\n",
       "       penalty='l2', power_t=0.5, random_state=0, shuffle=True, verbose=0,\n",
       "       warm_start=False),\n",
       "       fit_params={}, iid=True, n_jobs=1,\n",
       "       param_grid={'loss': ['hinge', 'log', 'squared_hinge', 'squared_loss'], 'penalty': ['l1', 'l2'], 'n_iter': [5, 6, 7, 8, 9], 'alpha': array([ 0.0001 ,  0.00032,  0.00055,  0.00078,  0.001  ])},\n",
       "       pre_dispatch='2*n_jobs', refit=True, scoring='accuracy', verbose=0)"
      ]
     },
     "execution_count": 25,
     "metadata": {},
     "output_type": "execute_result"
    }
   ],
   "source": [
    "%%time\n",
    "grid_cv.fit(train_data, train_labels)"
   ]
  },
  {
   "cell_type": "code",
   "execution_count": 29,
   "metadata": {
    "collapsed": false
   },
   "outputs": [
    {
     "data": {
      "text/plain": [
       "SGDClassifier(alpha=0.00032499999999999999, average=False, class_weight=None,\n",
       "       epsilon=0.1, eta0=0.0, fit_intercept=True, l1_ratio=0.15,\n",
       "       learning_rate='optimal', loss='hinge', n_iter=9, n_jobs=1,\n",
       "       penalty='l1', power_t=0.5, random_state=0, shuffle=True, verbose=0,\n",
       "       warm_start=False)"
      ]
     },
     "execution_count": 29,
     "metadata": {},
     "output_type": "execute_result"
    }
   ],
   "source": [
    "grid_cv.best_estimator_"
   ]
  },
  {
   "cell_type": "code",
   "execution_count": 30,
   "metadata": {
    "collapsed": false
   },
   "outputs": [
    {
     "name": "stdout",
     "output_type": "stream",
     "text": [
      "0.8952380952380953\n",
      "{'alpha': 0.00032499999999999999, 'loss': 'hinge', 'n_iter': 9, 'penalty': 'l1'}\n"
     ]
    }
   ],
   "source": [
    "print (grid_cv.best_score_)\n",
    "print (grid_cv.best_params_)"
   ]
  },
  {
   "cell_type": "markdown",
   "metadata": {},
   "source": [
    "#### Randomized grid search"
   ]
  },
  {
   "cell_type": "code",
   "execution_count": 31,
   "metadata": {
    "collapsed": false
   },
   "outputs": [
    {
     "name": "stdout",
     "output_type": "stream",
     "text": [
      "Wall time: 2.62 s\n"
     ]
    }
   ],
   "source": [
    "%%time\n",
    "randomized_grid_cv = grid_search.RandomizedSearchCV(classifier, parameters_grid, scoring = 'accuracy', cv = cv, n_iter = 20, \n",
    "                                                   random_state = 0)\n",
    "randomized_grid_cv.fit(train_data, train_labels)"
   ]
  },
  {
   "cell_type": "code",
   "execution_count": 32,
   "metadata": {
    "collapsed": false
   },
   "outputs": [
    {
     "name": "stdout",
     "output_type": "stream",
     "text": [
      "0.8142857142857143\n",
      "{'penalty': 'l1', 'n_iter': 9, 'loss': 'log', 'alpha': 0.00055000000000000003}\n"
     ]
    }
   ],
   "source": [
    "print (randomized_grid_cv.best_score_)\n",
    "print (randomized_grid_cv.best_params_)"
   ]
  },
  {
   "cell_type": "markdown",
   "metadata": {},
   "source": [
    "### Scaling"
   ]
  },
  {
   "cell_type": "code",
   "execution_count": null,
   "metadata": {
    "collapsed": true
   },
   "outputs": [],
   "source": [
    "from sklearn.preprocessing import StandardScaler\n",
    "#создаем стандартный scaler\n",
    "scaler = StandardScaler()\n",
    "scaler.fit(train_data, train_labels)\n",
    "scaled_train_data = scaler.transform(train_data)\n",
    "scaled_test_data = scaler.transform(test_data)"
   ]
  },
  {
   "cell_type": "markdown",
   "metadata": {},
   "source": [
    "### Pipeline"
   ]
  },
  {
   "cell_type": "code",
   "execution_count": null,
   "metadata": {
    "collapsed": true
   },
   "outputs": [],
   "source": [
    "from sklearn.pipeline import Pipeline\n",
    "#создаем pipeline из двух шагов: scaling и классификация\n",
    "pipeline = Pipeline(steps = [('scaling', scaler), ('regression', regressor)])\n",
    "pipeline.fit(train_data, train_labels)\n",
    "metrics.mean_absolute_error(test_labels, pipeline.predict(test_data))"
   ]
  },
  {
   "cell_type": "markdown",
   "metadata": {},
   "source": [
    "### Pipeline Подбор параметров"
   ]
  },
  {
   "cell_type": "code",
   "execution_count": null,
   "metadata": {
    "collapsed": true
   },
   "outputs": [],
   "source": [
    "pipeline.get_params().keys()"
   ]
  },
  {
   "cell_type": "code",
   "execution_count": null,
   "metadata": {
    "collapsed": true
   },
   "outputs": [],
   "source": [
    "parameters_grid = {\n",
    "    'regression__loss' : ['huber', 'epsilon_insensitive', 'squared_loss', ],\n",
    "    'regression__n_iter' : [3, 5, 10, 50], \n",
    "    'regression__penalty' : ['l1', 'l2', 'none'],\n",
    "    'regression__alpha' : [0.0001, 0.01],\n",
    "    'scaling__with_mean' : [0., 0.5],\n",
    "}\n",
    "grid_cv = grid_search.GridSearchCV(pipeline, parameters_grid, scoring = 'mean_absolute_error', cv = 4)"
   ]
  },
  {
   "cell_type": "code",
   "execution_count": null,
   "metadata": {
    "collapsed": true
   },
   "outputs": [],
   "source": [
    "# ести нужно разделять признаки:\n",
    "estimator = pipeline.Pipeline(steps = [       \n",
    "    ('feature_processing', pipeline.FeatureUnion(transformer_list = [        \n",
    "            #binary\n",
    "            ('binary_variables_processing', preprocessing.FunctionTransformer(lambda data: data[:, binary_data_indices])), \n",
    "                    \n",
    "            #numeric\n",
    "            ('numeric_variables_processing', pipeline.Pipeline(steps = [\n",
    "                ('selecting', preprocessing.FunctionTransformer(lambda data: data[:, numeric_data_indices])),\n",
    "                ('scaling', preprocessing.StandardScaler(with_mean = 0))            \n",
    "                        ])),\n",
    "        \n",
    "            #categorical\n",
    "            ('categorical_variables_processing', pipeline.Pipeline(steps = [\n",
    "                ('selecting', preprocessing.FunctionTransformer(lambda data: data[:, categorical_data_indices])),\n",
    "                ('hot_encoding', preprocessing.OneHotEncoder(handle_unknown = 'ignore'))            \n",
    "                        ])),\n",
    "        ])),\n",
    "    ('model_fitting', regressor)\n",
    "    ]\n",
    ")"
   ]
  },
  {
   "cell_type": "markdown",
   "metadata": {},
   "source": [
    "# Решающие деревья"
   ]
  },
  {
   "cell_type": "code",
   "execution_count": 3,
   "metadata": {
    "collapsed": false
   },
   "outputs": [
    {
     "name": "stdout",
     "output_type": "stream",
     "text": [
      "Populating the interactive namespace from numpy and matplotlib\n"
     ]
    }
   ],
   "source": [
    "from matplotlib.colors import ListedColormap\n",
    "from sklearn import datasets, metrics, tree ,cross_validation\n",
    "import numpy as np\n",
    "%pylab inline"
   ]
  },
  {
   "cell_type": "code",
   "execution_count": 5,
   "metadata": {
    "collapsed": false
   },
   "outputs": [
    {
     "data": {
      "text/plain": [
       "<matplotlib.collections.PathCollection at 0x283ff373400>"
      ]
     },
     "execution_count": 5,
     "metadata": {},
     "output_type": "execute_result"
    },
    {
     "data": {
      "image/png": "[encoded data removed]",
      "text/plain": [
       "<matplotlib.figure.Figure at 0x28382623c88>"
      ]
     },
     "metadata": {},
     "output_type": "display_data"
    }
   ],
   "source": [
    "classification_problem = datasets.make_classification(n_features = 2, n_informative = 2, \n",
    "                                                      n_classes = 3, n_redundant=0, \n",
    "                                                      n_clusters_per_class=1, random_state=3)\n",
    "colors = ListedColormap(['red', 'blue', 'yellow'])\n",
    "light_colors = ListedColormap(['lightcoral', 'lightblue', 'lightyellow'])\n",
    "pylab.figure(figsize=(8,6))\n",
    "pylab.scatter(list(map(lambda x: x[0], classification_problem[0])), list(map(lambda x: x[1], classification_problem[0])), \n",
    "              c=classification_problem[1], cmap=colors, s=100)"
   ]
  },
  {
   "cell_type": "code",
   "execution_count": 6,
   "metadata": {
    "collapsed": true
   },
   "outputs": [],
   "source": [
    "train_data, test_data, train_labels, test_labels = cross_validation.train_test_split(classification_problem[0], \n",
    "                                                                                     classification_problem[1], \n",
    "                                                                                     test_size = 0.3,\n",
    "                                                                                     random_state = 1)"
   ]
  },
  {
   "cell_type": "markdown",
   "metadata": {},
   "source": [
    "### Модель DecisionTreeClassifier"
   ]
  },
  {
   "cell_type": "code",
   "execution_count": 7,
   "metadata": {
    "collapsed": false
   },
   "outputs": [
    {
     "data": {
      "text/plain": [
       "array([0, 0, 0, 0, 0, 1, 1, 0, 0, 0, 2, 2, 2, 2, 2, 1, 0, 1, 0, 2, 2, 0, 2,\n",
       "       0, 0, 0, 2, 1, 2, 0])"
      ]
     },
     "execution_count": 7,
     "metadata": {},
     "output_type": "execute_result"
    }
   ],
   "source": [
    "clf = tree.DecisionTreeClassifier(random_state=1)\n",
    "clf.fit(train_data, train_labels)\n",
    "predictions = clf.predict(test_data)\n",
    "metrics.accuracy_score(test_labels, predictions)\n",
    "predictions"
   ]
  },
  {
   "cell_type": "code",
   "execution_count": 10,
   "metadata": {
    "collapsed": false
   },
   "outputs": [
    {
     "data": {
      "image/png": "[encoded data removed]",
      "text/plain": [
       "<matplotlib.figure.Figure at 0x28382e1e780>"
      ]
     },
     "metadata": {},
     "output_type": "display_data"
    }
   ],
   "source": [
    "def get_meshgrid(data, step=.05, border=.5,):\n",
    "    x_min, x_max = data[:, 0].min() - border, data[:, 0].max() + border\n",
    "    y_min, y_max = data[:, 1].min() - border, data[:, 1].max() + border\n",
    "    return np.meshgrid(np.arange(x_min, x_max, step), np.arange(y_min, y_max, step))\n",
    "def plot_decision_surface(estimator, train_data, train_labels, test_data, test_labels, \n",
    "                          colors = colors, light_colors = light_colors):\n",
    "    #fit model\n",
    "    estimator.fit(train_data, train_labels)\n",
    "    \n",
    "    #set figure size\n",
    "    pyplot.figure(figsize = (16, 6))\n",
    "    \n",
    "    #plot decision surface on the train data \n",
    "    pyplot.subplot(1,2,1)\n",
    "    xx, yy = get_meshgrid(train_data)\n",
    "    mesh_predictions = np.array(estimator.predict(np.c_[xx.ravel(), yy.ravel()])).reshape(xx.shape)\n",
    "    pyplot.pcolormesh(xx, yy, mesh_predictions, cmap = light_colors)\n",
    "    pyplot.scatter(train_data[:, 0], train_data[:, 1], c = train_labels, s = 100, cmap = colors)\n",
    "    pyplot.title('Train data, accuracy={:.2f}'.format(metrics.accuracy_score(train_labels, estimator.predict(train_data))))\n",
    "    \n",
    "    #plot decision surface on the test data\n",
    "    pyplot.subplot(1,2,2)\n",
    "    pyplot.pcolormesh(xx, yy, mesh_predictions, cmap = light_colors)\n",
    "    pyplot.scatter(test_data[:, 0], test_data[:, 1], c = test_labels, s = 100, cmap = colors)\n",
    "    pyplot.title('Test data, accuracy={:.2f}'.format(metrics.accuracy_score(test_labels, estimator.predict(test_data))))\n",
    "    \n",
    "plot_decision_surface(tree.DecisionTreeClassifier(random_state = 1, max_depth = 3),\n",
    "                      train_data, train_labels, test_data, test_labels)"
   ]
  },
  {
   "cell_type": "markdown",
   "metadata": {},
   "source": [
    "# Случайные леса"
   ]
  },
  {
   "cell_type": "markdown",
   "metadata": {},
   "source": [
    "гиперпараметр q определяет размер подвыборки признаков, по которым строятся деревья <br>рекомендации:\n",
    "* **для регрессии** $q=\\frac{d}{3}$\n",
    "* **для классификации** $q=\\sqrt{d}$ <br>где d-число признаков"
   ]
  },
  {
   "cell_type": "code",
   "execution_count": null,
   "metadata": {
    "collapsed": true
   },
   "outputs": [],
   "source": [
    "rf_classifier_low_depth = ensemble.RandomForestClassifier(n_estimators = 50, max_depth = 2, random_state = 1)"
   ]
  },
  {
   "cell_type": "markdown",
   "metadata": {},
   "source": [
    "# KNN"
   ]
  },
  {
   "cell_type": "markdown",
   "metadata": {},
   "source": [
    "* подбор k:  с ростом k качество растет, потом начинает ухудшаться"
   ]
  },
  {
   "cell_type": "code",
   "execution_count": null,
   "metadata": {
    "collapsed": true
   },
   "outputs": [],
   "source": []
  }
 ],
 "metadata": {
  "kernelspec": {
   "display_name": "Python 3",
   "language": "python",
   "name": "python3"
  },
  "language_info": {
   "codemirror_mode": {
    "name": "ipython",
    "version": 3
   },
   "file_extension": ".py",
   "mimetype": "text/x-python",
   "name": "python",
   "nbconvert_exporter": "python",
   "pygments_lexer": "ipython3",
   "version": "3.6.0"
  }
 },
 "nbformat": 4,
 "nbformat_minor": 2
}
