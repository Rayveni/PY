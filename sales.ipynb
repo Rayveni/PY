{
 "cells": [
  {
   "cell_type": "code",
   "execution_count": 1,
   "metadata": {
    "collapsed": false
   },
   "outputs": [
    {
     "name": "stdout",
     "output_type": "stream",
     "text": [
      "Populating the interactive namespace from numpy and matplotlib\n"
     ]
    }
   ],
   "source": [
    "%pylab inline\n",
    "import pandas as pd\n",
    "from scipy import stats\n",
    "import statsmodels.api as sm\n",
    "import matplotlib.pyplot as plt\n",
    "import warnings\n",
    "import os\n",
    "from itertools import product,combinations\n",
    "from statsmodels.tsa.statespace.sarimax import SARIMAX\n",
    "from datetime import timedelta\n",
    "from dateutil.relativedelta import relativedelta\n",
    "from sklearn.preprocessing import StandardScaler,PolynomialFeatures"
   ]
  },
  {
   "cell_type": "code",
   "execution_count": null,
   "metadata": {
    "collapsed": true
   },
   "outputs": [],
   "source": [
    "!conda install -c statsmodels statsmodels=0.8"
   ]
  },
  {
   "cell_type": "code",
   "execution_count": 4,
   "metadata": {
    "collapsed": false
   },
   "outputs": [
    {
     "data": {
      "text/html": [
       "<div>\n",
       "<table border=\"1\" class=\"dataframe\">\n",
       "  <thead>\n",
       "    <tr style=\"text-align: right;\">\n",
       "      <th></th>\n",
       "      <th>sales</th>\n",
       "    </tr>\n",
       "    <tr>\n",
       "      <th>month</th>\n",
       "      <th></th>\n",
       "    </tr>\n",
       "  </thead>\n",
       "  <tbody>\n",
       "    <tr>\n",
       "      <th>2016-10-01</th>\n",
       "      <td>7768538609</td>\n",
       "    </tr>\n",
       "    <tr>\n",
       "      <th>2016-11-01</th>\n",
       "      <td>8179133401</td>\n",
       "    </tr>\n",
       "    <tr>\n",
       "      <th>2016-12-01</th>\n",
       "      <td>12140414460</td>\n",
       "    </tr>\n",
       "  </tbody>\n",
       "</table>\n",
       "</div>"
      ],
      "text/plain": [
       "                  sales\n",
       "month                  \n",
       "2016-10-01   7768538609\n",
       "2016-11-01   8179133401\n",
       "2016-12-01  12140414460"
      ]
     },
     "execution_count": 4,
     "metadata": {},
     "output_type": "execute_result"
    }
   ],
   "source": [
    "path=r\"C:\\Reports\\FC\"\n",
    "data = pd.read_csv(os.path.join(path,'total_sales.csv'),';', index_col=['month'], parse_dates=['month'], dayfirst=True)\n",
    "\n",
    "fulldata=data\n",
    "data=data.ix[:-3]\n",
    "data.tail(3)"
   ]
  },
  {
   "cell_type": "code",
   "execution_count": null,
   "metadata": {
    "collapsed": false
   },
   "outputs": [],
   "source": [
    "#обратное преобразование Бокса Кокса\n",
    "def invboxcox(y,lmbda):\n",
    "   if lmbda == 0:\n",
    "      return(np.exp(y))\n",
    "   else:\n",
    "      return(np.exp(np.log(lmbda*y+1)/lmbda))"
   ]
  },
  {
   "cell_type": "code",
   "execution_count": null,
   "metadata": {
    "collapsed": false
   },
   "outputs": [],
   "source": [
    "plt.figure(figsize(15,7))\n",
    "data.plot()\n",
    "#plt.ylabel(u'')\n",
    "#plt.title('')\n",
    "pylab.show()"
   ]
  },
  {
   "cell_type": "code",
   "execution_count": null,
   "metadata": {
    "collapsed": false
   },
   "outputs": [],
   "source": [
    "plt.figure(figsize(15,10))\n",
    "sm.tsa.seasonal_decompose(data.sales,'multiplicative').plot()\n",
    "print(\"Критерий Дики-Фуллера: p=%f\" % sm.tsa.stattools.adfuller(data.sales)[1])"
   ]
  },
  {
   "cell_type": "code",
   "execution_count": null,
   "metadata": {
    "collapsed": false
   },
   "outputs": [],
   "source": [
    "pd.concat([sm.tsa.seasonal_decompose(data.sales,'multiplicative').trend,\n",
    "           sm.tsa.seasonal_decompose(data.sales,'multiplicative').seasonal],axis=1).to_excel(\n",
    "    os.path.join(path,'trend_season.xlsx'))"
   ]
  },
  {
   "cell_type": "code",
   "execution_count": null,
   "metadata": {
    "collapsed": false
   },
   "outputs": [],
   "source": [
    "data['sales'], lmbda = stats.boxcox(data.sales)\n",
    "\"Оптимальный параметр преобразования Бокса-Кокса: %f\" % lmbda"
   ]
  },
  {
   "cell_type": "code",
   "execution_count": null,
   "metadata": {
    "collapsed": false
   },
   "outputs": [],
   "source": [
    "def data_diff(df,column,arr):\n",
    "    k=1\n",
    "    df['sales_diff'] = df[column] - df[column].shift(arr[0]) \n",
    "    \n",
    "    for el in arr[1:]:\n",
    "        df['sales_diff'] = df['sales_diff'] - df['sales_diff'].shift(el)\n",
    "        k=k+el\n",
    "    return df,k\n",
    "        \n",
    "data,k=data_diff(data,'sales',[1])\n",
    "print(\"Критерий Дики-Фуллера: p=%f\" % sm.tsa.stattools.adfuller(data['sales_diff'].dropna())[1])\n",
    "\n",
    "plt.figure(figsize(15,10))\n",
    "sm.tsa.seasonal_decompose(data.sales_diff.dropna()).plot()\n",
    "pylab.show()"
   ]
  },
  {
   "cell_type": "code",
   "execution_count": null,
   "metadata": {
    "collapsed": false
   },
   "outputs": [],
   "source": [
    "lags=data.shape[0]-k-1\n",
    "plt.figure(figsize(15,8))\n",
    "ax = plt.subplot(211)\n",
    "sm.graphics.tsa.plot_acf(data.sales_diff.dropna().values.squeeze(), lags=lags, ax=ax)\n",
    "for i in range(12, lags, 12):\n",
    "    plt.axvline(i, -0.3, 1, c='r')\n",
    "#x = plt.subplot(212)\n",
    "#sm.graphics.tsa.plot_pacf(data.sales.dropna().values.squeeze(), lags=12, ax=ax)\n",
    "pylab.show()\n",
    "ax = plt.subplot(212)\n",
    "sm.graphics.tsa.plot_pacf(data.sales_diff.dropna().values.squeeze(), lags=lags, ax=ax)\n",
    "for i in range(12, lags, 12):\n",
    "    plt.axvline(i, -0.3, 1, c='r')\n",
    "pylab.show()"
   ]
  },
  {
   "cell_type": "code",
   "execution_count": null,
   "metadata": {
    "collapsed": false
   },
   "outputs": [],
   "source": [
    "ps = range(0, 11)\n",
    "d=1 # тк 0 раз дифференциорал\n",
    "qs = range(0, 11)\n",
    "Ps = range(0, 3)\n",
    "D=0 # одно сезонное дифференцирование\n",
    "Qs = range(0,3)\n",
    "parameters = product(ps, qs, Ps, Qs)\n",
    "parameters_list = list(parameters)\n",
    "len(parameters_list)"
   ]
  },
  {
   "cell_type": "code",
   "execution_count": null,
   "metadata": {
    "collapsed": false
   },
   "outputs": [],
   "source": [
    "[method for method in dir(sm.tsa) if callable(getattr(sm.tsa, method))]"
   ]
  },
  {
   "cell_type": "code",
   "execution_count": null,
   "metadata": {
    "collapsed": false
   },
   "outputs": [],
   "source": [
    "%%time\n",
    "results = []\n",
    "best_aic = float(\"inf\")\n",
    "warnings.filterwarnings('ignore')\n",
    "column='sales'\n",
    "for param in parameters_list:\n",
    "    #try except нужен, потому что на некоторых наборах параметров модель не обучается\n",
    "    try:\n",
    "        model=SARIMAX(data[column], order=(param[0], d, param[1]), \n",
    "                                        seasonal_order=(param[2], D, param[3], 12)).fit(disp=-1)\n",
    "    #выводим параметры, на которых модель не обучается и переходим к следующему набору\n",
    "    except ValueError:\n",
    "        print('wrong parameters:', param)\n",
    "        continue\n",
    "    aic = model.aic\n",
    "    #сохраняем лучшую модель, aic, параметры\n",
    "    if aic < best_aic:\n",
    "        best_model = model\n",
    "        best_aic = aic\n",
    "        best_param = param\n",
    "    results.append([param, model.aic,model])\n",
    "    \n",
    "warnings.filterwarnings('default')"
   ]
  },
  {
   "cell_type": "code",
   "execution_count": null,
   "metadata": {
    "collapsed": false
   },
   "outputs": [],
   "source": [
    "result_table = pd.DataFrame(results)\n",
    "result_table.columns = ['parameters', 'aic','model']\n",
    "result_table=result_table.sort_values(by = 'aic', ascending=True).head().reset_index(drop=True)\n",
    "result_table"
   ]
  },
  {
   "cell_type": "code",
   "execution_count": null,
   "metadata": {
    "collapsed": false
   },
   "outputs": [],
   "source": [
    "#Лучшая модель:\n",
    "print(best_model.summary())"
   ]
  },
  {
   "cell_type": "code",
   "execution_count": null,
   "metadata": {
    "collapsed": true
   },
   "outputs": [],
   "source": [
    "plt.figure(figsize(15,8))\n",
    "plt.subplot(211)\n",
    "best_model.resid.dropna().plot()\n",
    "plt.ylabel(u'Residuals')\n",
    "\n",
    "ax = plt.subplot(212)\n",
    "sm.graphics.tsa.plot_acf(best_model.resid.dropna().values.squeeze(), lags=48, ax=ax)\n",
    "\n",
    "print(\"Критерий Стьюдента: p=%f\" % stats.ttest_1samp(best_model.resid.dropna(), 0)[1])\n",
    "print(\"Критерий Дики-Фуллера: p=%f\" % sm.tsa.stattools.adfuller(best_model.resid.dropna())[1])"
   ]
  },
  {
   "cell_type": "code",
   "execution_count": null,
   "metadata": {
    "collapsed": true
   },
   "outputs": [],
   "source": [
    "\n",
    "q_test = sm.tsa.stattools.acf(model.resid.dropna(), qstat=True) #свойство resid, хранит остатки модели, qstat=True, означает что применяем указынный тест к коэф-ам\n",
    "pd.DataFrame({'Q-stat':q_test[1], 'p-value':q_test[2]})\n",
    "#из чего видим что остатки случайны"
   ]
  },
  {
   "cell_type": "code",
   "execution_count": null,
   "metadata": {
    "collapsed": false
   },
   "outputs": [],
   "source": [
    "#data['model'] = invboxcox(best_model.fittedvalues, lmbda)\n",
    "data['model'] = result_table['model'][1].fittedvalues.shift(-1)\n",
    "plt.figure(figsize(15,7))\n",
    "data.sales.plot()\n",
    "data.model.dropna().plot(color='r')\n",
    "plt.ylabel('sales')\n",
    "pylab.show()"
   ]
  },
  {
   "cell_type": "code",
   "execution_count": null,
   "metadata": {
    "collapsed": false
   },
   "outputs": [],
   "source": [
    "data2 = fulldata\n",
    "date_list = [max(data2.index) + relativedelta(months=x) for x in range(0,12)]\n",
    "future = pd.DataFrame(index=date_list, columns= data2.columns)\n",
    "data2 = pd.concat([data2, future])\n",
    "data2['forecast'] = best_model.predict(start=data.shape[0], end=data2.shape[0]).shift(-1)"
   ]
  },
  {
   "cell_type": "code",
   "execution_count": null,
   "metadata": {
    "collapsed": false
   },
   "outputs": [],
   "source": [
    "plt.figure(figsize(15,7))\n",
    "data2.sales.dropna().plot()\n",
    "data2.forecast.dropna().plot(color='r')\n",
    "data.model.dropna().plot(color='r')\n",
    "plt.ylabel('Wine sales')\n",
    "pylab.show()"
   ]
  },
  {
   "cell_type": "markdown",
   "metadata": {},
   "source": [
    "# Regression forecast"
   ]
  },
  {
   "cell_type": "code",
   "execution_count": 5,
   "metadata": {
    "collapsed": false
   },
   "outputs": [],
   "source": [
    "data = pd.read_csv(os.path.join(path,'total_sales_day.csv'),';', index_col=['day'], parse_dates=['day'], dayfirst=True)\n",
    "data=data.ix[:,:3]"
   ]
  },
  {
   "cell_type": "code",
   "execution_count": 6,
   "metadata": {
    "collapsed": false
   },
   "outputs": [
    {
     "name": "stdout",
     "output_type": "stream",
     "text": [
      "Wall time: 37.8 s\n"
     ]
    }
   ],
   "source": [
    "%%time\n",
    "min_date=min(data.index)\n",
    "data['day_of_week']=data.index.dayofweek\n",
    "data['month']=data.index.month\n",
    "data['total_days']=(data.index-min_date).days\n",
    "data['num_day']=data.index.day\n",
    "data['month_part']=data.num_day.apply(lambda x:x//8 )\n",
    "data['week_num']=data.index.week\n",
    "\n",
    "moving_week_window=3\n",
    "moving_month_window=3\n",
    "\n",
    "for i in range(1,moving_week_window+3):\n",
    "    data[str(i)+'_week_before']=data.index-timedelta(days=7*i)\n",
    "data['date_withot_day']=[data.index[i]-timedelta(days=int(data.num_day.values[i]-1))  for i in range(data.shape[0])]\n",
    "for i in range(1,moving_month_window+3):\n",
    "    data[str(i)+'_month_before']=data['date_withot_day'].apply(lambda x:x-relativedelta(months=+1*i))"
   ]
  },
  {
   "cell_type": "code",
   "execution_count": 7,
   "metadata": {
    "collapsed": false
   },
   "outputs": [
    {
     "data": {
      "text/html": [
       "<div>\n",
       "<table border=\"1\" class=\"dataframe\">\n",
       "  <thead>\n",
       "    <tr style=\"text-align: right;\">\n",
       "      <th></th>\n",
       "      <th>filial</th>\n",
       "      <th>store</th>\n",
       "      <th>sales</th>\n",
       "      <th>day_of_week</th>\n",
       "      <th>month</th>\n",
       "      <th>total_days</th>\n",
       "      <th>num_day</th>\n",
       "      <th>month_part</th>\n",
       "      <th>week_num</th>\n",
       "      <th>1_week_before</th>\n",
       "      <th>2_week_before</th>\n",
       "      <th>3_week_before</th>\n",
       "      <th>4_week_before</th>\n",
       "      <th>5_week_before</th>\n",
       "      <th>date_withot_day</th>\n",
       "      <th>1_month_before</th>\n",
       "      <th>2_month_before</th>\n",
       "      <th>3_month_before</th>\n",
       "      <th>4_month_before</th>\n",
       "      <th>5_month_before</th>\n",
       "    </tr>\n",
       "    <tr>\n",
       "      <th>day</th>\n",
       "      <th></th>\n",
       "      <th></th>\n",
       "      <th></th>\n",
       "      <th></th>\n",
       "      <th></th>\n",
       "      <th></th>\n",
       "      <th></th>\n",
       "      <th></th>\n",
       "      <th></th>\n",
       "      <th></th>\n",
       "      <th></th>\n",
       "      <th></th>\n",
       "      <th></th>\n",
       "      <th></th>\n",
       "      <th></th>\n",
       "      <th></th>\n",
       "      <th></th>\n",
       "      <th></th>\n",
       "      <th></th>\n",
       "      <th></th>\n",
       "    </tr>\n",
       "  </thead>\n",
       "  <tbody>\n",
       "    <tr>\n",
       "      <th>2017-03-24</th>\n",
       "      <td>Филиал Южный</td>\n",
       "      <td>1162</td>\n",
       "      <td>2156235.37</td>\n",
       "      <td>4</td>\n",
       "      <td>3</td>\n",
       "      <td>1178</td>\n",
       "      <td>24</td>\n",
       "      <td>3</td>\n",
       "      <td>12</td>\n",
       "      <td>2017-03-17</td>\n",
       "      <td>2017-03-10</td>\n",
       "      <td>2017-03-03</td>\n",
       "      <td>2017-02-24</td>\n",
       "      <td>2017-02-17</td>\n",
       "      <td>2017-03-01</td>\n",
       "      <td>2017-02-01</td>\n",
       "      <td>2017-01-01</td>\n",
       "      <td>2016-12-01</td>\n",
       "      <td>2016-11-01</td>\n",
       "      <td>2016-10-01</td>\n",
       "    </tr>\n",
       "    <tr>\n",
       "      <th>2017-03-25</th>\n",
       "      <td>Филиал Южный</td>\n",
       "      <td>1162</td>\n",
       "      <td>2344565.01</td>\n",
       "      <td>5</td>\n",
       "      <td>3</td>\n",
       "      <td>1179</td>\n",
       "      <td>25</td>\n",
       "      <td>3</td>\n",
       "      <td>12</td>\n",
       "      <td>2017-03-18</td>\n",
       "      <td>2017-03-11</td>\n",
       "      <td>2017-03-04</td>\n",
       "      <td>2017-02-25</td>\n",
       "      <td>2017-02-18</td>\n",
       "      <td>2017-03-01</td>\n",
       "      <td>2017-02-01</td>\n",
       "      <td>2017-01-01</td>\n",
       "      <td>2016-12-01</td>\n",
       "      <td>2016-11-01</td>\n",
       "      <td>2016-10-01</td>\n",
       "    </tr>\n",
       "    <tr>\n",
       "      <th>2017-03-26</th>\n",
       "      <td>Филиал Южный</td>\n",
       "      <td>1162</td>\n",
       "      <td>2035948.87</td>\n",
       "      <td>6</td>\n",
       "      <td>3</td>\n",
       "      <td>1180</td>\n",
       "      <td>26</td>\n",
       "      <td>3</td>\n",
       "      <td>12</td>\n",
       "      <td>2017-03-19</td>\n",
       "      <td>2017-03-12</td>\n",
       "      <td>2017-03-05</td>\n",
       "      <td>2017-02-26</td>\n",
       "      <td>2017-02-19</td>\n",
       "      <td>2017-03-01</td>\n",
       "      <td>2017-02-01</td>\n",
       "      <td>2017-01-01</td>\n",
       "      <td>2016-12-01</td>\n",
       "      <td>2016-11-01</td>\n",
       "      <td>2016-10-01</td>\n",
       "    </tr>\n",
       "  </tbody>\n",
       "</table>\n",
       "</div>"
      ],
      "text/plain": [
       "                  filial  store       sales  day_of_week  month  total_days  \\\n",
       "day                                                                           \n",
       "2017-03-24  Филиал Южный   1162  2156235.37            4      3        1178   \n",
       "2017-03-25  Филиал Южный   1162  2344565.01            5      3        1179   \n",
       "2017-03-26  Филиал Южный   1162  2035948.87            6      3        1180   \n",
       "\n",
       "            num_day  month_part  week_num 1_week_before 2_week_before  \\\n",
       "day                                                                     \n",
       "2017-03-24       24           3        12    2017-03-17    2017-03-10   \n",
       "2017-03-25       25           3        12    2017-03-18    2017-03-11   \n",
       "2017-03-26       26           3        12    2017-03-19    2017-03-12   \n",
       "\n",
       "           3_week_before 4_week_before 5_week_before date_withot_day  \\\n",
       "day                                                                    \n",
       "2017-03-24    2017-03-03    2017-02-24    2017-02-17      2017-03-01   \n",
       "2017-03-25    2017-03-04    2017-02-25    2017-02-18      2017-03-01   \n",
       "2017-03-26    2017-03-05    2017-02-26    2017-02-19      2017-03-01   \n",
       "\n",
       "           1_month_before 2_month_before 3_month_before 4_month_before  \\\n",
       "day                                                                      \n",
       "2017-03-24     2017-02-01     2017-01-01     2016-12-01     2016-11-01   \n",
       "2017-03-25     2017-02-01     2017-01-01     2016-12-01     2016-11-01   \n",
       "2017-03-26     2017-02-01     2017-01-01     2016-12-01     2016-11-01   \n",
       "\n",
       "           5_month_before  \n",
       "day                        \n",
       "2017-03-24     2016-10-01  \n",
       "2017-03-25     2016-10-01  \n",
       "2017-03-26     2016-10-01  "
      ]
     },
     "execution_count": 7,
     "metadata": {},
     "output_type": "execute_result"
    }
   ],
   "source": [
    "data.tail(3)"
   ]
  },
  {
   "cell_type": "code",
   "execution_count": 8,
   "metadata": {
    "collapsed": false
   },
   "outputs": [
    {
     "name": "stdout",
     "output_type": "stream",
     "text": [
      "Wall time: 5min 7s\n"
     ]
    }
   ],
   "source": [
    "%%time\n",
    "def find_in_agg_df(df,pattern):\n",
    "    try:r=df.ix[tuple(pattern)]['sales']\n",
    "    except:r=np.nan\n",
    "    return r\n",
    "\n",
    "agg_month=data[['date_withot_day','sales','store']].pivot_table(index=['date_withot_day','store'],aggfunc=np.sum)\n",
    "for i in range(1,moving_month_window+3):\n",
    "    column_name=str(i)+'_month_before'\n",
    "    data[column_name]=data[[column_name,'store']].apply(lambda row:find_in_agg_df(agg_month,row),axis=1)"
   ]
  },
  {
   "cell_type": "code",
   "execution_count": null,
   "metadata": {
    "collapsed": false
   },
   "outputs": [
    {
     "name": "stdout",
     "output_type": "stream",
     "text": [
      "Wall time: 7min 17s\n"
     ]
    }
   ],
   "source": [
    "%%time\n",
    "def create_moving_week(df):\n",
    "    df.reset_index(inplace=True)\n",
    "    start_date=min_date+timedelta(days=6)\n",
    "    res=df[df['day']>start_date][['day','store','1_week_before']].reset_index(drop=True)\n",
    "\n",
    "    \n",
    "    res['sales']=res.apply(lambda row:np.sum(df[(df['store']==row['store'])&\n",
    "                                         (df['day']>=row['1_week_before'])&\n",
    "                                         (df['day']<row['day'])]['sales']),axis=1)\n",
    "    \n",
    "    res.drop('1_week_before',axis=1,inplace=True)\n",
    "    res.set_index(['day', 'store'],inplace=True)\n",
    "    return res\n",
    "agg_week_df=create_moving_week(data)"
   ]
  },
  {
   "cell_type": "code",
   "execution_count": null,
   "metadata": {
    "collapsed": false
   },
   "outputs": [],
   "source": [
    "%%time\n",
    "for i in range(1,moving_week_window+3):\n",
    "    column_name=str(i)+'_week_before'\n",
    "    data[column_name]=data[[column_name,'store']].apply(lambda row:find_in_agg_df(agg_week_df,row),axis=1)"
   ]
  },
  {
   "cell_type": "code",
   "execution_count": null,
   "metadata": {
    "collapsed": false
   },
   "outputs": [],
   "source": [
    "data.dropna(inplace=True)\n",
    "data.reset_index(inplace=True,drop=True)"
   ]
  },
  {
   "cell_type": "code",
   "execution_count": null,
   "metadata": {
    "collapsed": false
   },
   "outputs": [],
   "source": [
    "for i in range(1,moving_week_window+1):\n",
    "    \n",
    "    column_names=[str(x)+'_week_before' for x in range(i,i+3) ]\n",
    "    column_name_new=str(i)+'avg_week'\n",
    "    data[column_name_new]=data[column_names].apply(np.mean,axis=1)\n",
    "for i in range(1,moving_month_window+1):\n",
    "    column_names=[str(x)+'_month_before' for x in range(i,i+3) ]\n",
    "    column_name_new=str(i)+'avg_month'\n",
    "    data[column_name_new]=data[column_names].apply(np.mean,axis=1)\n",
    "\n",
    "columns=[str(x)+'_week_before' for x in range(1,moving_week_window+3)]+[\n",
    "    str(x)+'_month_before' for x in range(1,moving_month_window+3)]\n",
    "data.drop(columns,axis=1,inplace=True)"
   ]
  },
  {
   "cell_type": "code",
   "execution_count": null,
   "metadata": {
    "collapsed": false
   },
   "outputs": [],
   "source": [
    "data.columns"
   ]
  },
  {
   "cell_type": "code",
   "execution_count": null,
   "metadata": {
    "collapsed": false
   },
   "outputs": [],
   "source": [
    "def generate_features(df,columns,degree,suffix):\n",
    "    polynom_arr=PolynomialFeatures(degree).fit_transform(df[columns])\n",
    "    polynom_df=pd.DataFrame(polynom_arr,columns=[str(el )+suffix for el in range(polynom_arr.shape[1])])\n",
    "    \n",
    "    for comb in combinations(range(len(columns)),2):\n",
    "    \n",
    "        polynom_df[suffix+columns[comb[0]]+'+'+columns[comb[1]]]=df[columns[comb[0]]]+df[columns[comb[1]]]\n",
    "\n",
    "        polynom_df[suffix+columns[comb[0]]+'-'+columns[comb[1]]]=df[columns[comb[0]]]-df[columns[comb[1]]]\n",
    "        polynom_df[suffix+columns[comb[0]]+'/'+columns[comb[1]]]=df[columns[comb[0]]]/df[columns[comb[1]]]\n",
    "        polynom_df[suffix+columns[comb[0]]+'*'+columns[comb[1]]]=df[columns[comb[0]]]*df[columns[comb[1]]]\n",
    "        \n",
    "    return polynom_df\n",
    "#generate_features(data,avg_week_cols,2,'month').head()    "
   ]
  },
  {
   "cell_type": "code",
   "execution_count": null,
   "metadata": {
    "collapsed": false
   },
   "outputs": [],
   "source": [
    "avg_month_cols=[str(i)+'avg_month' for i in range(1,moving_month_window+1)]\n",
    "avg_week_cols=[str(i)+'avg_week' for i in range(1,moving_week_window+1)]\n",
    "\n",
    "multiple_df=pd.concat([generate_features(data,avg_month_cols,2,'month'),\n",
    "                generate_features(data,avg_week_cols,2,'week')],axis=1)"
   ]
  },
  {
   "cell_type": "code",
   "execution_count": null,
   "metadata": {
    "collapsed": false
   },
   "outputs": [],
   "source": [
    "avg_month_cols=[str(i)+'avg_month' for i in range(1,moving_month_window+1)]\n",
    "avg_week_cols=[str(i)+'avg_week' for i in range(1,moving_week_window+1)]\n",
    "\n",
    "real_features=['sales','total_days']+multiple_df.columns.values#+avg_month_cols+avg_week_cols\n",
    "cat_features=['filial','store','day_of_week', 'month', 'month_part','week_num']"
   ]
  },
  {
   "cell_type": "code",
   "execution_count": null,
   "metadata": {
    "collapsed": true
   },
   "outputs": [],
   "source": [
    "data=pd.concat([data,multiple_df],axis=1)\n",
    "data.drop(avg_month_cols+avg_week_cols,inplace=True,axis=1)"
   ]
  },
  {
   "cell_type": "code",
   "execution_count": null,
   "metadata": {
    "collapsed": false
   },
   "outputs": [],
   "source": [
    "def transform(df,real_columns,cat_columns):\n",
    "    df.is_a_copy=False\n",
    "\n",
    "    df_real=df[real_columns]\n",
    "    scaler = StandardScaler()\n",
    "    df_real=pd.DataFrame(scaler.fit_transform(df_real),columns=real_columns)\n",
    "    res=[df_real]\n",
    "    df_cat=df[cat_columns]\n",
    "    for column in df_cat.columns.values:\n",
    "        data_slice=df_cat[column].astype(str)\n",
    "        res.append(pd.get_dummies(data_slice,prefix =column, dummy_na=False))        \n",
    "    res=pd.concat(res,axis=1)\n",
    "    return res\n",
    "\n",
    "transform(data,real_features,cat_features)"
   ]
  },
  {
   "cell_type": "code",
   "execution_count": null,
   "metadata": {
    "collapsed": false
   },
   "outputs": [],
   "source": [
    "plt.figure(figsize(15,7))\n",
    "data.sales.plot()\n",
    "#plt.ylabel(u'')\n",
    "#plt.title('')\n",
    "pylab.show()"
   ]
  },
  {
   "cell_type": "code",
   "execution_count": null,
   "metadata": {
    "collapsed": true
   },
   "outputs": [],
   "source": []
  }
 ],
 "metadata": {
  "kernelspec": {
   "display_name": "Python [conda root]",
   "language": "python",
   "name": "conda-root-py"
  },
  "language_info": {
   "codemirror_mode": {
    "name": "ipython",
    "version": 3
   },
   "file_extension": ".py",
   "mimetype": "text/x-python",
   "name": "python",
   "nbconvert_exporter": "python",
   "pygments_lexer": "ipython3",
   "version": "3.5.2"
  }
 },
 "nbformat": 4,
 "nbformat_minor": 2
}
