{
 "cells": [
  {
   "cell_type": "code",
   "execution_count": 1,
   "metadata": {
    "collapsed": true
   },
   "outputs": [],
   "source": [
    "import requests\n",
    "import json\n",
    "import hashlib\n",
    "import hmac"
   ]
  },
  {
   "cell_type": "code",
   "execution_count": null,
   "metadata": {
    "collapsed": true
   },
   "outputs": [],
   "source": [
    "import sys\n",
    "import pylab\n",
    "import btceapi\n",
    "\n",
    "# If an argument is provided to this script, it will be interpreted\n",
    "# as a currency pair for which history should be displayed. Otherwise\n",
    "# the BTC/USD history will be displayed.\n",
    "\n",
    "if len(sys.argv) >= 2:\n",
    "    pair = sys.argv[1]\n",
    "    print(\"Showing history for %s\" % pair)\n",
    "else:\n",
    "    print(\"No currency pair provided, defaulting to btc_usd\")\n",
    "    pair = \"btc_usd\"\n",
    "    \n",
    "history = btceapi.getTradeHistory(pair)\n",
    "\n",
    "print(len(history))\n",
    "\n",
    "pylab.plot([t.timestamp for t in history if t.type == u'ask'],\n",
    "           [t.price for t in history if t.type == u'ask'], 'ro')\n",
    "\n",
    "pylab.plot([t.timestamp for t in history if t.type == u'bid'],\n",
    "           [t.price for t in history if t.type == u'bid'], 'go')\n",
    "\n",
    "pylab.grid()          \n",
    "pylab.show()"
   ]
  },
  {
   "cell_type": "code",
   "execution_count": null,
   "metadata": {
    "collapsed": true
   },
   "outputs": [],
   "source": [
    "def getTradeHistory(pair, connection=None, info=None, count=None):\n",
    "    \"\"\"Retrieve the trade history for the given pair.  Returns a list of\n",
    "    Trade instances.  If count is not None, it should be an integer, and\n",
    "    specifies the number of items from the trade history that will be\n",
    "    processed and returned.\"\"\"\n",
    "\n",
    "    if info is not None:\n",
    "        info.validate_pair(pair)\n",
    "\n",
    "    if connection is None:\n",
    "        connection = common.BTCEConnection()\n",
    "\n",
    "    response = connection.makeJSONRequest(\"/api/3/trades/%s\" % pair)\n",
    "    if type(response) is not dict:\n",
    "        raise TypeError(\"The response is not a dict.\")\n",
    "\n",
    "    history = response.get(pair)\n",
    "    if type(history) is not list:\n",
    "        raise TypeError(\"The response is a %r, not a list.\" % type(history))\n",
    "\n",
    "    result = []\n",
    "\n",
    "    # Limit the number of items returned if requested.\n",
    "    if count is not None:\n",
    "        history = history[:count]\n",
    "\n",
    "    for h in history:\n",
    "        h[\"pair\"] = pair\n",
    "        t = Trade(**h)\n",
    "        result.append(t)\n",
    "    return result"
   ]
  },
  {
   "cell_type": "code",
   "execution_count": 2,
   "metadata": {
    "collapsed": true
   },
   "outputs": [],
   "source": [
    "token_path=r'C:\\Users\\Волочков\\token.txt'"
   ]
  },
  {
   "cell_type": "code",
   "execution_count": 6,
   "metadata": {
    "collapsed": false
   },
   "outputs": [
    {
     "data": {
      "text/plain": [
       "'N'"
      ]
     },
     "execution_count": 6,
     "metadata": {},
     "output_type": "execute_result"
    }
   ],
   "source": [
    "open(token_path, 'r').read(1)"
   ]
  },
  {
   "cell_type": "code",
   "execution_count": 7,
   "metadata": {
    "collapsed": true
   },
   "outputs": [],
   "source": [
    "with open(token_path) as f:\n",
    "    content = f.readlines()"
   ]
  },
  {
   "cell_type": "code",
   "execution_count": 13,
   "metadata": {
    "collapsed": false
   },
   "outputs": [],
   "source": [
    "key=content[0][:-2]\n",
    "secret=content[1]"
   ]
  },
  {
   "cell_type": "code",
   "execution_count": 48,
   "metadata": {
    "collapsed": false
   },
   "outputs": [
    {
     "data": {
      "text/plain": [
       "<Response [200]>"
      ]
     },
     "execution_count": 48,
     "metadata": {},
     "output_type": "execute_result"
    }
   ],
   "source": [
    "requests.post(\"http://btc-e.nz\")"
   ]
  },
  {
   "cell_type": "code",
   "execution_count": 55,
   "metadata": {
    "collapsed": false
   },
   "outputs": [],
   "source": [
    "import http.client\n",
    "import urllib.request, urllib.parse, urllib.error\n",
    "import json\n",
    "import hashlib\n",
    "import hmac\n",
    "import time\n",
    "nonce=1\n",
    "\n",
    "def signature(params):\n",
    "    sig = hmac.new(key.encode(), params, hashlib.sha512)\n",
    "    return sig.hexdigest()\n",
    "\n",
    "\n",
    "def api_call(method,params):\n",
    "    params['method'] = method\n",
    "   \n",
    "    params['nonce'] =3 \n",
    "    \n",
    "    headers = {\"Content-type\" : \"application/x-www-form-urlencoded\",\n",
    "               \"Key\" : key,\n",
    "               \"Sign\" : hmac.new(key.encode(), secret.encode(), digestmod=hashlib.sha512).hexdigest()}\n",
    "    r= requests.post(\"http://btc-e.nz\", data=params,headers=headers)\n",
    "    return r\n",
    "t=api_call('getInfo', {})"
   ]
  },
  {
   "cell_type": "code",
   "execution_count": 68,
   "metadata": {
    "collapsed": false
   },
   "outputs": [],
   "source": [
    "a=requests.get(\"http://btc-e.nz\", data={'method':'getInfo','nonce':3},auth=HTTPDigestAuth(key, secret))"
   ]
  },
  {
   "cell_type": "code",
   "execution_count": 63,
   "metadata": {
    "collapsed": false
   },
   "outputs": [],
   "source": [
    "from requests.auth import HTTPDigestAuth"
   ]
  },
  {
   "cell_type": "code",
   "execution_count": null,
   "metadata": {
    "collapsed": true
   },
   "outputs": [],
   "source": [
    "class Token(object,):\n",
    "    def __init__(self, key, secret):\n",
    "        self.key = key\n",
    "        self.secret = secret\n",
    "\n",
    "    def sign(self, string):\n",
    "        return hmac.new(self.secret, string, hashlib.sha256).hexdigest()\n",
    "    \n",
    "    "
   ]
  },
  {
   "cell_type": "code",
   "execution_count": null,
   "metadata": {
    "collapsed": true
   },
   "outputs": [],
   "source": [
    "import time\n",
    "import hashlib\n",
    "import hmac\n",
    "import requests\n",
    "\n",
    "app_id = 'pusher_app_id'\n",
    "key = 'pusher_key'\n",
    "secret = 'pusher_secret'\n",
    "channel = 'pusher_presence_channel'\n",
    "\n",
    "\n",
    "class Token(object,):\n",
    "    def __init__(self, key, secret):\n",
    "        self.key = key\n",
    "        self.secret = secret\n",
    "\n",
    "    def sign(self, string):\n",
    "        return hmac.new(self.secret, string, hashlib.sha256).hexdigest()\n",
    "\n",
    "\n",
    "def create_signed_query_string(token, partial_path, method, request_params):\n",
    "    params = {\n",
    "        'auth_key': token.key,\n",
    "        'auth_timestamp': int(time.time()),\n",
    "        'auth_version': '1.0'\n",
    "    }\n",
    "    params.update(request_params)\n",
    "    keys = sorted(params.keys() )\n",
    "    params_list = []\n",
    "    for k in keys:\n",
    "        params_list.append( '{0}={1}'.format(k, params[k]) )\n",
    "\n",
    "    query_string = '&'.join(params_list)\n",
    "\n",
    "    sign_data = '\\n'.join([method, partial_path, query_string])\n",
    "    query_string += '&auth_signature=' + token.sign(sign_data);\n",
    "    return query_string\n",
    "\n",
    "\n",
    "def get_users(channel):\n",
    "    partial_path =  '/apps/{0}/channels/{1}/users'.format(app_id, channel)\n",
    "    token = Token(key, secret)\n",
    "    qs =  create_signed_query_string(token, partial_path, 'GET' {})\n",
    "    full_path = 'http://api.pusherapp.com/{0}?{1}'.format(partial_path, qs)\n",
    "    r = requests.get(full_path)\n",
    "    return r.text\n",
    "\n",
    "print get_users(channel)"
   ]
  },
  {
   "cell_type": "code",
   "execution_count": 41,
   "metadata": {
    "collapsed": false
   },
   "outputs": [
    {
     "data": {
      "text/plain": [
       "'{\"method\": \"method\", \"nonce\": 1}'"
      ]
     },
     "execution_count": 41,
     "metadata": {},
     "output_type": "execute_result"
    }
   ],
   "source": [
    "params={}\n",
    "params['method'] = 'method'   \n",
    "params['nonce'] = 1\n",
    "\n",
    "json.dumps(params)"
   ]
  },
  {
   "cell_type": "code",
   "execution_count": 16,
   "metadata": {
    "collapsed": false
   },
   "outputs": [
    {
     "data": {
      "text/plain": [
       "'1492278667'"
      ]
     },
     "execution_count": 16,
     "metadata": {},
     "output_type": "execute_result"
    }
   ],
   "source": [
    "str(time.time()).split('.')[0]"
   ]
  },
  {
   "cell_type": "code",
   "execution_count": 21,
   "metadata": {
    "collapsed": false
   },
   "outputs": [],
   "source": [
    "a=time.time()"
   ]
  },
  {
   "cell_type": "code",
   "execution_count": 24,
   "metadata": {
    "collapsed": false
   },
   "outputs": [
    {
     "data": {
      "text/plain": [
       "15.584502935409546"
      ]
     },
     "execution_count": 24,
     "metadata": {},
     "output_type": "execute_result"
    }
   ],
   "source": [
    "time.time()-a"
   ]
  },
  {
   "cell_type": "code",
   "execution_count": null,
   "metadata": {
    "collapsed": true
   },
   "outputs": [],
   "source": [
    "class api:\n",
    " __api_key\t= '';\n",
    " __api_secret\t= '';\n",
    " __nonce_v\t= 1;\n",
    " __wait_for_nonce = False\n",
    "\n",
    " def __init__(self,api_key,api_secret,wait_for_nonce=False):\n",
    "  self.__api_key = api_key\n",
    "  self.__api_secret = api_secret\n",
    "  self.__wait_for_nonce = wait_for_nonce\n",
    "\n",
    " def __nonce(self):\n",
    "   if self.__wait_for_nonce: time.sleep(1)\n",
    "   self.__nonce_v = str(time.time()).split('.')[0]\n",
    "\n",
    " def __signature(self, params):\n",
    "  sig = hmac.new(self.__api_secret.encode(), params.encode(), hashlib.sha512)\n",
    "  return sig.hexdigest()\n",
    "\n",
    " def __api_call(self,method,params):\n",
    "  self.__nonce()\n",
    "  params['method'] = method\n",
    "  params['nonce'] = str(self.__nonce_v)\n",
    "  params = urllib.parse.urlencode(params)\n",
    "  headers = {\"Content-type\" : \"application/x-www-form-urlencoded\",\n",
    "                      \"Key\" : self.__api_key,\n",
    "\t\t     \"Sign\" : self.__signature(params)}\n",
    "  conn = http.client.HTTPSConnection(\"btc-e.com\")\n",
    "  conn.request(\"POST\", \"/tapi\", params, headers)\n",
    "  response = conn.getresponse().read().decode()\n",
    "  data = json.loads(response)\n",
    "  conn.close()\n",
    "  return data\n",
    "  \n",
    " def get_param(self, couple, param):\n",
    "  conn = http.client.HTTPSConnection(\"btc-e.com\")\n",
    "  conn.request(\"GET\", \"/api/2/\"+couple+\"/\"+param)\n",
    "  response = conn.getresponse().read().decode()\n",
    "  data = json.loads(response)\n",
    "  conn.close()\n",
    "  return data\n",
    " \n",
    " def getInfo(self):\n",
    "  return self.__api_call('getInfo', {})\n",
    "\n",
    " def TransHistory(self, tfrom, tcount, tfrom_id, tend_id, torder, tsince, tend):\n",
    "  params = {\n",
    "   \"from\"\t: tfrom,\n",
    "   \"count\"\t: tcount,\n",
    "   \"from_id\"\t: tfrom_id,\n",
    "   \"end_id\"\t: tend_id,\n",
    "   \"order\"\t: torder,\n",
    "   \"since\"\t: tsince,\n",
    "   \"end\"\t: tend}\n",
    "  return self.__api_call('TransHistory', params)\n",
    " \n",
    " def TradeHistory(self, tfrom, tcount, tfrom_id, tend_id, torder, tsince, tend, tpair):\n",
    "  params = {\n",
    "   \"from\"\t: tfrom,\n",
    "   \"count\"\t: tcount,\n",
    "   \"from_id\"\t: tfrom_id,\n",
    "   \"end_id\"\t: tend_id,\n",
    "   \"order\"\t: torder,\n",
    "   \"since\"\t: tsince,\n",
    "   \"end\"\t: tend,\n",
    "   \"pair\"\t: tpair}\n",
    "  return self.__api_call('TradeHistory', params)"
   ]
  },
  {
   "cell_type": "code",
   "execution_count": 160,
   "metadata": {
    "collapsed": true
   },
   "outputs": [],
   "source": [
    "import http.client\n",
    "import urllib.request, urllib.parse, urllib.error\n",
    "import json\n",
    "import hashlib\n",
    "import hmac\n",
    "import time\n",
    "\n",
    "class api:\n",
    " __api_key\t= '';\n",
    " __api_secret\t= '';\n",
    " __nonce_v\t= 1;\n",
    " __wait_for_nonce = False\n",
    "\n",
    " def __init__(self,api_key,api_secret,wait_for_nonce=False):\n",
    "  self.__api_key = api_key\n",
    "  self.__api_secret = api_secret\n",
    "  self.__wait_for_nonce = wait_for_nonce\n",
    "\n",
    " def __nonce(self):\n",
    "   if self.__wait_for_nonce: time.sleep(1)\n",
    "   self.__nonce_v = str(time.time()).split('.')[0]\n",
    "\n",
    " def __signature(self, params):\n",
    "  sig = hmac.new(self.__api_secret.encode(), params.encode(), hashlib.sha512)\n",
    "  return sig.hexdigest()\n",
    "\n",
    " def __api_call(self,method,params):\n",
    "  self.__nonce()\n",
    "  params['method'] = method\n",
    "  n=str(self.__nonce_v)\n",
    "  params['nonce'] = n\n",
    " \n",
    "  params = urllib.parse.urlencode(params)\n",
    "  headers = {\"Content-type\" : \"application/x-www-form-urlencoded\",\n",
    "                      \"Key\" : self.__api_key,\n",
    "                 \"Sign\" : self.__signature(params)}\n",
    "  return requests.post(r'https://btc-e.nz/tapi', data={'method':'getInfo','nonce':n}, headers=headers)\n",
    "  conn = http.client.HTTPSConnection(\"btc-e.nz\")\n",
    "  print(params,headers)\n",
    "  conn.request(\"POST\", \"/tapi\", params, headers)\n",
    "  response = conn.getresponse().read().decode()\n",
    "  data = json.loads(response)\n",
    "  conn.close()\n",
    "  return data\n",
    "  \n",
    "  \n",
    " def get_param(self, couple, param):\n",
    "  conn = http.client.HTTPSConnection(\"btc-e.nz\")\n",
    "  conn.request(\"GET\", \"/api/2/\"+couple+\"/\"+param)\n",
    "  response = conn.getresponse().read().decode()\n",
    "  data = json.loads(response)\n",
    "  conn.close()\n",
    "  return data\n",
    " \n",
    " def getInfo(self):\n",
    "  return self.__api_call('getInfo', {})\n",
    "\n",
    " def TransHistory(self, tfrom, tcount, tfrom_id, tend_id, torder, tsince, tend):\n",
    "  params = {\n",
    "   \"from\"\t: tfrom,\n",
    "   \"count\"\t: tcount,\n",
    "   \"from_id\"\t: tfrom_id,\n",
    "   \"end_id\"\t: tend_id,\n",
    "   \"order\"\t: torder,\n",
    "   \"since\"\t: tsince,\n",
    "   \"end\"\t: tend}\n",
    "  return self.__api_call('TransHistory', params)\n",
    " \n",
    " def TradeHistory(self, tfrom, tcount, tfrom_id, tend_id, torder, tsince, tend, tpair):\n",
    "  params = {\n",
    "   \"from\"\t: tfrom,\n",
    "   \"count\"\t: tcount,\n",
    "   \"from_id\"\t: tfrom_id,\n",
    "   \"end_id\"\t: tend_id,\n",
    "   \"order\"\t: torder,\n",
    "   \"since\"\t: tsince,\n",
    "   \"end\"\t: tend,\n",
    "   \"pair\"\t: tpair}\n",
    "  return self.__api_call('TradeHistory', params)\n",
    "\n",
    " def ActiveOrders(self, tpair):\n",
    "  params = { \"pair\" : tpair }\n",
    "  return self.__api_call('ActiveOrders', params)\n",
    "\n",
    " def Trade(self, tpair, ttype, trate, tamount):\n",
    "  params = {\n",
    "   \"pair\"\t: tpair,\n",
    "   \"type\"\t: ttype,\n",
    "   \"rate\"\t: trate,\n",
    "   \"amount\"\t: tamount}\n",
    "  return self.__api_call('Trade', params)\n",
    "  \n",
    " def CancelOrder(self, torder_id):\n",
    "  params = { \"order_id\" : torder_id }\n",
    "  return self.__api_call('CancelOrder', params)"
   ]
  },
  {
   "cell_type": "code",
   "execution_count": null,
   "metadata": {
    "collapsed": true
   },
   "outputs": [],
   "source": [
    "http://api.bitcoincharts.com/v1/csv/\n",
    "https://www.investing.com/currencies/btc-usd-historical-data"
   ]
  },
  {
   "cell_type": "code",
   "execution_count": 161,
   "metadata": {
    "collapsed": false
   },
   "outputs": [],
   "source": [
    "a=api(key,secret)\n",
    "\n",
    "#t=requests.post(r'https://btc-e.nz/tapi', data={'method':'getInfo','nonce':'1492321847'}, headers={'Content-type': 'application/x-www-form-urlencoded', 'Key': '19HA26XJ-UB6KYIQB-RV7GPUEA-RULNVFV4-SQ2EGAXM', 'Sign': '8d81e015512d69861dec4a44e951329b04ec302cca1ff8716035d8503fe325885836d3d7c356433c43951754367d75b5f90ee3a2ad862bbff3e58bbee893f5e2'})"
   ]
  },
  {
   "cell_type": "code",
   "execution_count": 155,
   "metadata": {
    "collapsed": false
   },
   "outputs": [
    {
     "data": {
      "text/plain": [
       "{'error': 'invalid sign', 'success': 0}"
      ]
     },
     "execution_count": 155,
     "metadata": {},
     "output_type": "execute_result"
    }
   ],
   "source": [
    "t.json()"
   ]
  },
  {
   "cell_type": "code",
   "execution_count": 162,
   "metadata": {
    "collapsed": false
   },
   "outputs": [],
   "source": [
    "t=a.getInfo()"
   ]
  },
  {
   "cell_type": "code",
   "execution_count": 164,
   "metadata": {
    "collapsed": false
   },
   "outputs": [
    {
     "data": {
      "text/plain": [
       "{'return': {'funds': {'btc': 0,\n",
       "   'cnh': 0,\n",
       "   'dsh': 0,\n",
       "   'eth': 0,\n",
       "   'eur': 0,\n",
       "   'ftc': 0,\n",
       "   'gbp': 0,\n",
       "   'ltc': 0,\n",
       "   'nmc': 0,\n",
       "   'nvc': 0,\n",
       "   'ppc': 0,\n",
       "   'rur': 0,\n",
       "   'trc': 0,\n",
       "   'usd': 0,\n",
       "   'xpm': 0},\n",
       "  'open_orders': 0,\n",
       "  'rights': {'info': 1, 'trade': 0, 'withdraw': 0},\n",
       "  'server_time': 1492322335,\n",
       "  'transaction_count': 0},\n",
       " 'success': 1}"
      ]
     },
     "execution_count": 164,
     "metadata": {},
     "output_type": "execute_result"
    }
   ],
   "source": [
    "t.json()"
   ]
  },
  {
   "cell_type": "code",
   "execution_count": 136,
   "metadata": {
    "collapsed": false
   },
   "outputs": [],
   "source": [
    "t=requests.post(\"http://btc-e.nz/tapi\",{'method':'getInfo','nonce':1492286933},headers={'Content-type': 'application/x-www-form-urlencoded', 'Key': '19HA26XJ-UB6KYIQB-RV7GPUEA-RULNVFV4-SQ2EGAXM', 'Sign': '630062697a8fe91a977e4a01f1f36e2cd6855020edd7e4f614c99d1e775f2fd950cae9d5b9e57f04ec46c8f2c82d9d1603bd42292357c074dd3e4c7fe60643c9'})"
   ]
  },
  {
   "cell_type": "code",
   "execution_count": 139,
   "metadata": {
    "collapsed": false
   },
   "outputs": [],
   "source": [
    "'https://btc-e.nz/api/3/info'\n",
    "\n",
    "a=requests.get(r'https://btc-e.nz/api/3/info')"
   ]
  },
  {
   "cell_type": "code",
   "execution_count": 142,
   "metadata": {
    "collapsed": false
   },
   "outputs": [
    {
     "data": {
      "text/plain": [
       "{'pairs': {'btc_eur': {'decimal_places': 5,\n",
       "   'fee': 0.2,\n",
       "   'hidden': 0,\n",
       "   'max_price': 3200,\n",
       "   'min_amount': 0.001,\n",
       "   'min_price': 0.1},\n",
       "  'btc_rur': {'decimal_places': 5,\n",
       "   'fee': 0.2,\n",
       "   'hidden': 0,\n",
       "   'max_price': 1000000,\n",
       "   'min_amount': 0.001,\n",
       "   'min_price': 1},\n",
       "  'btc_usd': {'decimal_places': 3,\n",
       "   'fee': 0.2,\n",
       "   'hidden': 0,\n",
       "   'max_price': 10000,\n",
       "   'min_amount': 0.001,\n",
       "   'min_price': 0.1},\n",
       "  'dsh_btc': {'decimal_places': 5,\n",
       "   'fee': 0.2,\n",
       "   'hidden': 0,\n",
       "   'max_price': 10,\n",
       "   'min_amount': 0.1,\n",
       "   'min_price': 0.0001},\n",
       "  'dsh_eth': {'decimal_places': 3,\n",
       "   'fee': 0.2,\n",
       "   'hidden': 0,\n",
       "   'max_price': 600,\n",
       "   'min_amount': 0.1,\n",
       "   'min_price': 0.1},\n",
       "  'dsh_eur': {'decimal_places': 3,\n",
       "   'fee': 0.2,\n",
       "   'hidden': 0,\n",
       "   'max_price': 600,\n",
       "   'min_amount': 0.1,\n",
       "   'min_price': 0.1},\n",
       "  'dsh_ltc': {'decimal_places': 3,\n",
       "   'fee': 0.2,\n",
       "   'hidden': 0,\n",
       "   'max_price': 600,\n",
       "   'min_amount': 0.1,\n",
       "   'min_price': 0.1},\n",
       "  'dsh_rur': {'decimal_places': 3,\n",
       "   'fee': 0.2,\n",
       "   'hidden': 0,\n",
       "   'max_price': 12000,\n",
       "   'min_amount': 0.1,\n",
       "   'min_price': 1},\n",
       "  'dsh_usd': {'decimal_places': 5,\n",
       "   'fee': 0.2,\n",
       "   'hidden': 0,\n",
       "   'max_price': 600,\n",
       "   'min_amount': 0.1,\n",
       "   'min_price': 0.1},\n",
       "  'eth_btc': {'decimal_places': 5,\n",
       "   'fee': 0.2,\n",
       "   'hidden': 0,\n",
       "   'max_price': 10,\n",
       "   'min_amount': 0.1,\n",
       "   'min_price': 0.0001},\n",
       "  'eth_eur': {'decimal_places': 5,\n",
       "   'fee': 0.2,\n",
       "   'hidden': 0,\n",
       "   'max_price': 100,\n",
       "   'min_amount': 0.1,\n",
       "   'min_price': 0.0001},\n",
       "  'eth_ltc': {'decimal_places': 5,\n",
       "   'fee': 0.2,\n",
       "   'hidden': 0,\n",
       "   'max_price': 100,\n",
       "   'min_amount': 0.1,\n",
       "   'min_price': 0.0001},\n",
       "  'eth_rur': {'decimal_places': 5,\n",
       "   'fee': 0.2,\n",
       "   'hidden': 0,\n",
       "   'max_price': 5000,\n",
       "   'min_amount': 0.1,\n",
       "   'min_price': 0.0001},\n",
       "  'eth_usd': {'decimal_places': 5,\n",
       "   'fee': 0.2,\n",
       "   'hidden': 0,\n",
       "   'max_price': 100,\n",
       "   'min_amount': 0.1,\n",
       "   'min_price': 0.0001},\n",
       "  'eur_rur': {'decimal_places': 5,\n",
       "   'fee': 0.2,\n",
       "   'hidden': 0,\n",
       "   'max_price': 200,\n",
       "   'min_amount': 0.1,\n",
       "   'min_price': 30},\n",
       "  'eur_usd': {'decimal_places': 5,\n",
       "   'fee': 0.2,\n",
       "   'hidden': 0,\n",
       "   'max_price': 2,\n",
       "   'min_amount': 0.1,\n",
       "   'min_price': 0.5},\n",
       "  'ltc_btc': {'decimal_places': 5,\n",
       "   'fee': 0.2,\n",
       "   'hidden': 0,\n",
       "   'max_price': 10,\n",
       "   'min_amount': 0.01,\n",
       "   'min_price': 0.0001},\n",
       "  'ltc_eur': {'decimal_places': 3,\n",
       "   'fee': 0.2,\n",
       "   'hidden': 0,\n",
       "   'max_price': 200,\n",
       "   'min_amount': 0.01,\n",
       "   'min_price': 0.0001},\n",
       "  'ltc_rur': {'decimal_places': 5,\n",
       "   'fee': 0.2,\n",
       "   'hidden': 0,\n",
       "   'max_price': 6000,\n",
       "   'min_amount': 0.01,\n",
       "   'min_price': 0.01},\n",
       "  'ltc_usd': {'decimal_places': 6,\n",
       "   'fee': 0.2,\n",
       "   'hidden': 0,\n",
       "   'max_price': 200,\n",
       "   'min_amount': 0.1,\n",
       "   'min_price': 0.0001},\n",
       "  'nmc_btc': {'decimal_places': 5,\n",
       "   'fee': 0.2,\n",
       "   'hidden': 0,\n",
       "   'max_price': 10,\n",
       "   'min_amount': 0.1,\n",
       "   'min_price': 0.0001},\n",
       "  'nmc_usd': {'decimal_places': 3,\n",
       "   'fee': 0.2,\n",
       "   'hidden': 0,\n",
       "   'max_price': 100,\n",
       "   'min_amount': 0.1,\n",
       "   'min_price': 0.001},\n",
       "  'nvc_btc': {'decimal_places': 5,\n",
       "   'fee': 0.2,\n",
       "   'hidden': 0,\n",
       "   'max_price': 10,\n",
       "   'min_amount': 0.1,\n",
       "   'min_price': 0.0001},\n",
       "  'nvc_usd': {'decimal_places': 3,\n",
       "   'fee': 0.2,\n",
       "   'hidden': 0,\n",
       "   'max_price': 100,\n",
       "   'min_amount': 0.1,\n",
       "   'min_price': 0.001},\n",
       "  'ppc_btc': {'decimal_places': 5,\n",
       "   'fee': 0.2,\n",
       "   'hidden': 0,\n",
       "   'max_price': 10,\n",
       "   'min_amount': 0.1,\n",
       "   'min_price': 0.0001},\n",
       "  'ppc_usd': {'decimal_places': 3,\n",
       "   'fee': 0.2,\n",
       "   'hidden': 0,\n",
       "   'max_price': 100,\n",
       "   'min_amount': 0.1,\n",
       "   'min_price': 0.001},\n",
       "  'usd_rur': {'decimal_places': 5,\n",
       "   'fee': 0.2,\n",
       "   'hidden': 0,\n",
       "   'max_price': 150,\n",
       "   'min_amount': 0.1,\n",
       "   'min_price': 25}},\n",
       " 'server_time': 1492287396}"
      ]
     },
     "execution_count": 142,
     "metadata": {},
     "output_type": "execute_result"
    }
   ],
   "source": [
    "a.json()"
   ]
  },
  {
   "cell_type": "code",
   "execution_count": 85,
   "metadata": {
    "collapsed": false
   },
   "outputs": [],
   "source": [
    "H = hmac.new(secret.encode(), digestmod=hashlib.sha512)\n",
    "params={\"method\":\"getInfo\",\"nonce\": 1}\n",
    "#H.update(params)\n",
    "sign = H.hexdigest()\n",
    "headers = {\"Content-type\": \"application/x-www-form-urlencoded\",\n",
    "                   \"Key\":key,\n",
    "                   \"Sign\":sign}\n",
    "\n",
    "\n",
    "a=requests.post(\"http://btc-e.nz/tapi\",params,headers=headers)"
   ]
  },
  {
   "cell_type": "code",
   "execution_count": 88,
   "metadata": {
    "collapsed": false
   },
   "outputs": [
    {
     "data": {
      "text/plain": [
       "{'Content-type': 'application/x-www-form-urlencoded',\n",
       " 'Key': 'N0IL59PT-ZKXKF6OB-MLX8GSOF-TOBC10HI-4O9ANC6',\n",
       " 'Sign': '532691f07d6d1a9df9ad2d38b33a7189031c8d8c61734f632786d53d23728d3fef5b94e041317c13052a79bab2fdd3ee6378c20e45246baa605d02311d3bc105'}"
      ]
     },
     "execution_count": 88,
     "metadata": {},
     "output_type": "execute_result"
    }
   ],
   "source": [
    "headers"
   ]
  },
  {
   "cell_type": "code",
   "execution_count": 96,
   "metadata": {
    "collapsed": false
   },
   "outputs": [
    {
     "ename": "TypeError",
     "evalue": "Unicode-objects must be encoded before hashing",
     "output_type": "error",
     "traceback": [
      "\u001b[0;31m---------------------------------------------------------------------------\u001b[0m",
      "\u001b[0;31mTypeError\u001b[0m                                 Traceback (most recent call last)",
      "\u001b[0;32m<ipython-input-96-d72baa195aff>\u001b[0m in \u001b[0;36m<module>\u001b[0;34m()\u001b[0m\n\u001b[1;32m     18\u001b[0m \u001b[1;31m# Hash the params string to produce the Sign header value\u001b[0m\u001b[1;33m\u001b[0m\u001b[1;33m\u001b[0m\u001b[0m\n\u001b[1;32m     19\u001b[0m \u001b[0mH\u001b[0m \u001b[1;33m=\u001b[0m \u001b[0mhmac\u001b[0m\u001b[1;33m.\u001b[0m\u001b[0mnew\u001b[0m\u001b[1;33m(\u001b[0m\u001b[0mBTC_api_secret\u001b[0m\u001b[1;33m.\u001b[0m\u001b[0mencode\u001b[0m\u001b[1;33m(\u001b[0m\u001b[1;33m)\u001b[0m\u001b[1;33m,\u001b[0m \u001b[0mdigestmod\u001b[0m\u001b[1;33m=\u001b[0m\u001b[0mhashlib\u001b[0m\u001b[1;33m.\u001b[0m\u001b[0msha512\u001b[0m\u001b[1;33m)\u001b[0m\u001b[1;33m\u001b[0m\u001b[0m\n\u001b[0;32m---> 20\u001b[0;31m \u001b[0mH\u001b[0m\u001b[1;33m.\u001b[0m\u001b[0mupdate\u001b[0m\u001b[1;33m(\u001b[0m\u001b[0mparams\u001b[0m\u001b[1;33m)\u001b[0m\u001b[1;33m\u001b[0m\u001b[0m\n\u001b[0m\u001b[1;32m     21\u001b[0m \u001b[0msign\u001b[0m \u001b[1;33m=\u001b[0m \u001b[0mH\u001b[0m\u001b[1;33m.\u001b[0m\u001b[0mhexdigest\u001b[0m\u001b[1;33m(\u001b[0m\u001b[1;33m)\u001b[0m\u001b[1;33m\u001b[0m\u001b[0m\n\u001b[1;32m     22\u001b[0m \u001b[1;33m\u001b[0m\u001b[0m\n",
      "\u001b[0;32mC:\\Anaconda3\\lib\\hmac.py\u001b[0m in \u001b[0;36mupdate\u001b[0;34m(self, msg)\u001b[0m\n\u001b[1;32m     91\u001b[0m         \"\"\"Update this hashing object with the string msg.\n\u001b[1;32m     92\u001b[0m         \"\"\"\n\u001b[0;32m---> 93\u001b[0;31m         \u001b[0mself\u001b[0m\u001b[1;33m.\u001b[0m\u001b[0minner\u001b[0m\u001b[1;33m.\u001b[0m\u001b[0mupdate\u001b[0m\u001b[1;33m(\u001b[0m\u001b[0mmsg\u001b[0m\u001b[1;33m)\u001b[0m\u001b[1;33m\u001b[0m\u001b[0m\n\u001b[0m\u001b[1;32m     94\u001b[0m \u001b[1;33m\u001b[0m\u001b[0m\n\u001b[1;32m     95\u001b[0m     \u001b[1;32mdef\u001b[0m \u001b[0mcopy\u001b[0m\u001b[1;33m(\u001b[0m\u001b[0mself\u001b[0m\u001b[1;33m)\u001b[0m\u001b[1;33m:\u001b[0m\u001b[1;33m\u001b[0m\u001b[0m\n",
      "\u001b[0;31mTypeError\u001b[0m: Unicode-objects must be encoded before hashing"
     ]
    }
   ],
   "source": [
    "import http.client as httplib\n",
    "import urllib\n",
    "import json\n",
    "import hashlib\n",
    "import hmac\n",
    " \n",
    "# Replace these with your own API key data\n",
    "BTC_api_key = key\n",
    "BTC_api_secret = secret\n",
    "# Come up with your own method for choosing an incrementing nonce\n",
    "nonce = 1\n",
    " \n",
    "# method name and nonce go into the POST parameters\n",
    "params = {\"method\":\"getInfo\".encode(),\n",
    "          \"nonce\": str(nonce).encode()}\n",
    "params = urllib.parse.urlencode(params)\n",
    " \n",
    "# Hash the params string to produce the Sign header value\n",
    "H = hmac.new(BTC_api_secret.encode(), digestmod=hashlib.sha512)\n",
    "H.update(params)\n",
    "sign = H.hexdigest()\n",
    " \n",
    "headers = {\"Content-type\": \"application/x-www-form-urlencoded\",\n",
    "                   \"Key\":BTC_api_key,\n",
    "                   \"Sign\":sign}\n",
    "conn = httplib.HTTPSConnection(\"btc-e.nz\")\n",
    "conn.request(\"POST\", \"/tapi\", params, headers)\n",
    "response = conn.getresponse()\n",
    " \n",
    "print (response.status, response.reason)\n",
    "print (json.load(response))\n",
    " \n",
    "conn.close()"
   ]
  },
  {
   "cell_type": "code",
   "execution_count": 97,
   "metadata": {
    "collapsed": false
   },
   "outputs": [
    {
     "data": {
      "text/plain": [
       "<hmac.HMAC at 0x21eb455f9b0>"
      ]
     },
     "execution_count": 97,
     "metadata": {},
     "output_type": "execute_result"
    }
   ],
   "source": [
    "H"
   ]
  },
  {
   "cell_type": "code",
   "execution_count": null,
   "metadata": {
    "collapsed": true
   },
   "outputs": [],
   "source": [
    "import hashlib\n",
    "import hmac\n",
    "import requests\n",
    "import time\n",
    "\n",
    "apikey = '';\n",
    "apisecret = '';\n",
    "\n",
    "def request_comkort( url, payload ):\n",
    "        tosign = \"&\".join( [i + '=' + payload[i] for i in payload] )\n",
    "        sign = hmac.new( apisecret, tosign , hashlib.sha512);\n",
    "        headers = {'sign': sign.hexdigest(), 'nonce': int( time.time() ), 'apikey': apikey }\n",
    "        r = requests.post(url, data=payload, headers=headers)\n",
    "        return r.text\n",
    "\n",
    "# Get balance\n",
    "print request_comkort( \"https://btc-e.nz/tapi\";, {} )\n",
    "# Get Open Orders \n",
    "print request_comkort( \"https://api.comkort.com/v1/private/order/list\";, {'market_alias': \"DOGE_LTC\" } )\n",
    "# Make Ask\n",
    "print request_comkort( \"https://api.comkort.com/v1/private/order/sell\";, { 'market_alias':\"HTML_DOGE\", \"amount\": \"1000\", \"price\": \"123123\" } )\n",
    "# Cancel order\n",
    "print request_comkort( \"https://api.comkort.com/v1/private/order/cancel\";, { 'order_id': 10943 } )"
   ]
  },
  {
   "cell_type": "code",
   "execution_count": 104,
   "metadata": {
    "collapsed": false
   },
   "outputs": [
    {
     "name": "stdout",
     "output_type": "stream",
     "text": [
      "method=getInfo\n"
     ]
    },
    {
     "data": {
      "text/plain": [
       "'{\"success\":0,\"error\":\"api key not specified\"}'"
      ]
     },
     "execution_count": 104,
     "metadata": {},
     "output_type": "execute_result"
    }
   ],
   "source": [
    "import hashlib\n",
    "import hmac\n",
    "import requests\n",
    "import time\n",
    "\n",
    "apikey = key\n",
    "apisecret = secret\n",
    "\n",
    "def request_comkort( url, payload ):\n",
    "        tosign = \"&\".join( [i + '=' + payload[i] for i in payload] )\n",
    "        print(tosign)\n",
    "        sign = hmac.new( apisecret.encode(), tosign.encode() , hashlib.sha512);\n",
    "        headers = {'sign': sign.hexdigest(), 'nonce': str(int( time.time() )), 'apikey': apikey }\n",
    "        r = requests.post(url, data=payload, headers=headers)\n",
    "        return r.text\n",
    "\n",
    "# Get balance\n",
    "request_comkort( \"https://btc-e.nz/tapi\", {\"method\":\"getInfo\"} )"
   ]
  },
  {
   "cell_type": "code",
   "execution_count": 106,
   "metadata": {
    "collapsed": false
   },
   "outputs": [
    {
     "data": {
      "text/plain": [
       "'method=getInfo&nonce=1'"
      ]
     },
     "execution_count": 106,
     "metadata": {},
     "output_type": "execute_result"
    }
   ],
   "source": [
    "params"
   ]
  },
  {
   "cell_type": "code",
   "execution_count": 107,
   "metadata": {
    "collapsed": false
   },
   "outputs": [
    {
     "data": {
      "text/plain": [
       "'method=getInfo'"
      ]
     },
     "execution_count": 107,
     "metadata": {},
     "output_type": "execute_result"
    }
   ],
   "source": [
    "urllib.parse.urlencode( {\"method\":\"getInfo\"})"
   ]
  },
  {
   "cell_type": "code",
   "execution_count": null,
   "metadata": {
    "collapsed": true
   },
   "outputs": [],
   "source": []
  }
 ],
 "metadata": {
  "kernelspec": {
   "display_name": "Python 3",
   "language": "python",
   "name": "python3"
  },
  "language_info": {
   "codemirror_mode": {
    "name": "ipython",
    "version": 3
   },
   "file_extension": ".py",
   "mimetype": "text/x-python",
   "name": "python",
   "nbconvert_exporter": "python",
   "pygments_lexer": "ipython3",
   "version": "3.6.0"
  }
 },
 "nbformat": 4,
 "nbformat_minor": 2
}
