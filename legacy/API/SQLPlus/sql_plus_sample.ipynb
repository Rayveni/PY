{
 "cells": [
  {
   "cell_type": "markdown",
   "metadata": {},
   "source": [
    "# Анализ чеков по штрихкодам\n"
   ]
  },
  {
   "cell_type": "code",
   "execution_count": 1,
   "metadata": {
    "collapsed": false,
    "scrolled": true
   },
   "outputs": [
    {
     "data": {
      "text/plain": [
       "0"
      ]
     },
     "execution_count": 1,
     "metadata": {},
     "output_type": "execute_result"
    }
   ],
   "source": [
    "from sqlplusapi import SqlPlus\n",
    "import pandas as pd\n",
    "from os import path,listdir,environ\n",
    "from functools import partial\n",
    "import numpy as np\n",
    "from subprocess import call"
   ]
  },
  {
   "cell_type": "code",
   "execution_count": 2,
   "metadata": {
    "collapsed": false
   },
   "outputs": [
    {
     "name": "stderr",
     "output_type": "stream",
     "text": [
      "INFO:root: Project initialisation (2016-12-15 09:54:49; sqlplusapi.py:37)\n"
     ]
    }
   ],
   "source": [
    "environ['NLS_LANG']='RUSSIAN_CIS.CL8MSWIN1251'\n",
    "project_path=r'C:\\Reports\\barcodediscount\\extra'\n",
    "project=SqlPlus(project_path,printlog=True) #projectdirectory,delimiter='|',sql_plus_options_new=None,printlog=False"
   ]
  },
  {
   "cell_type": "code",
   "execution_count": 3,
   "metadata": {
    "collapsed": false
   },
   "outputs": [],
   "source": [
    "sqlpath_1=r'C:\\Scripts\\SQL\\barcode.sql'\n",
    "sqlpath_2=r'C:\\Scripts\\SQL\\barcodewithclassifier.sql'\n",
    "\n",
    "query_params_1={'BegPeriod':\"'01.12.2015'\",\n",
    "              'EndPeriod':\"'01.12.2016'\",\n",
    "               'barfilter':\"'=66'\",\n",
    "                'paytype':'23',\n",
    "                'ending':'\"\"'}\n",
    "query_params_2={'BegPeriod':\"'01.12.2015'\",\n",
    "                 'EndPeriod':\"'01.12.2016'\"\n",
    "                 }\n",
    "query_1=project.set_sql_query(query_params_1,sqlpath_1)\n",
    "query_2=project.set_sql_query(query_params_2,sqlpath_2)\n",
    "#project.printlines(query_2)#project.write_query(query=query)"
   ]
  },
  {
   "cell_type": "markdown",
   "metadata": {},
   "source": [
    "Получаем Oracle id магазинов (из excel файла выбираем первый столбец и преобразуем в строку)"
   ]
  },
  {
   "cell_type": "code",
   "execution_count": 4,
   "metadata": {
    "collapsed": false
   },
   "outputs": [],
   "source": [
    "depart_codes_path='C:\\Scripts\\Dictionaries\\departmentcodes.xlsx'\n",
    "department_codes=list((read_excel(pd,depart_codes_path).ix[:,0]).apply(str))\n",
    "\n",
    "conn_string=lambda department_name: \"%s/%s@%s\"% (\"cash\",\"suffolk\",\"ORA%s.NTDOMAIN.PRK\"%department_name)"
   ]
  },
  {
   "cell_type": "markdown",
   "metadata": {},
   "source": [
    "## Запускаем асинхронные потоки для выгрузки данных"
   ]
  },
  {
   "cell_type": "code",
   "execution_count": 5,
   "metadata": {
    "collapsed": true
   },
   "outputs": [],
   "source": [
    "load_path_1=path.join(project.default_loaddirectory,'66')\n",
    "load_path_2=path.join(project.default_loaddirectory,'other')"
   ]
  },
  {
   "cell_type": "code",
   "execution_count": null,
   "metadata": {
    "collapsed": false,
    "scrolled": false
   },
   "outputs": [],
   "source": [
    "%%time\n",
    "load_path_1=path.join(project.default_loaddirectory,'66')\n",
    "load_path_2=path.join(project.default_loaddirectory,'other')\n",
    "project.prepareload(load_path_1)\n",
    "project.prepareload(load_path_2)\n",
    "#оборачиваем функцию выгрузки данных для распараллеливания\n",
    "def worker(load_dir,sql_q,department_oraname):\n",
    "    savepath_w=path.join(load_dir,'%s.csv'%department_oraname)\n",
    "    project.FetchData(conn_string(department_oraname),savepath_w,sql_q)\n",
    "    \n",
    "\n",
    "worker_1=partial(worker,load_path_1,query_1)\n",
    "worker_2=partial(worker,load_path_2,query_2)\n",
    "\n",
    "project.ThreadPool(worker_1,department_codes)\n",
    "project.ThreadPool(worker_2,department_codes)"
   ]
  },
  {
   "cell_type": "markdown",
   "metadata": {},
   "source": [
    "### Склеиваем файлы\n",
    "#### Note! в эксель выгонять данные нельзя(  из за лимита на число ячеек)"
   ]
  },
  {
   "cell_type": "code",
   "execution_count": 6,
   "metadata": {
    "collapsed": false
   },
   "outputs": [
    {
     "name": "stdout",
     "output_type": "stream",
     "text": [
      "Wall time: 6.43 s\n"
     ]
    }
   ],
   "source": [
    "%%time\n",
    "fetched_data_list=lambda savepath:list(map(lambda x:[path.splitext(x)[0],path.join(savepath,x)],\n",
    "                           [f for f in listdir(savepath) if 'error_' not in f]))\n",
    "\n",
    "df1=pd.concat(list(map(project.read_loaded_csv,fetched_data_list(load_path_1))))\n",
    "df2=pd.concat(list(map(project.read_loaded_csv,fetched_data_list(load_path_2))))\n"
   ]
  },
  {
   "cell_type": "code",
   "execution_count": 7,
   "metadata": {
    "collapsed": false
   },
   "outputs": [
    {
     "data": {
      "text/html": [
       "<div>\n",
       "<table border=\"1\" class=\"dataframe\">\n",
       "  <thead>\n",
       "    <tr style=\"text-align: right;\">\n",
       "      <th></th>\n",
       "      <th>BARCODE</th>\n",
       "      <th>TOTAL_SUM</th>\n",
       "      <th>CORR_SUM</th>\n",
       "      <th>ID_DEPARTMENT</th>\n",
       "      <th>ID_PAYDESK</th>\n",
       "      <th>ID_HEADER</th>\n",
       "      <th>COUNT_UNIQ</th>\n",
       "      <th>filename</th>\n",
       "    </tr>\n",
       "  </thead>\n",
       "  <tbody>\n",
       "    <tr>\n",
       "      <th>0</th>\n",
       "      <td>66</td>\n",
       "      <td>162</td>\n",
       "      <td>-3,89</td>\n",
       "      <td>1697</td>\n",
       "      <td>25</td>\n",
       "      <td>516764</td>\n",
       "      <td>2</td>\n",
       "      <td>2X</td>\n",
       "    </tr>\n",
       "    <tr>\n",
       "      <th>1</th>\n",
       "      <td>77</td>\n",
       "      <td>237</td>\n",
       "      <td>-12,95</td>\n",
       "      <td>1697</td>\n",
       "      <td>10</td>\n",
       "      <td>456487</td>\n",
       "      <td>1</td>\n",
       "      <td>2X</td>\n",
       "    </tr>\n",
       "    <tr>\n",
       "      <th>2</th>\n",
       "      <td>77</td>\n",
       "      <td>13930</td>\n",
       "      <td>-41,14</td>\n",
       "      <td>1697</td>\n",
       "      <td>10</td>\n",
       "      <td>456632</td>\n",
       "      <td>14</td>\n",
       "      <td>2X</td>\n",
       "    </tr>\n",
       "    <tr>\n",
       "      <th>3</th>\n",
       "      <td>77</td>\n",
       "      <td>411</td>\n",
       "      <td>-2,68</td>\n",
       "      <td>1697</td>\n",
       "      <td>18</td>\n",
       "      <td>183562</td>\n",
       "      <td>3</td>\n",
       "      <td>2X</td>\n",
       "    </tr>\n",
       "    <tr>\n",
       "      <th>4</th>\n",
       "      <td>77</td>\n",
       "      <td>2975</td>\n",
       "      <td>-4,14</td>\n",
       "      <td>1697</td>\n",
       "      <td>18</td>\n",
       "      <td>183585</td>\n",
       "      <td>5</td>\n",
       "      <td>2X</td>\n",
       "    </tr>\n",
       "  </tbody>\n",
       "</table>\n",
       "</div>"
      ],
      "text/plain": [
       "         BARCODE      TOTAL_SUM       CORR_SUM  ID_DEPARTMENT     ID_PAYDESK  \\\n",
       "0             66            162          -3,89           1697             25   \n",
       "1             77            237         -12,95           1697             10   \n",
       "2             77          13930         -41,14           1697             10   \n",
       "3             77            411          -2,68           1697             18   \n",
       "4             77           2975          -4,14           1697             18   \n",
       "\n",
       "       ID_HEADER     COUNT_UNIQ filename  \n",
       "0         516764              2       2X  \n",
       "1         456487              1       2X  \n",
       "2         456632             14       2X  \n",
       "3         183562              3       2X  \n",
       "4         183585              5       2X  "
      ]
     },
     "execution_count": 7,
     "metadata": {},
     "output_type": "execute_result"
    }
   ],
   "source": [
    "df1.head()"
   ]
  }
 ],
 "metadata": {
  "anaconda-cloud": {},
  "kernelspec": {
   "display_name": "Python [default]",
   "language": "python",
   "name": "python3"
  },
  "language_info": {
   "codemirror_mode": {
    "name": "ipython",
    "version": 3
   },
   "file_extension": ".py",
   "mimetype": "text/x-python",
   "name": "python",
   "nbconvert_exporter": "python",
   "pygments_lexer": "ipython3",
   "version": "3.5.2"
  }
 },
 "nbformat": 4,
 "nbformat_minor": 2
}
