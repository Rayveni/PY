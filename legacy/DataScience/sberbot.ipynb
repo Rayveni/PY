{
 "cells": [
  {
   "cell_type": "markdown",
   "metadata": {},
   "source": [
    "# Unlimited holdem poker bot\n",
    "\n",
    "Для хакатона Сбербанка по написанию покерного бота.<br>\n",
    "Правила : за столом играют 9 игроков 1500 фишек у каждого, 50 раундов.<br>\n",
    "В качестве движка используется  pypokerengine\n",
    "\n",
    "В своём решении я вдохновлялся [ссылка](https://github.com/Rayveni/outlace.github.io/blob/master/pelican/content/rlpart3.ipynb)\n",
    "\n"
   ]
  },
  {
   "cell_type": "code",
   "execution_count": null,
   "metadata": {
    "collapsed": true
   },
   "outputs": [],
   "source": [
    "from pypokerengine.utils.card_utils import gen_cards, estimate_hole_card_win_rate\n",
    "from pypokerengine.players import BasePokerPlayer\n",
    "import random\n",
    "import pandas as pd\n",
    "import numpy as np\n",
    "import os\n",
    "from random import randint\n",
    "from standartbots import *\n",
    "from pypokerengine.api.game import setup_config, start_poker"
   ]
  },
  {
   "cell_type": "markdown",
   "metadata": {},
   "source": [
    "Базовый класс покерного бота "
   ]
  },
  {
   "cell_type": "code",
   "execution_count": null,
   "metadata": {
    "collapsed": true
   },
   "outputs": [],
   "source": [
    "class CorePlayer(BasePokerPlayer):\n",
    "    def __init__(self):\n",
    "        self.NB_SIMULATION = 450 # число симуляций для Монте Карло для подсчёта WinRate\n",
    "        #self.street_dict={'preflop':0,'flop':1/3,'turn':2/3,'river':1}\n",
    "    def declare_action(self, valid_actions, hole_card, round_state):\n",
    "        pass\n",
    "    def receive_game_start_message(self, game_info):\n",
    "        pass\n",
    "    def receive_round_start_message(self, round_count, hole_card, seats):\n",
    "        self.state_list=[]\n",
    "        self.counter=0\n",
    "        self.start_amount=sum((el['stack'] for el in seats))              \n",
    "        self.nb_player = len(seats)\n",
    "        self.start_stack=self.find_player(seats)['stack']\n",
    "        self.total_stack=sum((el['stack'] for el in seats))\n",
    "\n",
    "    def receive_street_start_message(self, street, round_state):\n",
    "        self.state_list.append(['street',self.get_stats(round_state)])\n",
    "    def receive_game_update_message(self, action, round_state):\n",
    "        pass\n",
    "    def receive_round_result_message(self, winners, hand_info, round_state):\n",
    "        pass\n",
    "    def get_stats(self,round_state,hole_card='smth'):\n",
    "        alive_players=[el['stack'] for el in round_state['seats'] if el['state']== 'participating']\n",
    "        self.alive_players=max(len(alive_players),1)\n",
    "        self.pot=round_state['pot']['main']['amount']\n",
    "        self.street=round_state['street']#self.street_dict[round_state['street']]\n",
    "        \n",
    "        current_pos=0\n",
    "        for el in round_state['seats']:\n",
    "            if el['uuid']==self.uuid:break\n",
    "            current_pos=current_pos+1\n",
    "             \n",
    "        self.dealer_pos=current_pos-round_state['dealer_btn']\n",
    "        try:\n",
    "            self.max_stack=max(alive_players)\n",
    "            self.min_stack=min([el for el in alive_players if el >0])\n",
    "        except:\n",
    "            pass\n",
    "        self.small_blind_pos=round_state['small_blind_pos']-current_pos\n",
    "        self.big_blind_pos=round_state['big_blind_pos']-current_pos\n",
    "        self.current_stack=self.find_player(round_state['seats'])['stack'] \n",
    "        if hole_card!='smth': \n",
    "            if self.alive_players<2:\n",
    "                self.win_rate=1\n",
    "            else:\n",
    "                self.win_rate=self.calc_win_rate(hole_card, round_state,self.NB_SIMULATION,self.alive_players)\n",
    "                print(self.win_rate)\n",
    "        else:\n",
    "            self.win_rate='look_prev_state'\n",
    "            \n",
    "        features={'start_stack':self.start_stack/self.total_stack,\n",
    "                  'current_stack':self.current_stack/self.total_stack,\n",
    "                  'current_stack_min':self.current_stack/self.total_stack,\n",
    "                  'current_stack_max':self.current_stack/self.total_stack,\n",
    "                 'alive_players':self.alive_players/self.nb_player,\n",
    "                  'pot':self.pot/self.total_stack,\n",
    "\n",
    "                  'street':self.street,\n",
    "                 'dealer_pos':self.dealer_pos/self.alive_players,\n",
    "                 'max_stack':self.max_stack/self.total_stack,\n",
    "                 'min_stack':self.min_stack/self.total_stack,\n",
    "                 'blind_pos':self.small_blind_pos/self.alive_players,\n",
    "                 'big_blind_pos':self.big_blind_pos/self.alive_players,\n",
    "                 'win_rate':self.win_rate ,\n",
    "                 'current_stack_abs':self.current_stack}\n",
    "        return features\n",
    "        \n",
    "    def find_player(self,input_json):\n",
    "        for el in input_json:\n",
    "            if el['uuid']==self.uuid:return el\n",
    "\n",
    "        \n",
    "    def calc_win_rate(self,hole_card, round_state,nb_simulation,nb_player):\n",
    "        community_card = round_state['community_card']\n",
    "        win_rate = estimate_hole_card_win_rate(nb_simulation,nb_player,\n",
    "                                               hole_card=gen_cards(hole_card),\n",
    "                                               community_card=gen_cards(community_card))\n",
    "      \n",
    "        return win_rate    "
   ]
  },
  {
   "cell_type": "markdown",
   "metadata": {},
   "source": [
    "Класс бота на нейронке <br>\n",
    "Переменная tournirs - костыль для обучения"
   ]
  },
  {
   "cell_type": "code",
   "execution_count": null,
   "metadata": {
    "collapsed": true
   },
   "outputs": [],
   "source": [
    "class NeuralBot(CorePlayer):\n",
    "    def __init__(self):\n",
    "        super().__init__()\n",
    "        super()\n",
    "    def declare_action(self, valid_actions, hole_card, round_state):\n",
    "       \n",
    "        features=self.get_stats(round_state,hole_card)\n",
    "        #print(valid_actions)\n",
    "        #call_action_info = valid_actions[1]       \n",
    "        #action, amount = call_action_info[\"action\"], call_action_info[\"amount\"]\n",
    "        action, amount,n_action=make_move(valid_actions,features)\n",
    "        self.state_list.append(['action',features,[n_action,action, amount]])         \n",
    "        return action, amount\n",
    "    \n",
    "    def receive_round_result_message(self, winners, hand_info, round_state):\n",
    "        self.state_list.append(['end',self.get_stats(round_state)])\n",
    "        stack=self.find_player(round_state['seats'])['stack']\n",
    "        reward=stack-self.start_stack\n",
    "        #print('reward',reward)\n",
    "        self.start_stack=stack\n",
    "        global tournirs\n",
    "        tournirs.append(self.state_list)"
   ]
  },
  {
   "cell_type": "markdown",
   "metadata": {},
   "source": [
    "Функция **make_move** отвечает за ход<br>\n",
    "Очередной костыль - **epsilon**, данная переменная отвечает как часто бот будет совершать случайные ходы, нужно в процессе обучения(иногда называют **exploration rate**)\n",
    "Нужен на обучении, не нужен в бою.<br>\n",
    "У бота в моей реализации возможно 5 действий:\n",
    "* fold (сброс карт)\n",
    "* call (подтверждение ставки)\n",
    "* raise (1/3) увеличение ставки на 1/3 от возможной ставки\n",
    "* raise  (2/3) увеличение ставки на 2/3 от возможной ставки\n",
    "* all in"
   ]
  },
  {
   "cell_type": "code",
   "execution_count": null,
   "metadata": {
    "collapsed": true
   },
   "outputs": [],
   "source": [
    "def preprocess_input(features):\n",
    "    street=features['street']\n",
    "    if street=='preflop':\n",
    "        res=[0,0,0,0]\n",
    "    elif street=='flop':\n",
    "        res=[0,1,0,0]\n",
    "    elif street=='turn':\n",
    "        res=[0,0,1,0]    \n",
    "    elif street=='river':\n",
    "        res=[0,0,0,1]   \n",
    "    else:\n",
    "        print('error',features)\n",
    "    \n",
    "    return np.array(res+[features['start_stack'],features['current_stack'],\n",
    "            features['current_stack_min'],features['current_stack_max'],\n",
    "            features['alive_players'], features['pot'],\n",
    "            features['dealer_pos'],features['max_stack'],\n",
    "            features['min_stack'],features['blind_pos'],\n",
    "            features['big_blind_pos'],features['win_rate']])\n",
    "\n",
    "def make_move(valid_actions,features_dict):\n",
    "    global epsilon\n",
    "    raise_w={2:0,3:1/3,4:2/3,5:1}\n",
    "    if len(valid_actions)>2:\n",
    "        n=6\n",
    "    else:\n",
    "        n=2\n",
    "        \n",
    "    if (random.random() < epsilon):\n",
    "        action = np.random.randint(0,6)#random_action(n)\n",
    "    else:\n",
    "        qval = model.predict(preprocess_input(features_dict).reshape(1,input_num), batch_size=1)[:n]\n",
    "        action = (np.argmax(qval))\n",
    "    return_action=action\n",
    "    if action>1:\n",
    "        k=raise_w[action]\n",
    "        action=2\n",
    "        a=valid_actions[action]['amount']['min']\n",
    "        b=valid_actions[action]['amount']['max']\n",
    "        amount=int(a+(b-a)*k)\n",
    "    else:\n",
    "        amount=valid_actions[action]['amount']\n",
    "    return valid_actions[action]['action'],amount,return_action\n",
    "\n",
    "def RunInt(VectorSize, Sum):\n",
    "   x = [randint(0, Sum) for _ in range(1, VectorSize)]\n",
    "   x.extend([0, Sum])\n",
    "   x.sort()\n",
    "   return [x[i+1] - x[i] for i in range(VectorSize)]\n"
   ]
  },
  {
   "cell_type": "markdown",
   "metadata": {},
   "source": [
    "Инициализация игры.\n",
    "Добавляем случайное число игроков суммарно равное 9\n",
    "* CallPlayer\n",
    "* RandomPlayer\n",
    "* NeuralBot"
   ]
  },
  {
   "cell_type": "code",
   "execution_count": null,
   "metadata": {
    "collapsed": true
   },
   "outputs": [],
   "source": [
    "def init_game(verbose=0,n_players=9):\n",
    "    config = setup_config(max_round=50, initial_stack=1500, small_blind_amount=15)\n",
    "    call_player_count,random_player_count,neural_player_count=RunInt(3,n_players-1)\n",
    "    if call_player_count>0:\n",
    "        for i in range(call_player_count):\n",
    "            config.register_player(name=\"CallPlayer %s\" % i, algorithm=CallPlayer())\n",
    "    if random_player_count>0:\n",
    "        for i in range(random_player_count):\n",
    "            config.register_player(name=\"Random %s\" % i, algorithm=RandomPlayer())            \n",
    "    for i in range(neural_player_count+1):        \n",
    "        config.register_player(name=\"NeuralBot %s\" % i, algorithm=NeuralBot())\n",
    "    game_result = start_poker(config, verbose=verbose)\n",
    "\n",
    "#init_game(verbose=1)\n"
   ]
  },
  {
   "cell_type": "code",
   "execution_count": null,
   "metadata": {},
   "outputs": [],
   "source": [
    "from keras.models import Sequential\n",
    "from keras.layers.core import Dense, Dropout, Activation\n",
    "from keras.optimizers import RMSprop\n",
    "from keras.models import model_from_json"
   ]
  },
  {
   "cell_type": "markdown",
   "metadata": {},
   "source": [
    "Создаем нейронную сеть с двумя слоями"
   ]
  },
  {
   "cell_type": "code",
   "execution_count": null,
   "metadata": {
    "collapsed": true
   },
   "outputs": [],
   "source": [
    "save_folder=r'C:\\Users\\Волочков\\neural\\holdem\\save'\n",
    "input_num=16\n",
    "model = Sequential()\n",
    "model.add(Dense(30, input_shape=(input_num,)))\n",
    "model.add(Activation('relu'))\n",
    "model.add(Dropout(0.2)) \n",
    "\n",
    "model.add(Dense(20))\n",
    "model.add(Activation('relu'))\n",
    "model.add(Dropout(0.2))\n",
    "\n",
    "model.add(Dense(6))#fold/call/raise 1/4...1 \n",
    "model.add(Activation('linear')) #linear output so we can have range of real-valued outputs\n",
    "\n",
    "rms = RMSprop()\n",
    "model.compile(loss='mse', optimizer=rms)\n",
    "\n",
    "model_json = model.to_json()\n",
    "with open(os.path.join(save_folder,'model.json'), \"w\") as json_file:\n",
    "    json_file.write(model_json)"
   ]
  },
  {
   "cell_type": "markdown",
   "metadata": {},
   "source": [
    "загружаем веса модели (если есть расчётные)"
   ]
  },
  {
   "cell_type": "code",
   "execution_count": null,
   "metadata": {},
   "outputs": [],
   "source": [
    "model.load_weights(\"model299.h5\")\n",
    "print(\"Loaded model from disk\")"
   ]
  },
  {
   "cell_type": "code",
   "execution_count": null,
   "metadata": {},
   "outputs": [],
   "source": [
    "epsilon=-1 # \n",
    "tournirs=[]\n",
    "init_game(1)"
   ]
  },
  {
   "cell_type": "code",
   "execution_count": null,
   "metadata": {},
   "outputs": [],
   "source": [
    "%%time\n",
    "epochs = 300\n",
    "gamma = 0.975\n",
    "epsilon = 1\n",
    "batchSize = 60\n",
    "batch_percent=0.6\n",
    "buffer = 200\n",
    "replay = []\n",
    "#stores tuples of (S, A, R, S')\n",
    "h = 0\n",
    "    \n",
    "for epoch in range(epochs):\n",
    "    tournirs=[]\n",
    "    memory=[]\n",
    "    new_round = init_game(0) #using the harder state initialization function\n",
    "  \n",
    "    X_train=[]\n",
    "    y_train=[]\n",
    "    for game in tournirs:\n",
    "        action_nums=[i for i in range(len(game)) if game[i][0]=='action']\n",
    "        if len(action_nums)>0:\n",
    "            next_state_nums=[i+1 for i in action_nums]\n",
    "            next_state_nums[-1] =len(game)-1     \n",
    "\n",
    "            for i in range(len(action_nums)):\n",
    "                state=game[action_nums[i]]\n",
    "                new_state=game[next_state_nums[i]]\n",
    "                action=state[2][0]\n",
    "                memory.append(action)\n",
    "                reward=new_state[1]['current_stack_abs']-state[1]['current_stack_abs']\n",
    "                terminal_state=False\n",
    "                if new_state[0]=='end': terminal_state=True\n",
    "                new_state[1]['street']=state[1]['street']\n",
    "                state=  preprocess_input(state[1])  \n",
    "                new_state=  preprocess_input(new_state[1]) \n",
    "                new_state[-1]=state[-1]\n",
    "                new_state[-2]=state[-2]\n",
    "                #memory.append(state+ [action, reward]+ new_state)\n",
    "                old_qval = model.predict(state.reshape(1,input_num), batch_size=1)\n",
    "\n",
    "                newQ = model.predict(new_state.reshape(1,input_num), batch_size=1)\n",
    "                maxQ = np.max(newQ)\n",
    "                y = np.zeros((1,6))\n",
    "                y[:] = old_qval[:]\n",
    "                if terminal_state:\n",
    "                    update = reward\n",
    "                else:\n",
    "                    update = (reward + (gamma * maxQ))\n",
    "                y[0][action] = update\n",
    "\n",
    "                X_train.append(state)\n",
    "                y_train.append(y.reshape(6,))\n",
    "                \n",
    "    X_train = np.array(X_train)\n",
    "    y_train = np.array(y_train)  \n",
    "\n",
    "    if epoch >0:\n",
    "        batch_index=np.random.choice(X_old.shape[0],int( X_old.shape[0]*batch_percent))\n",
    "        X_train,X_old=np.vstack([X_train,X_old[batch_index]]),np.vstack([X_train,X_old])\n",
    "        y_train,y_old=np.vstack([y_train,y_old[batch_index]]),np.vstack([y_train,y_old])\n",
    "    else:\n",
    "        #pass\n",
    "        X_old=X_train\n",
    "        y_old=y_train\n",
    "        \n",
    "\n",
    "    print(\"Game #: %s round\" % (epoch,))\n",
    "    df=pd.DataFrame(np.hstack([X_old,y_old]))\n",
    "    df.to_csv(os.path.join(save_folder,'%s.csv'%epoch),sep=';',index=False)\n",
    "    model.fit(X_train, y_train, epochs=100, verbose=0)\n",
    "    \n",
    "    model.save_weights('model%s.h5'%epoch)\n",
    "    print('End epoch %s'% epoch)\n",
    "    if epsilon > 0.1: #decrement epsilon over time\n",
    "        epsilon -= (1/epochs)"
   ]
  },
  {
   "cell_type": "markdown",
   "metadata": {},
   "source": [
    "Тесты (не смотреть)"
   ]
  },
  {
   "cell_type": "code",
   "execution_count": null,
   "metadata": {
    "collapsed": true
   },
   "outputs": [],
   "source": [
    "#df=pd.read_csv(r'C:\\82.csv',sep=';')\n",
    "#y_old=df.iloc[:,-6:].values\n",
    "#X_old=df.iloc[:,:-6].values"
   ]
  },
  {
   "cell_type": "code",
   "execution_count": null,
   "metadata": {
    "collapsed": true
   },
   "outputs": [],
   "source": [
    "model_json = model.to_json()\n",
    "with open(os.path.join(save_folder,'model%s.json'%epoch), \"w\") as json_file:\n",
    "    json_file.write(model_json)\n",
    "# serialize weights to HDF5\n",
    "model.save_weights(os.path.join(r'\\neural\\holdem\\save','model%s.h5'%epoch))\n",
    "#print(\"Saved model to disk\")"
   ]
  },
  {
   "cell_type": "code",
   "execution_count": null,
   "metadata": {
    "collapsed": true
   },
   "outputs": [],
   "source": [
    "# later...\n",
    "\n",
    "# load json and create model\n",
    "json_file = open('model.json', 'r')\n",
    "loaded_model_json = json_file.read()\n",
    "json_file.close()\n",
    "loaded_model = model_from_json(loaded_model_json)\n",
    "# load weights into new model\n",
    "loaded_model.load_weights(\"model.h5\")\n",
    "print(\"Loaded model from disk\")"
   ]
  },
  {
   "cell_type": "code",
   "execution_count": null,
   "metadata": {},
   "outputs": [],
   "source": [
    "f={'start_stack': 0.11148272017837235, 'current_stack': 0.11148272017837235, 'current_stack_min': 0.11148272017837235, 'current_stack_max': 0.11148272017837235, 'alive_players': 9.0, 'pot': 0.0033444816053511705, 'street': 'river', 'dealer_pos': 0.3333333333333333, 'max_stack': 0.11148272017837235, 'min_stack': 0.10925306577480491, 'blind_pos': -0.2222222222222222, 'big_blind_pos': -0.1111111111111111,\n",
    "   'win_rate':1, 'current_stack_abs': 1500}\n",
    "v=[{'action': 'fold', 'amount': 0}, {'action': 'call', 'amount': 30}, {'action': 'raise', 'amount': {'min': 45, 'max': 1500}}]\n",
    "t=model.predict(preprocess_input(f).reshape(1,input_num), batch_size=1)[0]\n",
    "print(t,np.argmax(t))"
   ]
  },
  {
   "cell_type": "code",
   "execution_count": null,
   "metadata": {
    "collapsed": true
   },
   "outputs": [],
   "source": []
  }
 ],
 "metadata": {
  "kernelspec": {
   "display_name": "Python 3",
   "language": "python",
   "name": "python3"
  },
  "language_info": {
   "codemirror_mode": {
    "name": "ipython",
    "version": 3
   },
   "file_extension": ".py",
   "mimetype": "text/x-python",
   "name": "python",
   "nbconvert_exporter": "python",
   "pygments_lexer": "ipython3",
   "version": "3.6.0"
  }
 },
 "nbformat": 4,
 "nbformat_minor": 2
}
