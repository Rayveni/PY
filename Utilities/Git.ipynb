{
 "cells": [
  {
   "cell_type": "markdown",
   "metadata": {},
   "source": [
    "magic команда для jupyter nootebook ,необходим уже установленный Git"
   ]
  },
  {
   "cell_type": "code",
   "execution_count": null,
   "metadata": {},
   "outputs": [],
   "source": [
    "!pip install GitPython"
   ]
  },
  {
   "cell_type": "code",
   "execution_count": null,
   "metadata": {},
   "outputs": [],
   "source": [
    "from git import Repo\n",
    "import os\n",
    "from os import path,mkdir\n",
    "from shutil import copyfile\n",
    "#моя функция для визулизации файлов (достаточно FileTreeMaker.py положить в папку с ноутбуком)\n",
    "from  FileTreeMaker import FileTreeMaker \n",
    "#\"┃ \"\"┣━\"\"┗━\"'  '"
   ]
  },
  {
   "cell_type": "markdown",
   "metadata": {},
   "source": [
    "## Клонируем один репозиторий"
   ]
  },
  {
   "cell_type": "code",
   "execution_count": null,
   "metadata": {},
   "outputs": [],
   "source": [
    "#Создаем папку под репозиторий\n",
    "my_repo_folder='C:\\Git'\n",
    "if not path.exists(my_repo_folder):\n",
    "    mkdir(my_repo_folder)"
   ]
  },
  {
   "cell_type": "code",
   "execution_count": null,
   "metadata": {},
   "outputs": [],
   "source": [
    "#клонируем интересующий репозиторий в директорию\n",
    "git_url='https://github.com/Rayveni/PY.git'\n",
    "Repo.clone_from(git_url, my_repo_folder)"
   ]
  },
  {
   "cell_type": "code",
   "execution_count": null,
   "metadata": {},
   "outputs": [],
   "source": [
    "#визуализируем\n",
    "FileTreeMaker(my_repo_folder,['.git']) #['.git] убирает из дерева папку гит(в ней ничего интересного нет)"
   ]
  },
  {
   "cell_type": "code",
   "execution_count": null,
   "metadata": {},
   "outputs": [],
   "source": [
    "#добавляем новые файлы и папки для последующего коммита на примере этого ноутбука\n",
    "new_folder=path.join(my_repo_folder,'Utilities')\n",
    "os.mkdir(new_folder)\n",
    "notebook_folder=os.environ['USERPROFILE']\n",
    "copyfile(path.join(notebook_folder,'FileTreeMaker.py'),path.join(new_folder,'FileTreeMaker.py'))\n",
    "copyfile(path.join(notebook_folder,'Git.ipynb'),path.join(new_folder,'Git.ipynb'))\n",
    "FileTreeMaker(my_repo_folder,['.git'])"
   ]
  },
  {
   "cell_type": "code",
   "execution_count": null,
   "metadata": {},
   "outputs": [],
   "source": [
    "repo = Repo(folder)\n",
    "repo.git.add(new_folder)\n",
    "repo.git.commit( m='add git ipynb' )\n",
    "repo.git.status()"
   ]
  },
  {
   "cell_type": "code",
   "execution_count": null,
   "metadata": {},
   "outputs": [],
   "source": [
    "with open(path.join(notebook_folder,'git_token.txt'), 'r') as f:\n",
    "    token=f.read()   #считываю токен для авторизации"
   ]
  },
  {
   "cell_type": "code",
   "execution_count": null,
   "metadata": {},
   "outputs": [],
   "source": [
    "repo.git.push('https://'+token+'@github.com/Rayveni/PY.git') #загружаю на гит внесенные правки"
   ]
  },
  {
   "cell_type": "markdown",
   "metadata": {},
   "source": [
    "## Клонируем все public репозитории\n",
    "и перезаписываем ранее склонированные"
   ]
  },
  {
   "cell_type": "code",
   "execution_count": 1,
   "metadata": {},
   "outputs": [],
   "source": [
    "from requests import Session\n",
    "from git import Repo\n",
    "from os import path,mkdir\n",
    "from shutil import rmtree\n",
    "token_path=\"C:\\git_token.txt\"\n",
    "git_user='Rayveni'\n",
    "repos_url = r'https://api.github.com/user/repos'\n",
    "my_repo_folder='C:\\Git'"
   ]
  },
  {
   "cell_type": "code",
   "execution_count": 2,
   "metadata": {},
   "outputs": [],
   "source": [
    "with open(token_path, 'r') as f:\n",
    "    token=f.read()   #считываю токен для авторизации\n",
    "    \n",
    "s=Session()\n",
    "s.auth = (git_user,token)\n",
    "repos=s.get(repos_url).json()"
   ]
  },
  {
   "cell_type": "code",
   "execution_count": 6,
   "metadata": {},
   "outputs": [],
   "source": [
    "if not path.exists(my_repo_folder):\n",
    "    mkdir(my_repo_folder)\n",
    "\n",
    "for _repo in repos:\n",
    "    repo_name,repo_url=_repo['name'],_repo['clone_url']\n",
    "    repo_path=path.join(my_repo_folder,repo_name)\n",
    "    \n",
    "    if path.exists(repo_path):\n",
    "        rmtree(repo_path)\n",
    "    mkdir(repo_path)\n",
    "        \n",
    "    Repo.clone_from(repo_url, repo_path)"
   ]
  }
 ],
 "metadata": {
  "kernelspec": {
   "display_name": "Python 3",
   "language": "python",
   "name": "python3"
  },
  "language_info": {
   "codemirror_mode": {
    "name": "ipython",
    "version": 3
   },
   "file_extension": ".py",
   "mimetype": "text/x-python",
   "name": "python",
   "nbconvert_exporter": "python",
   "pygments_lexer": "ipython3",
   "version": "3.8.8"
  }
 },
 "nbformat": 4,
 "nbformat_minor": 1
}
