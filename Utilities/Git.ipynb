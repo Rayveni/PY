{
 "cells": [
  {
   "cell_type": "code",
   "execution_count": null,
   "metadata": {
    "collapsed": false
   },
   "outputs": [],
   "source": [
    "!pip install GitPython #мэджик команда для jupyter nootebook"
   ]
  },
  {
   "cell_type": "code",
   "execution_count": 1,
   "metadata": {
    "collapsed": false
   },
   "outputs": [],
   "source": [
    "from git import Repo\n",
    "import os\n",
    "from os import path\n",
    "from shutil import copyfile\n",
    "#моя функция для визулизации файлов (достаточно FileTreeMaker.py положить в папку с ноутбуком)\n",
    "from  FileTreeMaker import FileTreeMaker \n",
    "#\"┃ \"\"┣━\"\"┗━\"'  '"
   ]
  },
  {
   "cell_type": "code",
   "execution_count": 2,
   "metadata": {
    "collapsed": false
   },
   "outputs": [],
   "source": [
    "#Создаем папку под репозиторий\n",
    "my_repo_folder='G:\\Git'\n",
    "os.mkdir(my_repo_folder)"
   ]
  },
  {
   "cell_type": "code",
   "execution_count": 4,
   "metadata": {
    "collapsed": false
   },
   "outputs": [
    {
     "name": "stdout",
     "output_type": "stream",
     "text": [
      "Git\n",
      "┗━[DataScience]\n",
      "    ┗━Прогнозирование уровня средней заработной платы в России.ipynb\n"
     ]
    }
   ],
   "source": [
    "#клонируем интересующий репозиторий в папку\n",
    "git_url='https://github.com/Rayveni/PY.git'\n",
    "Repo.clone_from(git_url, my_repo_folder)\n",
    "#визуализируем\n",
    "FileTreeMaker(my_repo_folder,['.git']) #['.git] убирает из дерева папку гит(в ней ничего интересного нет)"
   ]
  },
  {
   "cell_type": "code",
   "execution_count": null,
   "metadata": {
    "collapsed": false
   },
   "outputs": [],
   "source": [
    "#добавляем новые файлы и папки для последующего коммита на примере этого ноутбука\n",
    "new_folder=path.join(my_repo_folder,'Utilities')\n",
    "os.mkdir(new_folder)\n",
    "notebook_folder=os.environ['USERPROFILE']\n",
    "copyfile(path.join(notebook_folder,'FileTreeMaker.py'),path.join(new_folder,'FileTreeMaker.py'))\n",
    "copyfile(path.join(notebook_folder,'Git.ipynb'),path.join(new_folder,'Git.ipynb'))\n",
    "FileTreeMaker(my_repo_folder,['.git'])"
   ]
  },
  {
   "cell_type": "code",
   "execution_count": null,
   "metadata": {
    "collapsed": false
   },
   "outputs": [],
   "source": [
    "repo = Repo(folder)\n",
    "repo.git.add(new_folder)\n",
    "repo.git.commit( m='add git ipynb' )\n",
    "repo.git.status()"
   ]
  },
  {
   "cell_type": "code",
   "execution_count": null,
   "metadata": {
    "collapsed": false
   },
   "outputs": [],
   "source": [
    "with open(path.join(notebook_folder,'git_token.txt'), 'r') as f:\n",
    "    token=f.read()   #считываю токен для авторизации"
   ]
  },
  {
   "cell_type": "code",
   "execution_count": null,
   "metadata": {
    "collapsed": false
   },
   "outputs": [],
   "source": [
    "repo.git.push('https://'+token+'@github.com/Rayveni/PY.git') #загружаю на гит внесенные правки"
   ]
  }
 ],
 "metadata": {
  "kernelspec": {
   "display_name": "Python 3",
   "language": "python",
   "name": "python3"
  },
  "language_info": {
   "codemirror_mode": {
    "name": "ipython",
    "version": 3
   },
   "file_extension": ".py",
   "mimetype": "text/x-python",
   "name": "python",
   "nbconvert_exporter": "python",
   "pygments_lexer": "ipython3",
   "version": "3.5.1"
  }
 },
 "nbformat": 4,
 "nbformat_minor": 0
}
