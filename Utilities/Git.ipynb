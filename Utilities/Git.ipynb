{
 "cells": [
  {
   "cell_type": "code",
   "execution_count": null,
   "metadata": {
    "collapsed": false
   },
   "outputs": [],
   "source": [
    "!pip install GitPython #маджик команда для jupyter nootebook"
   ]
  },
  {
   "cell_type": "code",
   "execution_count": 23,
   "metadata": {
    "collapsed": false
   },
   "outputs": [],
   "source": [
    "from git import Repo\n",
    "import os\n",
    "from os import path\n",
    "from shutil import copyfile\n",
    "#моя функция для визулизации файлов (достаточно FileTreeMaker.py положить в папку с ноутбуком)\n",
    "from  FileTreeMaker import FileTreeMaker \n",
    "#\"┃ \"\"┣━\"\"┗━\"'  '"
   ]
  },
  {
   "cell_type": "code",
   "execution_count": 10,
   "metadata": {
    "collapsed": false
   },
   "outputs": [],
   "source": [
    "#Создаем папку под репозиторий\n",
    "folder='G:\\Git'\n",
    "os.mkdir(folder)"
   ]
  },
  {
   "cell_type": "code",
   "execution_count": 13,
   "metadata": {
    "collapsed": false
   },
   "outputs": [
    {
     "name": "stdout",
     "output_type": "stream",
     "text": [
      "Git\n",
      "┗━[DataScience]\n",
      "    ┗━Прогнозирование уровня средней заработной платы в России.ipynb\n"
     ]
    }
   ],
   "source": [
    "#клонируем интересующий репозиторий в папку\n",
    "git_url='https://github.com/Rayveni/PY.git'\n",
    "repo_dir=folder\n",
    "Repo.clone_from(git_url, repo_dir)\n",
    "#визуализируем\n",
    "FileTreeMaker(folder,['.git']) #['.git] убирает из дерева папку гит(в ней ничего интересного нет)"
   ]
  },
  {
   "cell_type": "code",
   "execution_count": 37,
   "metadata": {
    "collapsed": false
   },
   "outputs": [
    {
     "name": "stdout",
     "output_type": "stream",
     "text": [
      "Git\n",
      "┣━[DataScience]\n",
      "┃   ┗━Прогнозирование уровня средней заработной платы в России.ipynb\n",
      "┗━[Полезности]\n",
      "    ┣━FileTreeMaker.py\n",
      "    ┗━Git.ipynb\n"
     ]
    }
   ],
   "source": [
    "#добавляем новые файлы и папки для последующего коммита на примере этого ноутбука\n",
    "new_folder=path.join(folder,'Utilities')\n",
    "os.mkdir(new_folder)\n",
    "notebook_folder=os.environ['USERPROFILE']\n",
    "copyfile(path.join(notebook_folder,'FileTreeMaker.py'),path.join(new_folder,'FileTreeMaker.py'))\n",
    "copyfile(path.join(notebook_folder,'Git.ipynb'),path.join(new_folder,'Git.ipynb'))\n",
    "FileTreeMaker(folder,['.git'])"
   ]
  },
  {
   "cell_type": "code",
   "execution_count": 38,
   "metadata": {
    "collapsed": false
   },
   "outputs": [
    {
     "data": {
      "text/plain": [
       "'On branch master\\nYour branch is up-to-date with \\'origin/master\\'.\\nUntracked files:\\n  (use \"git add <file>...\" to include in what will be committed)\\n\\n\\t\"\\\\320\\\\237\\\\320\\\\276\\\\320\\\\273\\\\320\\\\265\\\\320\\\\267\\\\320\\\\275\\\\320\\\\276\\\\321\\\\201\\\\321\\\\202\\\\320\\\\270/\"\\n\\nnothing added to commit but untracked files present (use \"git add\" to track)'"
      ]
     },
     "execution_count": 38,
     "metadata": {},
     "output_type": "execute_result"
    }
   ],
   "source": [
    "repo = Repo(folder)\n",
    "repo.git.status()"
   ]
  },
  {
   "cell_type": "code",
   "execution_count": 26,
   "metadata": {
    "collapsed": false
   },
   "outputs": [],
   "source": []
  },
  {
   "cell_type": "code",
   "execution_count": null,
   "metadata": {
    "collapsed": true
   },
   "outputs": [],
   "source": [
    "repo = git.Repo( '/home/me/repodir' )\n",
    "print repo.git.status()\n",
    "# checkout and track a remote branch\n",
    "print repo.git.checkout( 'origin/somebranch', b='somebranch' )\n",
    "# add a file\n",
    "print repo.git.add( 'somefile' )\n",
    "# commit\n",
    "print repo.git.commit( m='my commit message' )\n",
    "# now we are one commit ahead\n",
    "print repo.git.status()"
   ]
  }
 ],
 "metadata": {
  "kernelspec": {
   "display_name": "Python 3",
   "language": "python",
   "name": "python3"
  },
  "language_info": {
   "codemirror_mode": {
    "name": "ipython",
    "version": 3
   },
   "file_extension": ".py",
   "mimetype": "text/x-python",
   "name": "python",
   "nbconvert_exporter": "python",
   "pygments_lexer": "ipython3",
   "version": "3.5.1"
  }
 },
 "nbformat": 4,
 "nbformat_minor": 0
}
