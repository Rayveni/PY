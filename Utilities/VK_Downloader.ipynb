{
 "cells": [
  {
   "cell_type": "markdown",
   "metadata": {},
   "source": [
    "oauth.vk.com/authorize?client_id=3711445&scope=audio&\n",
    "\n",
    "redirect_uri=https://oauth.vk.com/blank.html&display=page&v=5.0&response_type=token\n",
    "\n",
    "https://oauth.vk.com/blank.html#access_token=5780bda67ea7458d28a1e63faf778bf69a8733ed3474a95e26b1e44ef0e5055314159b8f900d33c958aca&expires_in=86400&user_id=1531080"
   ]
  },
  {
   "cell_type": "markdown",
   "metadata": {},
   "source": [
    "https://oauth.vk.com/authorize?client_id=ВАШ_ИД&scope=offline,group,photos,wall&display=page&response_type=token&redirect_uri=https://oauth.vk.com/blank.html"
   ]
  },
  {
   "cell_type": "markdown",
   "metadata": {},
   "source": [
    "https://oauth.vk.com/blank.html#access_token=fedaa04b13885ae8e5cd8278134978b6438ad8121f9231cf48c0f11c38d577abae5c5dc4561949342ce3c&expires_in=86400&user_id=1531080"
   ]
  }
 ],
 "metadata": {
  "kernelspec": {
   "display_name": "Python 3",
   "language": "python",
   "name": "python3"
  },
  "language_info": {
   "codemirror_mode": {
    "name": "ipython",
    "version": 3
   },
   "file_extension": ".py",
   "mimetype": "text/x-python",
   "name": "python",
   "nbconvert_exporter": "python",
   "pygments_lexer": "ipython3",
   "version": "3.5.1"
  }
 },
 "nbformat": 4,
 "nbformat_minor": 0
}
